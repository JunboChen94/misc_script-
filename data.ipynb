{
 "cells": [
  {
   "cell_type": "code",
   "execution_count": 1,
   "metadata": {},
   "outputs": [],
   "source": [
    "import os\n",
    "import numpy as np\n",
    "import pandas as pd \n",
    "import collections\n",
    "import datetime\n",
    "from matplotlib import pyplot as plt"
   ]
  },
  {
   "cell_type": "code",
   "execution_count": null,
   "metadata": {},
   "outputs": [],
   "source": []
  },
  {
   "cell_type": "code",
   "execution_count": null,
   "metadata": {},
   "outputs": [],
   "source": [
    "PATH = '.'"
   ]
  },
  {
   "cell_type": "markdown",
   "metadata": {},
   "source": [
    "Check average time elapsed from time point 1 to each other time point"
   ]
  },
  {
   "cell_type": "code",
   "execution_count": 26,
   "metadata": {},
   "outputs": [],
   "source": [
    "def get_timestamp_df(df, whichtime):\n",
    "    assert whichtime in ['ImagingDiffusion.Main.VisitDate', 'ImagingDiffusion.Image Information.ImgStdyDateTime'] \n",
    "    time_record = collections.defaultdict(dict)\n",
    "    for index, row in df.iterrows():\n",
    "        # guid + subjectId would be unique identifier\n",
    "        # could be same subject (guid) has multiple mTBI record (subjectId)\n",
    "        guid, subjectId = row['ImagingDiffusion.Main.GUID'], row['ImagingDiffusion.Main.SubjectIDNum']\n",
    "        primaryKey = guid+'-'+str(int(subjectId))\n",
    "        # extract timepoint and time\n",
    "        timepoint = row['ImagingDiffusion.Main.GeneralNotesTxt']\n",
    "        time = row[whichtime]\n",
    "        # save timepoint to record\n",
    "        # could be multiple entry for the same timepoint, since there might be multiple scanning with difference sequencing\n",
    "        #if timepoint in time_record[primaryKey]:\n",
    "        #    print(f'warning: has duplicate entry: {primaryKey}-{timepoint}')\n",
    "        time_record[primaryKey][timepoint] = datetime.datetime.strptime(time, '%Y-%m-%dT%H:%M:%SZ') \n",
    "        # convert to dataframe\n",
    "    df_out = pd.DataFrame(time_record).transpose()\n",
    "    df_out = df_out[['24-48 hours', 'Asymptomatic', '7 days Post-Unrestricted Return to Play', '6 months post-injury']]\n",
    "    return df_out\n",
    "\n",
    "def get_timelap_mean_std(df_timelap):\n",
    "    timplap = {}\n",
    "    for key in df_timelap.columns[1:]:\n",
    "        diffs = (df_timelap[key] - df_timelap['24-48 hours']).dropna()\n",
    "        diffs_days = [diff.days for diff in diffs if diff]\n",
    "        timplap[key] = dict(mean=np.mean(diffs_days), std=np.std(diffs_days), \n",
    "                            minv=np.min(diffs_days), maxv=np.max(diffs_days))\n",
    "    return timplap"
   ]
  },
  {
   "cell_type": "code",
   "execution_count": 2,
   "metadata": {},
   "outputs": [],
   "source": [
    "# read the dti data we have\n",
    "avail_dti_info = pd.read_csv('./dti_info.csv')\n",
    "# read all the dti data\n",
    "all_dti_info = pd.read_csv('./all_dti_info.csv')\n"
   ]
  },
  {
   "cell_type": "code",
   "execution_count": 34,
   "metadata": {},
   "outputs": [],
   "source": [
    "# add sub control id \n",
    "avail_dti_info['cohort'] = avail_dti_info['ImagingDiffusion.Main.GUID'].apply(lambda x: 1*(x in allcontrol1ids) + 2*(x in allcontrol2ids)) * (avail_dti_info['ImagingDiffusion.Main.CaseContrlInd'] == 'Control')\n",
    "#avail_dti_info.to_csv('./dti_info.csv')\n",
    "\n",
    "\n",
    "len(set(avail_dti_info['ImagingDiffusion.Main.GUID'].values))\n",
    "\n",
    "# add sub control id \n",
    "all_dti_info = all_dti_info.dropna(subset=['ImagingDiffusion.Main.GUID'])\n",
    "all_dti_info['cohort'] = all_dti_info['ImagingDiffusion.Main.GUID'].apply(lambda x: 1*(x in allcontrol1ids) + 2*(x in allcontrol2ids)) * (all_dti_info['ImagingDiffusion.Main.CaseContrlInd'] == 'Control')\n",
    "#all_dti_info.to_csv('./all_dti_info.csv')\n",
    "\n"
   ]
  },
  {
   "cell_type": "code",
   "execution_count": 3,
   "metadata": {},
   "outputs": [
    {
     "name": "stdout",
     "output_type": "stream",
     "text": [
      "['Case']\n",
      "['Control']\n",
      "['Control']\n"
     ]
    }
   ],
   "source": [
    "# make sure cohort and control/case match, guid has overlap between control1 and \n",
    "print(np.unique(all_dti_info[all_dti_info['cohort'] == 0]['ImagingDiffusion.Main.CaseContrlInd'].values))\n",
    "print(np.unique(all_dti_info[all_dti_info['cohort'] == 1]['ImagingDiffusion.Main.CaseContrlInd'].values))\n",
    "print(np.unique(all_dti_info[all_dti_info['cohort'] == 2]['ImagingDiffusion.Main.CaseContrlInd'].values))"
   ]
  },
  {
   "cell_type": "code",
   "execution_count": 4,
   "metadata": {},
   "outputs": [
    {
     "name": "stdout",
     "output_type": "stream",
     "text": [
      "['Case']\n",
      "['Control']\n",
      "['Control']\n"
     ]
    }
   ],
   "source": [
    "print(np.unique(avail_dti_info[avail_dti_info['cohort'] == 0]['ImagingDiffusion.Main.CaseContrlInd'].values))\n",
    "print(np.unique(avail_dti_info[avail_dti_info['cohort'] == 1]['ImagingDiffusion.Main.CaseContrlInd'].values))\n",
    "print(np.unique(avail_dti_info[avail_dti_info['cohort'] == 2]['ImagingDiffusion.Main.CaseContrlInd'].values))"
   ]
  },
  {
   "cell_type": "code",
   "execution_count": 5,
   "metadata": {},
   "outputs": [
    {
     "data": {
      "text/plain": [
       "(1054, 160)"
      ]
     },
     "execution_count": 5,
     "metadata": {},
     "output_type": "execute_result"
    }
   ],
   "source": [
    "avail_dti_info.shape"
   ]
  },
  {
   "cell_type": "code",
   "execution_count": 6,
   "metadata": {},
   "outputs": [
    {
     "data": {
      "text/plain": [
       "(array([0, 1, 2]), array([354, 319, 381]))"
      ]
     },
     "execution_count": 6,
     "metadata": {},
     "output_type": "execute_result"
    }
   ],
   "source": [
    "np.unique(avail_dti_info['cohort'], return_counts=True)"
   ]
  },
  {
   "cell_type": "markdown",
   "metadata": {},
   "source": [
    "Check Number of Timestamp "
   ]
  },
  {
   "cell_type": "code",
   "execution_count": 39,
   "metadata": {},
   "outputs": [],
   "source": [
    "def get_comb_keys_dti(data):\n",
    "    timepoints = ['24-48 hours', 'Asymptomatic', '7 days Post-Unrestricted Return to Play', '6 months post-injury']\n",
    "    dti_keys = ['-'.join([row['ImagingDiffusion.Main.GUID'], str(int(row['ImagingDiffusion.Main.SubjectIDNum'])), str(timepoints.index(row['ImagingDiffusion.Main.GeneralNotesTxt']))])\n",
    "        for i, row in \n",
    "        data.dropna(axis=0, subset=['ImagingDiffusion.Main.GUID']).iterrows()]\n",
    "    dti_keys = set(dti_keys)\n",
    "    return dti_keys "
   ]
  },
  {
   "cell_type": "code",
   "execution_count": 40,
   "metadata": {},
   "outputs": [],
   "source": [
    "def get_scans(df):\n",
    "    scans = []\n",
    "    for i in range(3):\n",
    "        print(f\"cohort{i}:\")\n",
    "        data = df.loc[df['cohort'] == i]\n",
    "        dti_keys = get_comb_keys_dti(data)\n",
    "        print(len(dti_keys))\n",
    "        d = collections.defaultdict(list)\n",
    "        for key in dti_keys:\n",
    "            d[key[:-2]].append(key[-1])\n",
    "        print(\"subejct num\")\n",
    "        print(len(d))\n",
    "        scans.append(d)\n",
    "    return scans"
   ]
  },
  {
   "cell_type": "code",
   "execution_count": 41,
   "metadata": {},
   "outputs": [],
   "source": [
    "def get_scans_general(df):\n",
    "    scans = []\n",
    "    for i in range(3):\n",
    "        print(f\"cohort{i}:\")\n",
    "        data = df.loc[df['cohort'] == i]\n",
    "        dti_keys = set(data['key'].values)\n",
    "        print(len(dti_keys))\n",
    "        d = collections.defaultdict(list)\n",
    "        for key in dti_keys:\n",
    "            d[key[:-2]].append(key[-1])\n",
    "        print(\"subejct num\")\n",
    "        print(len(d))\n",
    "        scans.append(d)\n",
    "    return scans"
   ]
  },
  {
   "cell_type": "code",
   "execution_count": 42,
   "metadata": {},
   "outputs": [
    {
     "name": "stdout",
     "output_type": "stream",
     "text": [
      "cohort0:\n",
      "365\n",
      "subejct num\n",
      "131\n",
      "cohort1:\n",
      "366\n",
      "subejct num\n",
      "103\n",
      "cohort2:\n",
      "341\n",
      "subejct num\n",
      "101\n",
      "cohort0:\n",
      "(('0',), 11)\n",
      "(('0', '1'), 13)\n",
      "(('0', '1', '2'), 11)\n",
      "(('0', '1', '2', '3'), 41)\n",
      "(('0', '1', '3'), 14)\n",
      "(('0', '2'), 3)\n",
      "(('0', '2', '3'), 7)\n",
      "(('0', '3'), 3)\n",
      "(('1',), 7)\n",
      "(('1', '2'), 5)\n",
      "(('1', '2', '3'), 9)\n",
      "(('1', '3'), 1)\n",
      "(('2',), 1)\n",
      "(('2', '3'), 4)\n",
      "(('3',), 1)\n",
      "cohort1:\n",
      "(('0',), 1)\n",
      "(('0', '1'), 2)\n",
      "(('0', '1', '2'), 23)\n",
      "(('0', '1', '2', '3'), 67)\n",
      "(('0', '1', '3'), 3)\n",
      "(('0', '2'), 1)\n",
      "(('1',), 1)\n",
      "(('1', '2'), 1)\n",
      "(('1', '2', '3'), 3)\n",
      "(('2',), 1)\n",
      "cohort2:\n",
      "(('0',), 3)\n",
      "(('0', '1'), 3)\n",
      "(('0', '1', '2'), 26)\n",
      "(('0', '1', '2', '3'), 58)\n",
      "(('0', '2'), 3)\n",
      "(('1',), 1)\n",
      "(('1', '2'), 2)\n",
      "(('1', '2', '3'), 3)\n",
      "(('2',), 2)\n"
     ]
    },
    {
     "name": "stderr",
     "output_type": "stream",
     "text": [
      "/gpfs/home/Jc7489/miniconda3/envs/research/lib/python3.8/site-packages/numpy/core/_asarray.py:136: VisibleDeprecationWarning: Creating an ndarray from ragged nested sequences (which is a list-or-tuple of lists-or-tuples-or ndarrays with different lengths or shapes) is deprecated. If you meant to do this, you must specify 'dtype=object' when creating the ndarray\n",
      "  return array(a, dtype, copy=False, order=order, subok=True)\n"
     ]
    }
   ],
   "source": [
    "scans = get_scans(all_dti_info)\n",
    "for i in range(3):\n",
    "    print(f\"cohort{i}:\")\n",
    "    scan = scans[i]\n",
    "    x = [tuple(sorted(v)) for k, v in scan.items()]\n",
    "    count = list(zip(*np.unique(x, return_counts=True)))\n",
    "    for i in count:\n",
    "        print(i)"
   ]
  },
  {
   "cell_type": "code",
   "execution_count": 43,
   "metadata": {},
   "outputs": [
    {
     "name": "stdout",
     "output_type": "stream",
     "text": [
      "cohort: 0\n",
      "[('0', 103), ('1', 101), ('2', 81), ('3', 80)]\n",
      "cohort: 1\n",
      "[('0', 97), ('1', 100), ('2', 96), ('3', 73)]\n",
      "cohort: 2\n",
      "[('0', 93), ('1', 93), ('2', 94), ('3', 61)]\n"
     ]
    }
   ],
   "source": [
    "for i in range(3):\n",
    "    print(f'cohort: {i}')\n",
    "    scan = scans[i]\n",
    "    timepoints = sum ([v for v in scan.values()], [])\n",
    "    print(list(zip(*np.unique(timepoints, return_counts=True))))"
   ]
  },
  {
   "cell_type": "code",
   "execution_count": 45,
   "metadata": {},
   "outputs": [
    {
     "name": "stdout",
     "output_type": "stream",
     "text": [
      "all dti:\n",
      "606 non b0-field map scans\n",
      "{'Asymptomatic': {'mean': 8.544303797468354, 'std': 7.014988416953059, 'minv': 1, 'maxv': 40}, '7 days Post-Unrestricted Return to Play': {'mean': 24.161290322580644, 'std': 12.88559279043359, 'minv': 8, 'maxv': 94}, '6 months post-injury': {'mean': 178.8153846153846, 'std': 26.140385676451093, 'minv': 50, 'maxv': 245}}\n",
      "avail dti:\n",
      "354 non b0-field map scans\n",
      "{'Asymptomatic': {'mean': 9.0, 'std': 6.263808275933025, 'minv': 2, 'maxv': 25}, '7 days Post-Unrestricted Return to Play': {'mean': 26.892857142857142, 'std': 16.377988899989013, 'minv': 8, 'maxv': 94}, '6 months post-injury': {'mean': 185.5, 'std': 14.729707590929486, 'minv': 150, 'maxv': 245}}\n"
     ]
    }
   ],
   "source": [
    "whichtime = 'ImagingDiffusion.Main.VisitDate' # ImagingDiffusion.Main.VisitDate' \n",
    "for i, df in enumerate([all_dti_info, avail_dti_info]):\n",
    "    print(['all dti', 'avail dti'][i]+\":\")\n",
    "    # choose only cases\n",
    "    df = df.loc[df['cohort']==0]    \n",
    "    # drop b0-field map: row which does not have GUID \n",
    "    df = df.dropna(axis=0, subset=['ImagingDiffusion.Main.GUID'])\n",
    "    print(f'{df.shape[0]} non b0-field map scans')\n",
    "    # get time table\n",
    "    df_timelap = get_timestamp_df(df, whichtime)\n",
    "    # get stat of timeelap\n",
    "    timelap_stat = get_timelap_mean_std(df_timelap)\n",
    "    print(timelap_stat)\n",
    "    "
   ]
  },
  {
   "cell_type": "markdown",
   "metadata": {},
   "source": [
    "Check SCAT3 at different timepoint"
   ]
  },
  {
   "cell_type": "code",
   "execution_count": 50,
   "metadata": {},
   "outputs": [],
   "source": [
    "all_SCAT3 = pd.read_csv('../common_data/query_result_SCAT3_2019-07-17T15-31-366293200903750909084.csv', low_memory=False)\n",
    "all_SCAT3['cohort'] = all_SCAT3['SCAT3.Main.GUID'].apply(lambda x: 1*(x in allcontrol1ids) + 2*(x in allcontrol2ids)) * (all_SCAT3['SCAT3.Main.CaseContrlInd'] == 'Control')\n",
    "\n",
    "timepoints = ['24-48 hours', 'Asymptomatic', 'Unrestricted Return to Play', '6 m onths post-injury']\n",
    "SoIs = ['SCAT3.Symptom Evaluation.Scat3BlurryVision', 'SCAT3.Scoring Summary.Scat3TotalSymptoms', 'SCAT3.Scoring Summary.Scat3TotSympScore']\n",
    "case_control = ['Case', 'Control']"
   ]
  },
  {
   "cell_type": "code",
   "execution_count": 51,
   "metadata": {},
   "outputs": [],
   "source": [
    "def score_stat(df, timepoint_key, timepoints):\n",
    "    for i in range(0,3):\n",
    "        print(f\"cohort {i}\")\n",
    "        df_cohort = df.loc[df['cohort'] == i]\n",
    "        for timepoint in timepoints:\n",
    "            print(timepoint+\":\")\n",
    "            stat = {}\n",
    "            df_t = df_cohort.loc[df_cohort[timepoint_key] == timepoint]\n",
    "            for SoI in SoIs:\n",
    "                print(SoI)\n",
    "                df_score = df_t[SoI]\n",
    "                df_score = df_score.dropna().to_list()\n",
    "                print(len(df_score))\n",
    "                stat = dict(mean=np.mean(df_score),\n",
    "                            std=np.std(df_score),\n",
    "                            minv=np.min(df_score),\n",
    "                            maxv=np.max(df_score))\n",
    "                print(SoI)\n",
    "                print(f\"{', '.join([f'{k} : {v}' for k, v in stat.items()])}\")\n",
    "        \n",
    "    \n",
    "    "
   ]
  },
  {
   "cell_type": "code",
   "execution_count": 53,
   "metadata": {},
   "outputs": [
    {
     "name": "stdout",
     "output_type": "stream",
     "text": [
      "SCAT3/dMRI 923/1072 overlapped\n"
     ]
    }
   ],
   "source": [
    "dti_info = all_dti_info #all_dti_info\n",
    "\n",
    "timepoints = ['24-48 hours', 'Asymptomatic', '7 days Post-Unrestricted Return to Play', '6 months post-injury']\n",
    "dti_keys = ['-'.join([row['ImagingDiffusion.Main.GUID'], str(int(row['ImagingDiffusion.Main.SubjectIDNum'])), str(timepoints.index(row['ImagingDiffusion.Main.GeneralNotesTxt']))])\n",
    "        for i, row in \n",
    "        dti_info.dropna(axis=0, subset=['ImagingDiffusion.Main.GUID']).iterrows()]\n",
    "dti_keys = set(dti_keys)\n",
    "\n",
    "timepoints = ['24-48 hours', 'Asymptomatic', 'Unrestricted Return to Play', '6 m onths post-injury']\n",
    "all_SCAT3_4t = all_SCAT3.loc[all_SCAT3['SCAT3.Form Administration.ContextTypeOTH'].isin(timepoints)]\n",
    "\n",
    "keys = all_SCAT3_4t['SCAT3.Main.GUID'] +'-'+  \\\n",
    "all_SCAT3_4t['SCAT3.Main.SubjectIDNum'].apply(lambda x:str(int(x)))+'-'+\\\n",
    "all_SCAT3_4t['SCAT3.Form Administration.ContextTypeOTH'].apply(lambda x:str(timepoints.index(x)))\n",
    "all_SCAT3_4t = all_SCAT3_4t.assign(key = keys)\n",
    "\n",
    "dti_SCAT_4t = all_SCAT3_4t.loc[all_SCAT3_4t['key'].isin(dti_keys)]\n",
    "print(f'SCAT3/dMRI {dti_SCAT_4t.shape[0]}/{len(dti_keys)} overlapped')\n",
    "dti_SCAT_4t.to_csv('all_dti_SCAT3_overlap.csv')"
   ]
  },
  {
   "cell_type": "code",
   "execution_count": 59,
   "metadata": {},
   "outputs": [],
   "source": [
    "def get_scans_general(df ,key='key'):\n",
    "    scans = []\n",
    "    for i in range(3):\n",
    "        print(f\"cohort{i}:\")\n",
    "        data = df.loc[df['cohort'] == i]\n",
    "        dti_keys = set(data[key].values)\n",
    "        print(len(data[key].values))\n",
    "        print(len(dti_keys))\n",
    "        d = collections.defaultdict(list)\n",
    "        for dti_key in dti_keys:\n",
    "            d[dti_key[:-2]].append(dti_key[-1])\n",
    "        print(\"subejct num\")\n",
    "        print(len(d))\n",
    "        scans.append(d)\n",
    "    return scans"
   ]
  },
  {
   "cell_type": "code",
   "execution_count": 60,
   "metadata": {},
   "outputs": [
    {
     "data": {
      "text/plain": [
       "(array([0, 1, 2]), array([155, 125, 124]))"
      ]
     },
     "execution_count": 60,
     "metadata": {},
     "output_type": "execute_result"
    }
   ],
   "source": [
    "np.unique(dti_SCAT_4t['cohort'], return_counts=True)"
   ]
  },
  {
   "cell_type": "code",
   "execution_count": 61,
   "metadata": {},
   "outputs": [
    {
     "name": "stdout",
     "output_type": "stream",
     "text": [
      "cohort0:\n",
      "155\n",
      "155\n",
      "subejct num\n",
      "61\n",
      "cohort1:\n",
      "125\n",
      "125\n",
      "subejct num\n",
      "39\n",
      "cohort2:\n",
      "124\n",
      "124\n",
      "subejct num\n",
      "39\n",
      "cohort0:\n",
      "(('0',), 8)\n",
      "(('0', '1'), 6)\n",
      "(('0', '1', '2'), 3)\n",
      "(('0', '1', '2', '3'), 17)\n",
      "(('0', '1', '3'), 5)\n",
      "(('0', '2', '3'), 3)\n",
      "(('0', '3'), 1)\n",
      "(('1',), 8)\n",
      "(('1', '2'), 2)\n",
      "(('1', '2', '3'), 4)\n",
      "(('1', '3'), 2)\n",
      "(('2', '3'), 2)\n",
      "cohort1:\n",
      "(('0',), 1)\n",
      "(('0', '1'), 3)\n",
      "(('0', '1', '2'), 5)\n",
      "(('0', '1', '2', '3'), 17)\n",
      "(('0', '1', '3'), 9)\n",
      "(('0', '2'), 1)\n",
      "(('0', '3'), 1)\n",
      "(('1', '2', '3'), 1)\n",
      "(('3',), 1)\n",
      "cohort2:\n",
      "(('0',), 1)\n",
      "(('0', '1'), 2)\n",
      "(('0', '1', '2'), 8)\n",
      "(('0', '1', '2', '3'), 17)\n",
      "(('0', '1', '3'), 5)\n",
      "(('0', '2'), 2)\n",
      "(('0', '3'), 1)\n",
      "(('1', '2'), 1)\n",
      "(('1', '2', '3'), 1)\n",
      "(('2',), 1)\n"
     ]
    },
    {
     "name": "stderr",
     "output_type": "stream",
     "text": [
      "/gpfs/home/Jc7489/miniconda3/envs/research/lib/python3.8/site-packages/numpy/core/_asarray.py:136: VisibleDeprecationWarning: Creating an ndarray from ragged nested sequences (which is a list-or-tuple of lists-or-tuples-or ndarrays with different lengths or shapes) is deprecated. If you meant to do this, you must specify 'dtype=object' when creating the ndarray\n",
      "  return array(a, dtype, copy=False, order=order, subok=True)\n"
     ]
    }
   ],
   "source": [
    "scans = get_scans_general(dti_SCAT_4t)\n",
    "for i in range(3):\n",
    "    print(f\"cohort{i}:\")\n",
    "    scan = scans[i]\n",
    "    x = [tuple(sorted(v)) for k, v in scan.items()]\n",
    "    count = list(zip(*np.unique(x, return_counts=True)))\n",
    "    for i in count:\n",
    "        print(i)"
   ]
  },
  {
   "cell_type": "code",
   "execution_count": 62,
   "metadata": {},
   "outputs": [
    {
     "name": "stdout",
     "output_type": "stream",
     "text": [
      "cohort: 0\n",
      "[('0', 43), ('1', 47), ('2', 31), ('3', 34)]\n",
      "cohort: 1\n",
      "[('0', 37), ('1', 35), ('2', 24), ('3', 29)]\n",
      "cohort: 2\n",
      "[('0', 36), ('1', 34), ('2', 30), ('3', 24)]\n"
     ]
    }
   ],
   "source": [
    "for i in range(3):\n",
    "    print(f'cohort: {i}')\n",
    "    scan = scans[i]\n",
    "    timepoints = sum ([v for v in scan.values()], [])\n",
    "    print(list(zip(*np.unique(timepoints, return_counts=True))))"
   ]
  },
  {
   "cell_type": "code",
   "execution_count": 296,
   "metadata": {},
   "outputs": [
    {
     "name": "stdout",
     "output_type": "stream",
     "text": [
      "all CARE data statistics\n",
      "cohort 0\n",
      "24-48 hours:\n",
      "SCAT3.Symptom Evaluation.Scat3BlurryVision\n",
      "43\n",
      "SCAT3.Symptom Evaluation.Scat3BlurryVision\n",
      "mean : 0.6511627906976745, std : 1.2367196093310076, minv : 0.0, maxv : 5.0\n",
      "SCAT3.Scoring Summary.Scat3TotalSymptoms\n",
      "41\n",
      "SCAT3.Scoring Summary.Scat3TotalSymptoms\n",
      "mean : 12.24390243902439, std : 5.498472017485151, minv : 0.0, maxv : 22.0\n",
      "SCAT3.Scoring Summary.Scat3TotSympScore\n",
      "43\n",
      "SCAT3.Scoring Summary.Scat3TotSympScore\n",
      "mean : 27.209302325581394, std : 20.205408140344545, minv : 0.0, maxv : 83.0\n",
      "Asymptomatic:\n",
      "SCAT3.Symptom Evaluation.Scat3BlurryVision\n",
      "47\n",
      "SCAT3.Symptom Evaluation.Scat3BlurryVision\n",
      "mean : 0.0, std : 0.0, minv : 0.0, maxv : 0.0\n",
      "SCAT3.Scoring Summary.Scat3TotalSymptoms\n",
      "38\n",
      "SCAT3.Scoring Summary.Scat3TotalSymptoms\n",
      "mean : 1.394736842105263, std : 1.8713838629011608, minv : 0.0, maxv : 8.0\n",
      "SCAT3.Scoring Summary.Scat3TotSympScore\n",
      "47\n",
      "SCAT3.Scoring Summary.Scat3TotSympScore\n",
      "mean : 1.4042553191489362, std : 2.3124047947563446, minv : 0.0, maxv : 11.0\n",
      "Unrestricted Return to Play:\n",
      "SCAT3.Symptom Evaluation.Scat3BlurryVision\n",
      "31\n",
      "SCAT3.Symptom Evaluation.Scat3BlurryVision\n",
      "mean : 0.0, std : 0.0, minv : 0.0, maxv : 0.0\n",
      "SCAT3.Scoring Summary.Scat3TotalSymptoms\n",
      "21\n",
      "SCAT3.Scoring Summary.Scat3TotalSymptoms\n",
      "mean : 0.7142857142857143, std : 2.073480100674023, minv : 0.0, maxv : 8.0\n",
      "SCAT3.Scoring Summary.Scat3TotSympScore\n",
      "31\n",
      "SCAT3.Scoring Summary.Scat3TotSympScore\n",
      "mean : 0.7419354838709677, std : 2.7470540459411317, minv : 0.0, maxv : 13.0\n",
      "6 m onths post-injury:\n",
      "SCAT3.Symptom Evaluation.Scat3BlurryVision\n",
      "34\n",
      "SCAT3.Symptom Evaluation.Scat3BlurryVision\n",
      "mean : 0.029411764705882353, std : 0.1689577248981773, minv : 0.0, maxv : 1.0\n",
      "SCAT3.Scoring Summary.Scat3TotalSymptoms\n",
      "29\n",
      "SCAT3.Scoring Summary.Scat3TotalSymptoms\n",
      "mean : 1.206896551724138, std : 2.074131481630699, minv : 0.0, maxv : 7.0\n",
      "SCAT3.Scoring Summary.Scat3TotSympScore\n",
      "34\n",
      "SCAT3.Scoring Summary.Scat3TotSympScore\n",
      "mean : 1.5588235294117647, std : 3.491090984631563, minv : 0.0, maxv : 16.0\n",
      "cohort 1\n",
      "24-48 hours:\n",
      "SCAT3.Symptom Evaluation.Scat3BlurryVision\n",
      "37\n",
      "SCAT3.Symptom Evaluation.Scat3BlurryVision\n",
      "mean : 0.02702702702702703, std : 0.16216216216216217, minv : 0.0, maxv : 1.0\n",
      "SCAT3.Scoring Summary.Scat3TotalSymptoms\n",
      "31\n",
      "SCAT3.Scoring Summary.Scat3TotalSymptoms\n",
      "mean : 3.225806451612903, std : 4.9233458163179185, minv : 0.0, maxv : 19.0\n",
      "SCAT3.Scoring Summary.Scat3TotSympScore\n",
      "37\n",
      "SCAT3.Scoring Summary.Scat3TotSympScore\n",
      "mean : 4.054054054054054, std : 6.770148890318303, minv : 0.0, maxv : 27.0\n",
      "Asymptomatic:\n",
      "SCAT3.Symptom Evaluation.Scat3BlurryVision\n",
      "35\n",
      "SCAT3.Symptom Evaluation.Scat3BlurryVision\n",
      "mean : 0.0, std : 0.0, minv : 0.0, maxv : 0.0\n",
      "SCAT3.Scoring Summary.Scat3TotalSymptoms\n",
      "28\n",
      "SCAT3.Scoring Summary.Scat3TotalSymptoms\n",
      "mean : 1.4285714285714286, std : 1.8598880808987908, minv : 0.0, maxv : 6.0\n",
      "SCAT3.Scoring Summary.Scat3TotSympScore\n",
      "35\n",
      "SCAT3.Scoring Summary.Scat3TotSympScore\n",
      "mean : 1.6571428571428573, std : 2.9368871484020254, minv : 0.0, maxv : 13.0\n",
      "Unrestricted Return to Play:\n",
      "SCAT3.Symptom Evaluation.Scat3BlurryVision\n",
      "24\n",
      "SCAT3.Symptom Evaluation.Scat3BlurryVision\n",
      "mean : 0.0, std : 0.0, minv : 0.0, maxv : 0.0\n",
      "SCAT3.Scoring Summary.Scat3TotalSymptoms\n",
      "20\n",
      "SCAT3.Scoring Summary.Scat3TotalSymptoms\n",
      "mean : 1.75, std : 3.2844329799829985, minv : 0.0, maxv : 11.0\n",
      "SCAT3.Scoring Summary.Scat3TotSympScore\n",
      "24\n",
      "SCAT3.Scoring Summary.Scat3TotSympScore\n",
      "mean : 2.9583333333333335, std : 7.091539364309809, minv : 0.0, maxv : 30.0\n",
      "6 m onths post-injury:\n",
      "SCAT3.Symptom Evaluation.Scat3BlurryVision\n",
      "29\n",
      "SCAT3.Symptom Evaluation.Scat3BlurryVision\n",
      "mean : 0.034482758620689655, std : 0.18246560765962697, minv : 0.0, maxv : 1.0\n",
      "SCAT3.Scoring Summary.Scat3TotalSymptoms\n",
      "25\n",
      "SCAT3.Scoring Summary.Scat3TotalSymptoms\n",
      "mean : 1.76, std : 3.2283742038369714, minv : 0.0, maxv : 10.0\n",
      "SCAT3.Scoring Summary.Scat3TotSympScore\n",
      "29\n",
      "SCAT3.Scoring Summary.Scat3TotSympScore\n",
      "mean : 2.6551724137931036, std : 6.098478397385445, minv : 0.0, maxv : 24.0\n",
      "cohort 2\n",
      "24-48 hours:\n",
      "SCAT3.Symptom Evaluation.Scat3BlurryVision\n",
      "36\n",
      "SCAT3.Symptom Evaluation.Scat3BlurryVision\n",
      "mean : 0.027777777777777776, std : 0.16433554953054488, minv : 0.0, maxv : 1.0\n",
      "SCAT3.Scoring Summary.Scat3TotalSymptoms\n",
      "30\n",
      "SCAT3.Scoring Summary.Scat3TotalSymptoms\n",
      "mean : 2.1666666666666665, std : 2.464187943770163, minv : 0.0, maxv : 9.0\n",
      "SCAT3.Scoring Summary.Scat3TotSympScore\n",
      "36\n",
      "SCAT3.Scoring Summary.Scat3TotSympScore\n",
      "mean : 2.388888888888889, std : 3.5689850547442274, minv : 0.0, maxv : 14.0\n",
      "Asymptomatic:\n",
      "SCAT3.Symptom Evaluation.Scat3BlurryVision\n",
      "34\n",
      "SCAT3.Symptom Evaluation.Scat3BlurryVision\n",
      "mean : 0.058823529411764705, std : 0.3379154497963546, minv : 0.0, maxv : 2.0\n",
      "SCAT3.Scoring Summary.Scat3TotalSymptoms\n",
      "29\n",
      "SCAT3.Scoring Summary.Scat3TotalSymptoms\n",
      "mean : 2.0689655172413794, std : 3.4031530459242285, minv : 0.0, maxv : 13.0\n",
      "SCAT3.Scoring Summary.Scat3TotSympScore\n",
      "34\n",
      "SCAT3.Scoring Summary.Scat3TotSympScore\n",
      "mean : 2.676470588235294, std : 5.507858494034811, minv : 0.0, maxv : 26.0\n",
      "Unrestricted Return to Play:\n",
      "SCAT3.Symptom Evaluation.Scat3BlurryVision\n",
      "30\n",
      "SCAT3.Symptom Evaluation.Scat3BlurryVision\n",
      "mean : 0.03333333333333333, std : 0.17950549357115012, minv : 0.0, maxv : 1.0\n",
      "SCAT3.Scoring Summary.Scat3TotalSymptoms\n",
      "26\n",
      "SCAT3.Scoring Summary.Scat3TotalSymptoms\n",
      "mean : 1.6153846153846154, std : 3.530928436162616, minv : 0.0, maxv : 13.0\n",
      "SCAT3.Scoring Summary.Scat3TotSympScore\n",
      "30\n",
      "SCAT3.Scoring Summary.Scat3TotSympScore\n",
      "mean : 2.1, std : 5.436604332362864, minv : 0.0, maxv : 24.0\n",
      "6 m onths post-injury:\n",
      "SCAT3.Symptom Evaluation.Scat3BlurryVision\n",
      "24\n",
      "SCAT3.Symptom Evaluation.Scat3BlurryVision\n",
      "mean : 0.041666666666666664, std : 0.19982631347136331, minv : 0.0, maxv : 1.0\n",
      "SCAT3.Scoring Summary.Scat3TotalSymptoms\n",
      "22\n",
      "SCAT3.Scoring Summary.Scat3TotalSymptoms\n",
      "mean : 1.0909090909090908, std : 2.172327844608822, minv : 0.0, maxv : 10.0\n",
      "SCAT3.Scoring Summary.Scat3TotSympScore\n",
      "24\n",
      "SCAT3.Scoring Summary.Scat3TotSympScore\n",
      "mean : 2.0833333333333335, std : 5.787318511673222, minv : 0.0, maxv : 28.0\n"
     ]
    }
   ],
   "source": [
    "print(\"all CARE data statistics\")\n",
    "score_stat(dti_SCAT_4t, \n",
    "           timepoint_key='SCAT3.Form Administration.ContextTypeOTH', \n",
    "           timepoints=['24-48 hours', 'Asymptomatic', 'Unrestricted Return to Play', '6 m onths post-injury'])"
   ]
  },
  {
   "cell_type": "code",
   "execution_count": 284,
   "metadata": {},
   "outputs": [
    {
     "data": {
      "text/plain": [
       "(315, 133)"
      ]
     },
     "execution_count": 284,
     "metadata": {},
     "output_type": "execute_result"
    }
   ],
   "source": [
    "a = dti_SCAT_4t.loc[dti_SCAT_4t['cohort'] == 0]\n",
    "#a = a.loc[a['SCAT3.Form Administration.ContextTypeOTH'] == timepoints[0]]\n",
    "a.shape"
   ]
  },
  {
   "cell_type": "code",
   "execution_count": 286,
   "metadata": {},
   "outputs": [
    {
     "data": {
      "text/plain": [
       "'0'"
      ]
     },
     "execution_count": 286,
     "metadata": {},
     "output_type": "execute_result"
    }
   ],
   "source": [
    "timepoints[0]"
   ]
  },
  {
   "cell_type": "code",
   "execution_count": 82,
   "metadata": {},
   "outputs": [],
   "source": [
    "avail_dti_info = pd.read_csv('./dti_info.csv')\n",
    "\n",
    "timepoints = ['24-48 hours', 'Asymptomatic', '7 days Post-Unrestricted Return to Play', '6 months post-injury']\n",
    "dti_keys = ['-'.join([row['ImagingDiffusion.Main.GUID'], str(int(row['ImagingDiffusion.Main.SubjectIDNum'])), str(timepoints.index(row['ImagingDiffusion.Main.GeneralNotesTxt']))])\n",
    "        for i, row in \n",
    "        avail_dti_info.dropna(axis=0, subset=['ImagingDiffusion.Main.GUID']).iterrows()]\n",
    "avail_dti_info['key'] =  dti_keys"
   ]
  },
  {
   "cell_type": "code",
   "execution_count": 86,
   "metadata": {},
   "outputs": [],
   "source": [
    "avail_dti_info=avail_dti_info.drop_duplicates(subset=['key'])"
   ]
  },
  {
   "cell_type": "code",
   "execution_count": 92,
   "metadata": {},
   "outputs": [],
   "source": [
    "a = avail_dti_info.loc[avail_dti_info['ImagingDiffusion.Main.CaseContrlInd'] == 'Case']"
   ]
  },
  {
   "cell_type": "code",
   "execution_count": 93,
   "metadata": {},
   "outputs": [
    {
     "data": {
      "text/plain": [
       "[('0', 46), ('1', 50), ('2', 39), ('3', 36)]"
      ]
     },
     "execution_count": 93,
     "metadata": {},
     "output_type": "execute_result"
    }
   ],
   "source": [
    "list(zip(*np.unique([x.split('-')[-1] for x in a['key'].values], return_counts=True)))"
   ]
  },
  {
   "cell_type": "code",
   "execution_count": 91,
   "metadata": {},
   "outputs": [
    {
     "data": {
      "text/plain": [
       "(244, 133)"
      ]
     },
     "execution_count": 91,
     "metadata": {},
     "output_type": "execute_result"
    }
   ],
   "source": [
    "dti_SCAT_4t.loc[dti_SCAT_4t['SCAT3.Main.CaseContrlInd'] == 'Control'].shape"
   ]
  },
  {
   "cell_type": "code",
   "execution_count": 78,
   "metadata": {},
   "outputs": [],
   "source": [
    "a = dti_SCAT_4t.loc[dti_SCAT_4t['SCAT3.Main.CaseContrlInd'] == 'Control']"
   ]
  },
  {
   "cell_type": "code",
   "execution_count": 79,
   "metadata": {},
   "outputs": [
    {
     "data": {
      "text/plain": [
       "(array([0, 1, 2, 3]), array([71, 67, 53, 53]))"
      ]
     },
     "execution_count": 79,
     "metadata": {},
     "output_type": "execute_result"
    }
   ],
   "source": [
    "np.unique(a['key'].apply(lambda x: int(x.split('-')[-1])), return_counts=True)"
   ]
  },
  {
   "cell_type": "code",
   "execution_count": 95,
   "metadata": {},
   "outputs": [
    {
     "data": {
      "text/html": [
       "<div>\n",
       "<style scoped>\n",
       "    .dataframe tbody tr th:only-of-type {\n",
       "        vertical-align: middle;\n",
       "    }\n",
       "\n",
       "    .dataframe tbody tr th {\n",
       "        vertical-align: top;\n",
       "    }\n",
       "\n",
       "    .dataframe thead th {\n",
       "        text-align: right;\n",
       "    }\n",
       "</style>\n",
       "<table border=\"1\" class=\"dataframe\">\n",
       "  <thead>\n",
       "    <tr style=\"text-align: right;\">\n",
       "      <th></th>\n",
       "      <th>Unnamed: 0</th>\n",
       "      <th>Study ID</th>\n",
       "      <th>Dataset</th>\n",
       "      <th>SCAT3.Main.GUID</th>\n",
       "      <th>SCAT3.Main.SubjectIDNum</th>\n",
       "      <th>SCAT3.Main.AgeYrs</th>\n",
       "      <th>SCAT3.Main.VitStatus</th>\n",
       "      <th>SCAT3.Main.VisitDate</th>\n",
       "      <th>SCAT3.Main.SiteName</th>\n",
       "      <th>SCAT3.Main.DaysSinceBaseline</th>\n",
       "      <th>...</th>\n",
       "      <th>SCAT3.Scoring Summary.SACImmdMemorySubsetScore</th>\n",
       "      <th>SCAT3.Scoring Summary.SACImmdMemoryTrialScore</th>\n",
       "      <th>SCAT3.Scoring Summary.SACConcentationSubsetScore</th>\n",
       "      <th>SCAT3.Scoring Summary.SACDelayedRecallSubsetScore</th>\n",
       "      <th>SCAT3.Scoring Summary.SACTotalScore</th>\n",
       "      <th>SCAT3.Scoring Summary.BESSTotalErrorCt</th>\n",
       "      <th>SCAT3.Scoring Summary.FullTandemStandDur</th>\n",
       "      <th>SCAT3.Scoring Summary.SCAT3UpperLimbCoordinatScore</th>\n",
       "      <th>SCAT3.Scoring Summary.GeneralNotesTxt</th>\n",
       "      <th>key</th>\n",
       "    </tr>\n",
       "  </thead>\n",
       "  <tbody>\n",
       "    <tr>\n",
       "      <th>0</th>\n",
       "      <td>45</td>\n",
       "      <td>310</td>\n",
       "      <td>FITBIR-DATA0006128</td>\n",
       "      <td>TBIBP604ERQ</td>\n",
       "      <td>2285</td>\n",
       "      <td>NaN</td>\n",
       "      <td>Alive</td>\n",
       "      <td>2017-02-28T00:00:00Z</td>\n",
       "      <td>NaN</td>\n",
       "      <td>NaN</td>\n",
       "      <td>...</td>\n",
       "      <td>NaN</td>\n",
       "      <td>NaN</td>\n",
       "      <td>NaN</td>\n",
       "      <td>NaN</td>\n",
       "      <td>NaN</td>\n",
       "      <td>NaN</td>\n",
       "      <td>NaN</td>\n",
       "      <td>NaN</td>\n",
       "      <td>NaN</td>\n",
       "      <td>TBIBP604ERQ-2285-1</td>\n",
       "    </tr>\n",
       "    <tr>\n",
       "      <th>1</th>\n",
       "      <td>166</td>\n",
       "      <td>310</td>\n",
       "      <td>FITBIR-DATA0006128</td>\n",
       "      <td>TBIUJ419GBT</td>\n",
       "      <td>2387</td>\n",
       "      <td>NaN</td>\n",
       "      <td>Alive</td>\n",
       "      <td>2017-04-10T00:00:00Z</td>\n",
       "      <td>NaN</td>\n",
       "      <td>NaN</td>\n",
       "      <td>...</td>\n",
       "      <td>NaN</td>\n",
       "      <td>NaN</td>\n",
       "      <td>NaN</td>\n",
       "      <td>NaN</td>\n",
       "      <td>NaN</td>\n",
       "      <td>NaN</td>\n",
       "      <td>NaN</td>\n",
       "      <td>NaN</td>\n",
       "      <td>NaN</td>\n",
       "      <td>TBIUJ419GBT-2387-1</td>\n",
       "    </tr>\n",
       "    <tr>\n",
       "      <th>2</th>\n",
       "      <td>217</td>\n",
       "      <td>310</td>\n",
       "      <td>FITBIR-DATA0006128</td>\n",
       "      <td>TBIBP604ERQ</td>\n",
       "      <td>2285</td>\n",
       "      <td>NaN</td>\n",
       "      <td>Alive</td>\n",
       "      <td>2017-08-28T00:00:00Z</td>\n",
       "      <td>NaN</td>\n",
       "      <td>NaN</td>\n",
       "      <td>...</td>\n",
       "      <td>NaN</td>\n",
       "      <td>NaN</td>\n",
       "      <td>NaN</td>\n",
       "      <td>NaN</td>\n",
       "      <td>NaN</td>\n",
       "      <td>NaN</td>\n",
       "      <td>NaN</td>\n",
       "      <td>NaN</td>\n",
       "      <td>NaN</td>\n",
       "      <td>TBIBP604ERQ-2285-3</td>\n",
       "    </tr>\n",
       "    <tr>\n",
       "      <th>3</th>\n",
       "      <td>288</td>\n",
       "      <td>310</td>\n",
       "      <td>FITBIR-DATA0006128</td>\n",
       "      <td>TBIHZ208WEK</td>\n",
       "      <td>2417</td>\n",
       "      <td>NaN</td>\n",
       "      <td>Alive</td>\n",
       "      <td>2017-03-23T00:00:00Z</td>\n",
       "      <td>NaN</td>\n",
       "      <td>NaN</td>\n",
       "      <td>...</td>\n",
       "      <td>NaN</td>\n",
       "      <td>NaN</td>\n",
       "      <td>NaN</td>\n",
       "      <td>NaN</td>\n",
       "      <td>NaN</td>\n",
       "      <td>NaN</td>\n",
       "      <td>NaN</td>\n",
       "      <td>NaN</td>\n",
       "      <td>NaN</td>\n",
       "      <td>TBIHZ208WEK-2417-0</td>\n",
       "    </tr>\n",
       "    <tr>\n",
       "      <th>4</th>\n",
       "      <td>504</td>\n",
       "      <td>310</td>\n",
       "      <td>FITBIR-DATA0006128</td>\n",
       "      <td>TBIHC882EW2</td>\n",
       "      <td>2371</td>\n",
       "      <td>NaN</td>\n",
       "      <td>Alive</td>\n",
       "      <td>2017-03-13T00:00:00Z</td>\n",
       "      <td>NaN</td>\n",
       "      <td>NaN</td>\n",
       "      <td>...</td>\n",
       "      <td>NaN</td>\n",
       "      <td>NaN</td>\n",
       "      <td>NaN</td>\n",
       "      <td>NaN</td>\n",
       "      <td>NaN</td>\n",
       "      <td>NaN</td>\n",
       "      <td>NaN</td>\n",
       "      <td>NaN</td>\n",
       "      <td>NaN</td>\n",
       "      <td>TBIHC882EW2-2371-1</td>\n",
       "    </tr>\n",
       "    <tr>\n",
       "      <th>...</th>\n",
       "      <td>...</td>\n",
       "      <td>...</td>\n",
       "      <td>...</td>\n",
       "      <td>...</td>\n",
       "      <td>...</td>\n",
       "      <td>...</td>\n",
       "      <td>...</td>\n",
       "      <td>...</td>\n",
       "      <td>...</td>\n",
       "      <td>...</td>\n",
       "      <td>...</td>\n",
       "      <td>...</td>\n",
       "      <td>...</td>\n",
       "      <td>...</td>\n",
       "      <td>...</td>\n",
       "      <td>...</td>\n",
       "      <td>...</td>\n",
       "      <td>...</td>\n",
       "      <td>...</td>\n",
       "      <td>...</td>\n",
       "      <td>...</td>\n",
       "    </tr>\n",
       "    <tr>\n",
       "      <th>399</th>\n",
       "      <td>61649</td>\n",
       "      <td>310</td>\n",
       "      <td>FITBIR-DATA0006128</td>\n",
       "      <td>TBIZA241JFR</td>\n",
       "      <td>2258</td>\n",
       "      <td>NaN</td>\n",
       "      <td>Alive</td>\n",
       "      <td>2017-03-03T00:00:00Z</td>\n",
       "      <td>NaN</td>\n",
       "      <td>NaN</td>\n",
       "      <td>...</td>\n",
       "      <td>NaN</td>\n",
       "      <td>NaN</td>\n",
       "      <td>NaN</td>\n",
       "      <td>NaN</td>\n",
       "      <td>NaN</td>\n",
       "      <td>NaN</td>\n",
       "      <td>NaN</td>\n",
       "      <td>NaN</td>\n",
       "      <td>NaN</td>\n",
       "      <td>TBIZA241JFR-2258-2</td>\n",
       "    </tr>\n",
       "    <tr>\n",
       "      <th>400</th>\n",
       "      <td>61655</td>\n",
       "      <td>310</td>\n",
       "      <td>FITBIR-DATA0006128</td>\n",
       "      <td>TBIVW194XGD</td>\n",
       "      <td>2078</td>\n",
       "      <td>NaN</td>\n",
       "      <td>Alive</td>\n",
       "      <td>2017-01-30T00:00:00Z</td>\n",
       "      <td>NaN</td>\n",
       "      <td>NaN</td>\n",
       "      <td>...</td>\n",
       "      <td>NaN</td>\n",
       "      <td>NaN</td>\n",
       "      <td>NaN</td>\n",
       "      <td>NaN</td>\n",
       "      <td>NaN</td>\n",
       "      <td>NaN</td>\n",
       "      <td>NaN</td>\n",
       "      <td>NaN</td>\n",
       "      <td>NaN</td>\n",
       "      <td>TBIVW194XGD-2078-2</td>\n",
       "    </tr>\n",
       "    <tr>\n",
       "      <th>401</th>\n",
       "      <td>61692</td>\n",
       "      <td>310</td>\n",
       "      <td>FITBIR-DATA0006128</td>\n",
       "      <td>TBIVX914PTT</td>\n",
       "      <td>2101</td>\n",
       "      <td>NaN</td>\n",
       "      <td>Alive</td>\n",
       "      <td>2017-02-13T00:00:00Z</td>\n",
       "      <td>NaN</td>\n",
       "      <td>NaN</td>\n",
       "      <td>...</td>\n",
       "      <td>NaN</td>\n",
       "      <td>NaN</td>\n",
       "      <td>NaN</td>\n",
       "      <td>NaN</td>\n",
       "      <td>NaN</td>\n",
       "      <td>NaN</td>\n",
       "      <td>NaN</td>\n",
       "      <td>NaN</td>\n",
       "      <td>NaN</td>\n",
       "      <td>TBIVX914PTT-2101-2</td>\n",
       "    </tr>\n",
       "    <tr>\n",
       "      <th>402</th>\n",
       "      <td>61713</td>\n",
       "      <td>310</td>\n",
       "      <td>FITBIR-DATA0006128</td>\n",
       "      <td>TBIYF961HX3</td>\n",
       "      <td>2079</td>\n",
       "      <td>NaN</td>\n",
       "      <td>Alive</td>\n",
       "      <td>2017-01-18T00:00:00Z</td>\n",
       "      <td>NaN</td>\n",
       "      <td>NaN</td>\n",
       "      <td>...</td>\n",
       "      <td>NaN</td>\n",
       "      <td>NaN</td>\n",
       "      <td>NaN</td>\n",
       "      <td>NaN</td>\n",
       "      <td>NaN</td>\n",
       "      <td>NaN</td>\n",
       "      <td>NaN</td>\n",
       "      <td>NaN</td>\n",
       "      <td>NaN</td>\n",
       "      <td>TBIYF961HX3-2079-1</td>\n",
       "    </tr>\n",
       "    <tr>\n",
       "      <th>403</th>\n",
       "      <td>61800</td>\n",
       "      <td>310</td>\n",
       "      <td>FITBIR-DATA0006128</td>\n",
       "      <td>TBIVW194XGD</td>\n",
       "      <td>2078</td>\n",
       "      <td>NaN</td>\n",
       "      <td>Alive</td>\n",
       "      <td>2017-01-19T00:00:00Z</td>\n",
       "      <td>NaN</td>\n",
       "      <td>NaN</td>\n",
       "      <td>...</td>\n",
       "      <td>NaN</td>\n",
       "      <td>NaN</td>\n",
       "      <td>NaN</td>\n",
       "      <td>NaN</td>\n",
       "      <td>NaN</td>\n",
       "      <td>NaN</td>\n",
       "      <td>NaN</td>\n",
       "      <td>NaN</td>\n",
       "      <td>NaN</td>\n",
       "      <td>TBIVW194XGD-2078-0</td>\n",
       "    </tr>\n",
       "  </tbody>\n",
       "</table>\n",
       "<p>404 rows × 133 columns</p>\n",
       "</div>"
      ],
      "text/plain": [
       "     Unnamed: 0  Study ID             Dataset SCAT3.Main.GUID  \\\n",
       "0            45       310  FITBIR-DATA0006128     TBIBP604ERQ   \n",
       "1           166       310  FITBIR-DATA0006128     TBIUJ419GBT   \n",
       "2           217       310  FITBIR-DATA0006128     TBIBP604ERQ   \n",
       "3           288       310  FITBIR-DATA0006128     TBIHZ208WEK   \n",
       "4           504       310  FITBIR-DATA0006128     TBIHC882EW2   \n",
       "..          ...       ...                 ...             ...   \n",
       "399       61649       310  FITBIR-DATA0006128     TBIZA241JFR   \n",
       "400       61655       310  FITBIR-DATA0006128     TBIVW194XGD   \n",
       "401       61692       310  FITBIR-DATA0006128     TBIVX914PTT   \n",
       "402       61713       310  FITBIR-DATA0006128     TBIYF961HX3   \n",
       "403       61800       310  FITBIR-DATA0006128     TBIVW194XGD   \n",
       "\n",
       "     SCAT3.Main.SubjectIDNum  SCAT3.Main.AgeYrs SCAT3.Main.VitStatus  \\\n",
       "0                       2285                NaN                Alive   \n",
       "1                       2387                NaN                Alive   \n",
       "2                       2285                NaN                Alive   \n",
       "3                       2417                NaN                Alive   \n",
       "4                       2371                NaN                Alive   \n",
       "..                       ...                ...                  ...   \n",
       "399                     2258                NaN                Alive   \n",
       "400                     2078                NaN                Alive   \n",
       "401                     2101                NaN                Alive   \n",
       "402                     2079                NaN                Alive   \n",
       "403                     2078                NaN                Alive   \n",
       "\n",
       "     SCAT3.Main.VisitDate  SCAT3.Main.SiteName  SCAT3.Main.DaysSinceBaseline  \\\n",
       "0    2017-02-28T00:00:00Z                  NaN                           NaN   \n",
       "1    2017-04-10T00:00:00Z                  NaN                           NaN   \n",
       "2    2017-08-28T00:00:00Z                  NaN                           NaN   \n",
       "3    2017-03-23T00:00:00Z                  NaN                           NaN   \n",
       "4    2017-03-13T00:00:00Z                  NaN                           NaN   \n",
       "..                    ...                  ...                           ...   \n",
       "399  2017-03-03T00:00:00Z                  NaN                           NaN   \n",
       "400  2017-01-30T00:00:00Z                  NaN                           NaN   \n",
       "401  2017-02-13T00:00:00Z                  NaN                           NaN   \n",
       "402  2017-01-18T00:00:00Z                  NaN                           NaN   \n",
       "403  2017-01-19T00:00:00Z                  NaN                           NaN   \n",
       "\n",
       "     ... SCAT3.Scoring Summary.SACImmdMemorySubsetScore  \\\n",
       "0    ...                                            NaN   \n",
       "1    ...                                            NaN   \n",
       "2    ...                                            NaN   \n",
       "3    ...                                            NaN   \n",
       "4    ...                                            NaN   \n",
       "..   ...                                            ...   \n",
       "399  ...                                            NaN   \n",
       "400  ...                                            NaN   \n",
       "401  ...                                            NaN   \n",
       "402  ...                                            NaN   \n",
       "403  ...                                            NaN   \n",
       "\n",
       "     SCAT3.Scoring Summary.SACImmdMemoryTrialScore  \\\n",
       "0                                              NaN   \n",
       "1                                              NaN   \n",
       "2                                              NaN   \n",
       "3                                              NaN   \n",
       "4                                              NaN   \n",
       "..                                             ...   \n",
       "399                                            NaN   \n",
       "400                                            NaN   \n",
       "401                                            NaN   \n",
       "402                                            NaN   \n",
       "403                                            NaN   \n",
       "\n",
       "    SCAT3.Scoring Summary.SACConcentationSubsetScore  \\\n",
       "0                                                NaN   \n",
       "1                                                NaN   \n",
       "2                                                NaN   \n",
       "3                                                NaN   \n",
       "4                                                NaN   \n",
       "..                                               ...   \n",
       "399                                              NaN   \n",
       "400                                              NaN   \n",
       "401                                              NaN   \n",
       "402                                              NaN   \n",
       "403                                              NaN   \n",
       "\n",
       "    SCAT3.Scoring Summary.SACDelayedRecallSubsetScore  \\\n",
       "0                                                 NaN   \n",
       "1                                                 NaN   \n",
       "2                                                 NaN   \n",
       "3                                                 NaN   \n",
       "4                                                 NaN   \n",
       "..                                                ...   \n",
       "399                                               NaN   \n",
       "400                                               NaN   \n",
       "401                                               NaN   \n",
       "402                                               NaN   \n",
       "403                                               NaN   \n",
       "\n",
       "     SCAT3.Scoring Summary.SACTotalScore  \\\n",
       "0                                    NaN   \n",
       "1                                    NaN   \n",
       "2                                    NaN   \n",
       "3                                    NaN   \n",
       "4                                    NaN   \n",
       "..                                   ...   \n",
       "399                                  NaN   \n",
       "400                                  NaN   \n",
       "401                                  NaN   \n",
       "402                                  NaN   \n",
       "403                                  NaN   \n",
       "\n",
       "     SCAT3.Scoring Summary.BESSTotalErrorCt  \\\n",
       "0                                       NaN   \n",
       "1                                       NaN   \n",
       "2                                       NaN   \n",
       "3                                       NaN   \n",
       "4                                       NaN   \n",
       "..                                      ...   \n",
       "399                                     NaN   \n",
       "400                                     NaN   \n",
       "401                                     NaN   \n",
       "402                                     NaN   \n",
       "403                                     NaN   \n",
       "\n",
       "     SCAT3.Scoring Summary.FullTandemStandDur  \\\n",
       "0                                         NaN   \n",
       "1                                         NaN   \n",
       "2                                         NaN   \n",
       "3                                         NaN   \n",
       "4                                         NaN   \n",
       "..                                        ...   \n",
       "399                                       NaN   \n",
       "400                                       NaN   \n",
       "401                                       NaN   \n",
       "402                                       NaN   \n",
       "403                                       NaN   \n",
       "\n",
       "     SCAT3.Scoring Summary.SCAT3UpperLimbCoordinatScore  \\\n",
       "0                                                  NaN    \n",
       "1                                                  NaN    \n",
       "2                                                  NaN    \n",
       "3                                                  NaN    \n",
       "4                                                  NaN    \n",
       "..                                                 ...    \n",
       "399                                                NaN    \n",
       "400                                                NaN    \n",
       "401                                                NaN    \n",
       "402                                                NaN    \n",
       "403                                                NaN    \n",
       "\n",
       "     SCAT3.Scoring Summary.GeneralNotesTxt                 key  \n",
       "0                                      NaN  TBIBP604ERQ-2285-1  \n",
       "1                                      NaN  TBIUJ419GBT-2387-1  \n",
       "2                                      NaN  TBIBP604ERQ-2285-3  \n",
       "3                                      NaN  TBIHZ208WEK-2417-0  \n",
       "4                                      NaN  TBIHC882EW2-2371-1  \n",
       "..                                     ...                 ...  \n",
       "399                                    NaN  TBIZA241JFR-2258-2  \n",
       "400                                    NaN  TBIVW194XGD-2078-2  \n",
       "401                                    NaN  TBIVX914PTT-2101-2  \n",
       "402                                    NaN  TBIYF961HX3-2079-1  \n",
       "403                                    NaN  TBIVW194XGD-2078-0  \n",
       "\n",
       "[404 rows x 133 columns]"
      ]
     },
     "execution_count": 95,
     "metadata": {},
     "output_type": "execute_result"
    }
   ],
   "source": [
    "dti_SCAT_4t"
   ]
  },
  {
   "cell_type": "code",
   "execution_count": 11,
   "metadata": {},
   "outputs": [
    {
     "name": "stdout",
     "output_type": "stream",
     "text": [
      "vail CARE data\n",
      "Case:\n",
      "24-48 hours:\n",
      "SCAT3.Symptom Evaluation.Scat3BlurryVision\n",
      "mean : 0.6444444444444445, std : 1.2139111363331256, minv : 0.0, maxv : 5.0\n",
      "SCAT3.Scoring Summary.Scat3TotalSymptoms\n",
      "mean : 12.511627906976743, std : 5.508437895410395, minv : 0.0, maxv : 22.0\n",
      "SCAT3.Scoring Summary.Scat3TotSympScore\n",
      "mean : 27.08888888888889, std : 19.766213847789448, minv : 0.0, maxv : 83.0\n",
      "Asymptomatic:\n",
      "SCAT3.Symptom Evaluation.Scat3BlurryVision\n",
      "mean : 0.0, std : 0.0, minv : 0.0, maxv : 0.0\n",
      "SCAT3.Scoring Summary.Scat3TotalSymptoms\n",
      "mean : 1.375, std : 1.839667089448523, minv : 0.0, maxv : 8.0\n",
      "SCAT3.Scoring Summary.Scat3TotSympScore\n",
      "mean : 1.3877551020408163, std : 2.2751212260198828, minv : 0.0, maxv : 11.0\n",
      "Unrestricted Return to Play:\n",
      "SCAT3.Symptom Evaluation.Scat3BlurryVision\n",
      "mean : 0.0, std : 0.0, minv : 0.0, maxv : 0.0\n",
      "SCAT3.Scoring Summary.Scat3TotalSymptoms\n",
      "mean : 0.6818181818181818, std : 2.0312639065003935, minv : 0.0, maxv : 8.0\n",
      "SCAT3.Scoring Summary.Scat3TotSympScore\n",
      "mean : 0.71875, std : 2.706870598587971, minv : 0.0, maxv : 13.0\n",
      "6 m onths post-injury:\n",
      "SCAT3.Symptom Evaluation.Scat3BlurryVision\n",
      "mean : 0.029411764705882353, std : 0.1689577248981773, minv : 0.0, maxv : 1.0\n",
      "SCAT3.Scoring Summary.Scat3TotalSymptoms\n",
      "mean : 1.206896551724138, std : 2.074131481630699, minv : 0.0, maxv : 7.0\n",
      "SCAT3.Scoring Summary.Scat3TotSympScore\n",
      "mean : 1.5588235294117647, std : 3.491090984631563, minv : 0.0, maxv : 16.0\n",
      "Control:\n",
      "24-48 hours:\n",
      "SCAT3.Symptom Evaluation.Scat3BlurryVision\n",
      "mean : 0.014084507042253521, std : 0.11783944035691205, minv : 0.0, maxv : 1.0\n",
      "SCAT3.Scoring Summary.Scat3TotalSymptoms\n",
      "mean : 2.1864406779661016, std : 2.8072217780018156, minv : 0.0, maxv : 12.0\n",
      "SCAT3.Scoring Summary.Scat3TotSympScore\n",
      "mean : 2.6338028169014085, std : 4.21679885468078, minv : 0.0, maxv : 17.0\n",
      "Asymptomatic:\n",
      "SCAT3.Symptom Evaluation.Scat3BlurryVision\n",
      "mean : 0.029850746268656716, std : 0.24250860909361072, minv : 0.0, maxv : 2.0\n",
      "SCAT3.Scoring Summary.Scat3TotalSymptoms\n",
      "mean : 1.7818181818181817, std : 2.8135445718614873, minv : 0.0, maxv : 13.0\n",
      "SCAT3.Scoring Summary.Scat3TotSympScore\n",
      "mean : 2.1940298507462686, std : 4.482932162684189, minv : 0.0, maxv : 26.0\n",
      "Unrestricted Return to Play:\n",
      "SCAT3.Symptom Evaluation.Scat3BlurryVision\n",
      "mean : 0.018867924528301886, std : 0.1360585386967543, minv : 0.0, maxv : 1.0\n",
      "SCAT3.Scoring Summary.Scat3TotalSymptoms\n",
      "mean : 1.711111111111111, std : 3.455251862324766, minv : 0.0, maxv : 13.0\n",
      "SCAT3.Scoring Summary.Scat3TotSympScore\n",
      "mean : 2.5283018867924527, std : 6.290465302359208, minv : 0.0, maxv : 30.0\n",
      "6 m onths post-injury:\n",
      "SCAT3.Symptom Evaluation.Scat3BlurryVision\n",
      "mean : 0.03773584905660377, std : 0.1905566969502279, minv : 0.0, maxv : 1.0\n",
      "SCAT3.Scoring Summary.Scat3TotalSymptoms\n",
      "mean : 1.446808510638298, std : 2.804316662229006, minv : 0.0, maxv : 10.0\n",
      "SCAT3.Scoring Summary.Scat3TotSympScore\n",
      "mean : 2.3962264150943398, std : 5.966382623425484, minv : 0.0, maxv : 28.0\n"
     ]
    }
   ],
   "source": [
    "print(\"vail CARE data\")\n",
    "score_stat(dti_SCAT_4t)"
   ]
  },
  {
   "cell_type": "code",
   "execution_count": 51,
   "metadata": {},
   "outputs": [],
   "source": [
    "recoveried = dti_SCAT_4t[dti_SCAT_4t['key'].apply(lambda x:int(x.split('-')[-1])) != 0]\n",
    "#recoveried = dti_SCAT_4t\n",
    "scores = recoveried.iloc[:,20:-2]\n",
    "a = []\n",
    "for column in scores.columns:\n",
    "    col = scores[column]\n",
    "    col = col.dropna()\n",
    "    if len(col):\n",
    "        mean = np.mean(col.values)\n",
    "        a.append((column, mean))"
   ]
  },
  {
   "cell_type": "code",
   "execution_count": 94,
   "metadata": {},
   "outputs": [
    {
     "ename": "NameError",
     "evalue": "name 'SCAT3' is not defined",
     "output_type": "error",
     "traceback": [
      "\u001b[0;31m---------------------------------------------------------------------------\u001b[0m",
      "\u001b[0;31mNameError\u001b[0m                                 Traceback (most recent call last)",
      "\u001b[0;32m<ipython-input-94-bb7e00995238>\u001b[0m in \u001b[0;36m<module>\u001b[0;34m\u001b[0m\n\u001b[0;32m----> 1\u001b[0;31m \u001b[0mSCAT3\u001b[0m\u001b[0;34m\u001b[0m\u001b[0;34m\u001b[0m\u001b[0m\n\u001b[0m",
      "\u001b[0;31mNameError\u001b[0m: name 'SCAT3' is not defined"
     ]
    }
   ],
   "source": [
    "SCAT3"
   ]
  },
  {
   "cell_type": "markdown",
   "metadata": {},
   "source": [
    "How many overlap between out usable data with NP score"
   ]
  },
  {
   "cell_type": "markdown",
   "metadata": {},
   "source": [
    "1) ImPACT"
   ]
  },
  {
   "cell_type": "code",
   "execution_count": 60,
   "metadata": {},
   "outputs": [
    {
     "name": "stdout",
     "output_type": "stream",
     "text": [
      "Impact appendix shape: 20479\n",
      "Impact data shape: 47568\n",
      "Impact appendix shape: 18282\n",
      "Impact data shape: 47548\n",
      "4 points Impact: 5778\n",
      "Impact/dMRI 146/478 overlapped\n",
      "Impact\n",
      "[('0', 42), ('1', 38), ('2', 38), ('3', 28)]\n"
     ]
    }
   ],
   "source": [
    "dti_info = avail_dti_info\n",
    "\n",
    "timepoints = ['24-48 hours', 'Asymptomatic', '7 days Post-Unrestricted Return to Play', '6 months post-injury']\n",
    "dti_keys = ['-'.join([row['ImagingDiffusion.Main.GUID'], str(int(row['ImagingDiffusion.Main.SubjectIDNum'])), str(timepoints.index(row['ImagingDiffusion.Main.GeneralNotesTxt']))])\n",
    "        for i, row in \n",
    "        dti_info.dropna(axis=0, subset=['ImagingDiffusion.Main.GUID']).iterrows()]\n",
    "dti_keys = set(dti_keys)\n",
    "\n",
    "Impact_append = pd.read_csv('../common_data/query_result_ImPACTAppdx0000310_2019-07-17T15-28-511261814463076333156.csv', low_memory=False)\n",
    "Impact_result = pd.read_csv('../common_data/query_result_ImPACT_2019-07-17T15-28-195279178785655342848.csv', low_memory=False)\n",
    "Impact_result['cohort'] = Impact_result['ImPACT.Main.GUID'].apply(lambda x: 1*(x in allcontrol1ids) + 2*(x in allcontrol2ids))\n",
    "\n",
    "print(f'Impact appendix shape: {Impact_append.shape[0]}')\n",
    "print(f'Impact data shape: {Impact_result.shape[0]}')\n",
    "\n",
    "Impact_append_keys = Impact_append['ImPACTAppdx0000310.Main.GUID'] + '-' +\\\n",
    "                     Impact_append['ImPACTAppdx0000310.Main.SubjectIDNum'].apply(lambda x : str(int(x))) + '-' +\\\n",
    "                     Impact_append['ImPACTAppdx0000310.Main.VisitDate']\n",
    "Impact_append['key'] = Impact_append_keys\n",
    "Impact_append = Impact_append.dropna(axis=0, subset=['key'])\n",
    "\n",
    "Impact_result_keys = Impact_result['ImPACT.Main.GUID'] + '-' + \\\n",
    "                     Impact_result['ImPACT.Main.SubjectIDNum'].apply(lambda x : str(int(x))) + '-' +\\\n",
    "                     Impact_result['ImPACT.Main.VisitDate']\n",
    "Impact_result['key'] = Impact_result_keys\n",
    "Impact_result = Impact_result.dropna(axis=0, subset=['key'])\n",
    "\n",
    "print(f'Impact appendix shape: {Impact_append.shape[0]}')\n",
    "print(f'Impact data shape: {Impact_result.shape[0]}')\n",
    "             \n",
    "merged_Impact = pd.merge(Impact_result, Impact_append, on=\"key\")\n",
    "\n",
    "# merged_Impact.to_csv('Impact_merged.csv')\n",
    "timepoints = ['24-48 hours', 'Asymptomatic', 'Unrestricted Return to Play', '6 m onths post-injury']\n",
    "merged_Impact['ImPACTAppdx0000310.Form Administration.ContextTypeOTH'] = merged_Impact['ImPACTAppdx0000310.Form Administration.ContextTypeOTH'].apply(lambda x:'Unrestricted Return to Play' if 'restricted' in x else x)\n",
    "merged_Impact['ImPACTAppdx0000310.Form Administration.ContextTypeOTH'] = merged_Impact['ImPACTAppdx0000310.Form Administration.ContextTypeOTH'].apply(lambda x:'Asymptomatic' if 'symptomatic' in x else x)\n",
    "merged_Impact= merged_Impact.loc[merged_Impact['ImPACTAppdx0000310.Form Administration.ContextTypeOTH'].isin(timepoints)]\n",
    "print(f'4 points Impact: {merged_Impact.shape[0]}')\n",
    "keys2 = merged_Impact['ImPACT.Main.GUID'] + '-' + \\\n",
    "        merged_Impact['ImPACT.Main.SubjectIDNum'].apply(lambda x : str(int(x))) + '-' +\\\n",
    "        merged_Impact['ImPACTAppdx0000310.Form Administration.ContextTypeOTH'].apply(lambda x:str(timepoints.index(x)))\n",
    "merged_Impact['key2'] = keys2\n",
    "\n",
    "\n",
    "merged_Impact_4t = merged_Impact.loc[merged_Impact['key2'].isin(dti_keys)]\n",
    "merged_Impact_4t = merged_Impact_4t.drop_duplicates(subset='key2')\n",
    "print(f'Impact/dMRI {merged_Impact_4t.shape[0]}/{len(dti_keys)} overlapped')\n",
    "\n",
    "print('Impact')\n",
    "print(list(zip(*np.unique([x.split('-')[-1] for x in merged_Impact_4t['key2'].values], return_counts=True))))\n",
    "      "
   ]
  },
  {
   "cell_type": "code",
   "execution_count": 61,
   "metadata": {},
   "outputs": [
    {
     "data": {
      "text/plain": [
       "(array([0, 1, 2]), array([58, 51, 37]))"
      ]
     },
     "execution_count": 61,
     "metadata": {},
     "output_type": "execute_result"
    }
   ],
   "source": [
    "np.unique(merged_Impact_4t['cohort'], return_counts=True)"
   ]
  },
  {
   "cell_type": "code",
   "execution_count": 62,
   "metadata": {},
   "outputs": [
    {
     "name": "stdout",
     "output_type": "stream",
     "text": [
      "cohort0:\n",
      "58\n",
      "58\n",
      "subejct num\n",
      "25\n",
      "cohort1:\n",
      "51\n",
      "51\n",
      "subejct num\n",
      "18\n",
      "cohort2:\n",
      "37\n",
      "37\n",
      "subejct num\n",
      "12\n",
      "cohort0:\n",
      "(('0',), 5)\n",
      "(('0', '1'), 1)\n",
      "(('0', '1', '2'), 1)\n",
      "(('0', '1', '2', '3'), 4)\n",
      "(('0', '1', '3'), 1)\n",
      "(('0', '2'), 1)\n",
      "(('0', '2', '3'), 3)\n",
      "(('0', '3'), 1)\n",
      "(('1',), 3)\n",
      "(('1', '2', '3'), 3)\n",
      "(('2', '3'), 2)\n",
      "cohort1:\n",
      "(('0',), 3)\n",
      "(('0', '1', '2'), 5)\n",
      "(('0', '1', '2', '3'), 7)\n",
      "(('1', '2'), 1)\n",
      "(('2',), 1)\n",
      "(('2', '3'), 1)\n",
      "cohort2:\n",
      "(('0', '1'), 2)\n",
      "(('0', '1', '2'), 2)\n",
      "(('0', '1', '2', '3'), 6)\n",
      "(('1',), 1)\n",
      "(('1', '2'), 1)\n"
     ]
    },
    {
     "name": "stderr",
     "output_type": "stream",
     "text": [
      "/gpfs/home/Jc7489/miniconda3/envs/research/lib/python3.8/site-packages/numpy/core/_asarray.py:136: VisibleDeprecationWarning: Creating an ndarray from ragged nested sequences (which is a list-or-tuple of lists-or-tuples-or ndarrays with different lengths or shapes) is deprecated. If you meant to do this, you must specify 'dtype=object' when creating the ndarray\n",
      "  return array(a, dtype, copy=False, order=order, subok=True)\n"
     ]
    }
   ],
   "source": [
    "scans = get_scans_general(merged_Impact_4t, key='key2')\n",
    "for i in range(3):\n",
    "    print(f\"cohort{i}:\")\n",
    "    scan = scans[i]\n",
    "    x = [tuple(sorted(v)) for k, v in scan.items()]\n",
    "    count = list(zip(*np.unique(x, return_counts=True)))\n",
    "    for i in count:\n",
    "        print(i)"
   ]
  },
  {
   "cell_type": "code",
   "execution_count": 63,
   "metadata": {},
   "outputs": [
    {
     "name": "stdout",
     "output_type": "stream",
     "text": [
      "cohort: 0\n",
      "[('0', 17), ('1', 13), ('2', 14), ('3', 14)]\n",
      "cohort: 1\n",
      "[('0', 15), ('1', 13), ('2', 15), ('3', 8)]\n",
      "cohort: 2\n",
      "[('0', 10), ('1', 12), ('2', 9), ('3', 6)]\n"
     ]
    }
   ],
   "source": [
    "for i in range(3):\n",
    "    print(f'cohort: {i}')\n",
    "    scan = scans[i]\n",
    "    timepoints = sum ([v for v in scan.values()], [])\n",
    "    print(list(zip(*np.unique(timepoints, return_counts=True))))"
   ]
  },
  {
   "cell_type": "code",
   "execution_count": 64,
   "metadata": {},
   "outputs": [
    {
     "name": "stdout",
     "output_type": "stream",
     "text": [
      "all CARE data statistics\n",
      "cohort 0\n",
      "24-48 hours:\n",
      "ImPACT.ImPACT Test.ImPACTVisMemoryCompScore\n",
      "17\n",
      "ImPACT.ImPACT Test.ImPACTVisMemoryCompScore\n",
      "mean : 68.11764705882354, std : 14.942565938171697, minv : 46, maxv : 96\n",
      "Asymptomatic:\n",
      "ImPACT.ImPACT Test.ImPACTVisMemoryCompScore\n",
      "13\n",
      "ImPACT.ImPACT Test.ImPACTVisMemoryCompScore\n",
      "mean : 78.46153846153847, std : 10.731803093289408, minv : 57, maxv : 95\n",
      "Unrestricted Return to Play:\n",
      "ImPACT.ImPACT Test.ImPACTVisMemoryCompScore\n",
      "14\n",
      "ImPACT.ImPACT Test.ImPACTVisMemoryCompScore\n",
      "mean : 76.78571428571429, std : 10.870527464062578, minv : 61, maxv : 96\n",
      "6 m onths post-injury:\n",
      "ImPACT.ImPACT Test.ImPACTVisMemoryCompScore\n",
      "14\n",
      "ImPACT.ImPACT Test.ImPACTVisMemoryCompScore\n",
      "mean : 80.92857142857143, std : 14.464065254051828, minv : 54, maxv : 99\n",
      "cohort 1\n",
      "24-48 hours:\n",
      "ImPACT.ImPACT Test.ImPACTVisMemoryCompScore\n",
      "15\n",
      "ImPACT.ImPACT Test.ImPACTVisMemoryCompScore\n",
      "mean : 77.86666666666666, std : 10.518977559101877, minv : 61, maxv : 96\n",
      "Asymptomatic:\n",
      "ImPACT.ImPACT Test.ImPACTVisMemoryCompScore\n",
      "13\n",
      "ImPACT.ImPACT Test.ImPACTVisMemoryCompScore\n",
      "mean : 73.15384615384616, std : 13.16666042493548, minv : 55, maxv : 95\n",
      "Unrestricted Return to Play:\n",
      "ImPACT.ImPACT Test.ImPACTVisMemoryCompScore\n",
      "15\n",
      "ImPACT.ImPACT Test.ImPACTVisMemoryCompScore\n",
      "mean : 80.8, std : 11.154670172921593, minv : 63, maxv : 100\n",
      "6 m onths post-injury:\n",
      "ImPACT.ImPACT Test.ImPACTVisMemoryCompScore\n",
      "8\n",
      "ImPACT.ImPACT Test.ImPACTVisMemoryCompScore\n",
      "mean : 81.375, std : 17.867131135131906, minv : 51, maxv : 100\n",
      "cohort 2\n",
      "24-48 hours:\n",
      "ImPACT.ImPACT Test.ImPACTVisMemoryCompScore\n",
      "10\n",
      "ImPACT.ImPACT Test.ImPACTVisMemoryCompScore\n",
      "mean : 82.8, std : 10.037928073063684, minv : 67, maxv : 100\n",
      "Asymptomatic:\n",
      "ImPACT.ImPACT Test.ImPACTVisMemoryCompScore\n",
      "12\n",
      "ImPACT.ImPACT Test.ImPACTVisMemoryCompScore\n",
      "mean : 76.58333333333333, std : 8.929896727037528, minv : 60, maxv : 91\n",
      "Unrestricted Return to Play:\n",
      "ImPACT.ImPACT Test.ImPACTVisMemoryCompScore\n",
      "9\n",
      "ImPACT.ImPACT Test.ImPACTVisMemoryCompScore\n",
      "mean : 76.33333333333333, std : 13.992061241210239, minv : 50, maxv : 97\n",
      "6 m onths post-injury:\n",
      "ImPACT.ImPACT Test.ImPACTVisMemoryCompScore\n",
      "6\n",
      "ImPACT.ImPACT Test.ImPACTVisMemoryCompScore\n",
      "mean : 79.33333333333333, std : 9.392668535736915, minv : 63, maxv : 93\n"
     ]
    }
   ],
   "source": [
    "timepoints = ['24-48 hours', 'Asymptomatic', 'Unrestricted Return to Play', '6 m onths post-injury']\n",
    "SoIs = ['ImPACT.ImPACT Test.ImPACTVisMemoryCompScore']\n",
    "print(\"all CARE data statistics\")\n",
    "score_stat(merged_Impact_4t, \n",
    "           timepoint_key='ImPACTAppdx0000310.Form Administration.ContextTypeOTH', \n",
    "           timepoints=['24-48 hours', 'Asymptomatic', 'Unrestricted Return to Play', '6 m onths post-injury'])\n",
    "\n"
   ]
  },
  {
   "cell_type": "code",
   "execution_count": 311,
   "metadata": {},
   "outputs": [
    {
     "name": "stdout",
     "output_type": "stream",
     "text": [
      "t: 0, len: 42, mean75.0952380952381,std: 13.80098258028775, max: 100, min: 46\n",
      "t: 1, len: 39, mean75.97435897435898,std: 11.21465885825489, max: 95, min: 55\n",
      "t: 2, len: 67, mean76.22388059701493,std: 12.023386285767739, max: 100, min: 48\n",
      "t: 3, len: 28, mean80.71428571428571,std: 14.67227011079341, max: 100, min: 51\n"
     ]
    }
   ],
   "source": [
    "for i in range(4):\n",
    "    scores = merged_Impact_4t.loc[merged_Impact_4t['key2'].apply(lambda x: int(x.split('-')[-1])) == i]['ImPACT.ImPACT Test.ImPACTVisMemoryCompScore'].values\n",
    "    print(f't: {i}, len: {len(scores)}, mean{np.mean(scores)},std: {np.std(scores)}, max: {np.max(scores)}, min: {np.min(scores)}')\n",
    "\n",
    "\n"
   ]
  },
  {
   "cell_type": "code",
   "execution_count": 97,
   "metadata": {},
   "outputs": [
    {
     "data": {
      "text/plain": [
       "array(['6 m onths post-injury'], dtype=object)"
      ]
     },
     "execution_count": 97,
     "metadata": {},
     "output_type": "execute_result"
    }
   ],
   "source": [
    "a = merged_Impact_4t.loc[merged_Impact_4t['key2'].apply(lambda x: int(x.split('-')[-1])) == 3]['ImPACT.Form Administration Group.ContextTypeOTH']\n",
    "np.unique(a.values)"
   ]
  },
  {
   "cell_type": "markdown",
   "metadata": {},
   "source": [
    "Check within 2 months"
   ]
  },
  {
   "cell_type": "code",
   "execution_count": 11,
   "metadata": {},
   "outputs": [
    {
     "data": {
      "text/plain": [
       "Text(0.5, 1.0, 'ImPACTVisMemoryCompScore')"
      ]
     },
     "execution_count": 11,
     "metadata": {},
     "output_type": "execute_result"
    },
    {
     "data": {
      "image/png": "[encoded data removed]",
      "text/plain": [
       "<Figure size 432x288 with 1 Axes>"
      ]
     },
     "metadata": {
      "needs_background": "light"
     },
     "output_type": "display_data"
    }
   ],
   "source": [
    "scores = merged_Impact_4t.loc[merged_Impact_4t['key2'].apply(lambda x: int(x.split('-')[-1])).isin([0,1])]['ImPACT.ImPACT Test.ImPACTVisMemoryCompScore'].values\n",
    "scores = (scores - np.mean(scores)) / np.std(scores)\n",
    "plt.hist(scores, density=True, bins=20)  # `density=False` would make counts\n",
    "plt.ylabel('Probability')\n",
    "plt.xlabel('Data')\n",
    "plt.title('ImPACTVisMemoryCompScore')\n",
    "\n"
   ]
  },
  {
   "cell_type": "markdown",
   "metadata": {},
   "source": [
    "Check at 6 months"
   ]
  },
  {
   "cell_type": "code",
   "execution_count": 13,
   "metadata": {},
   "outputs": [
    {
     "name": "stderr",
     "output_type": "stream",
     "text": [
      "<ipython-input-13-add6ad5082d5>:3: SettingWithCopyWarning: \n",
      "A value is trying to be set on a copy of a slice from a DataFrame.\n",
      "Try using .loc[row_indexer,col_indexer] = value instead\n",
      "\n",
      "See the caveats in the documentation: https://pandas.pydata.org/pandas-docs/stable/user_guide/indexing.html#returning-a-view-versus-a-copy\n",
      "  merged_Impact_4t['key3'] = merged_Impact_4t['ImPACT.Main.GUID'] +'-' + merged_Impact_4t['ImPACT.Main.SubjectIDNum'].apply(lambda x:str(int(x)))\n"
     ]
    },
    {
     "data": {
      "text/plain": [
       "Text(0.5, 1.0, 'ImPACTVisMemoryCompScore')"
      ]
     },
     "execution_count": 13,
     "metadata": {},
     "output_type": "execute_result"
    },
    {
     "data": {
      "image/png": "[encoded data removed]",
      "text/plain": [
       "<Figure size 432x288 with 1 Axes>"
      ]
     },
     "metadata": {
      "needs_background": "light"
     },
     "output_type": "display_data"
    }
   ],
   "source": [
    "a = df_timelap.loc[(df_timelap['6 months post-injury'] - df_timelap['24-48 hours']).apply(lambda x:x.days) >= 60]\n",
    "subjs = a.index.values\n",
    "merged_Impact_4t['key3'] = merged_Impact_4t['ImPACT.Main.GUID'] +'-' + merged_Impact_4t['ImPACT.Main.SubjectIDNum'].apply(lambda x:str(int(x)))\n",
    "df = merged_Impact_4t.loc[merged_Impact_4t['key2'].apply(lambda x: int(x.split('-')[-1])).isin([3])]\n",
    "df = df.loc[df['key3'].isin(subjs)]\n",
    "scores = df['ImPACT.ImPACT Test.ImPACTVisMemoryCompScore'].values\n",
    "scores = (scores - np.mean(scores)) / np.std(scores)\n",
    "plt.hist(scores, density=True, bins=20)  # `density=False` would make counts\n",
    "plt.ylabel('Probability')\n",
    "plt.xlabel('Data')\n",
    "plt.title('ImPACTVisMemoryCompScore')\n",
    "\n"
   ]
  },
  {
   "cell_type": "code",
   "execution_count": 18,
   "metadata": {},
   "outputs": [],
   "source": [
    "oldlabels = pd.read_excel('./label_154_new_subjectspace_filter_updated-2.xlsx')\n",
    "\n",
    "rcft_d_t1 = oldlabels['RCFT Delayed T1'].values\n",
    "rcft_d_t2 = oldlabels['RCFT Delayed T2'].values\n",
    "scores = (scores - np.mean(scores)) / np.std(scores)\n"
   ]
  },
  {
   "cell_type": "code",
   "execution_count": 21,
   "metadata": {},
   "outputs": [
    {
     "data": {
      "text/plain": [
       "Text(0.5, 1.0, 'RCFT_D')"
      ]
     },
     "execution_count": 21,
     "metadata": {},
     "output_type": "execute_result"
    },
    {
     "data": {
      "image/png": "[encoded data removed]",
      "text/plain": [
       "<Figure size 432x288 with 1 Axes>"
      ]
     },
     "metadata": {
      "needs_background": "light"
     },
     "output_type": "display_data"
    }
   ],
   "source": [
    "plt.hist(rcft_d_t2, density=True, bins=20)  # `density=False` would make counts\n",
    "plt.ylabel('Probability')\n",
    "plt.xlabel('Data')\n",
    "plt.title('RCFT_D')"
   ]
  },
  {
   "cell_type": "markdown",
   "metadata": {},
   "source": [
    "2) VOMS"
   ]
  },
  {
   "cell_type": "code",
   "execution_count": 71,
   "metadata": {},
   "outputs": [
    {
     "name": "stdout",
     "output_type": "stream",
     "text": [
      "VOMS appendix shape: 8026\n",
      "VOMS data shape: 8344\n",
      "VOMS appendix shape: 8016\n",
      "VOMS data shape: 8307\n",
      "4 points Impact: 1656\n",
      "Impact/dMRI 148/478 overlapped\n",
      "VOMS\n",
      "[('0', 30), ('1', 33), ('2', 60), ('3', 25)]\n"
     ]
    }
   ],
   "source": [
    "dti_info = all_dti_info\n",
    "\n",
    "timepoints = ['24-48 hours', 'Asymptomatic', '7 days Post-Unrestricted Return to Play', '6 months post-injury']\n",
    "dti_keys = ['-'.join([row['ImagingDiffusion.Main.GUID'], str(int(row['ImagingDiffusion.Main.SubjectIDNum'])), str(timepoints.index(row['ImagingDiffusion.Main.GeneralNotesTxt']))])\n",
    "        for i, row in \n",
    "        dti_info.dropna(axis=0, subset=['ImagingDiffusion.Main.GUID']).iterrows()]\n",
    "dti_keys = set(dti_keys)\n",
    "\n",
    "Impact_append = pd.read_csv('../common_data/query_result_VOMSAppdx0000310_2019-07-17T15-29-284351967405833249098.csv', low_memory=False)\n",
    "Impact_result = pd.read_csv('../common_data/query_result_VOMS_2019-07-17T15-27-453951868808238468368.csv', low_memory=False)\n",
    "\n",
    "TestName = \"VOMS\"\n",
    "\n",
    "print(f'{TestName} appendix shape: {Impact_append.shape[0]}')\n",
    "print(f'{TestName} data shape: {Impact_result.shape[0]}')\n",
    "\n",
    "Impact_append_keys = Impact_append[f'{TestName}Appdx0000310.Main.GUID'] + '-' +\\\n",
    "                     Impact_append[f'{TestName}Appdx0000310.Main.SubjectIDNum'].apply(lambda x : str(int(x))) + '-' +\\\n",
    "                     Impact_append[f'{TestName}Appdx0000310.Main.VisitDate']\n",
    "Impact_append['key'] = Impact_append_keys\n",
    "Impact_append = Impact_append.dropna(axis=0, subset=['key'])\n",
    "\n",
    "Impact_result_keys = Impact_result[f'{TestName}.Main.GUID'] + '-' + \\\n",
    "                     Impact_result[f'{TestName}.Main.SubjectIDNum'].apply(lambda x : str(int(x))) + '-' +\\\n",
    "                     Impact_result[f'{TestName}.Main.VisitDate']\n",
    "Impact_result['key'] = Impact_result_keys\n",
    "Impact_result = Impact_result.dropna(axis=0, subset=['key'])\n",
    "\n",
    "print(f'{TestName} appendix shape: {Impact_append.shape[0]}')\n",
    "print(f'{TestName} data shape: {Impact_result.shape[0]}')\n",
    "             \n",
    "merged_Impact = pd.merge(Impact_result, Impact_append, on=\"key\")\n",
    "\n",
    "# merged_Impact.to_csv('Impact_merged.csv')\n",
    "timepoints = ['24-48 hours', 'Asymptomatic', 'Unrestricted Return to Play', '6 m onths post-injury']\n",
    "merged_Impact[f'{TestName}Appdx0000310.Form Administration.ContextTypeOTH'] = merged_Impact[f'{TestName}Appdx0000310.Form Administration.ContextTypeOTH'].apply(lambda x:'Unrestricted Return to Play' if 'restricted' in x else x)\n",
    "merged_Impact[f'{TestName}Appdx0000310.Form Administration.ContextTypeOTH'] = merged_Impact[f'{TestName}Appdx0000310.Form Administration.ContextTypeOTH'].apply(lambda x:'Asymptomatic' if 'symptomatic' in x else x)\n",
    "merged_Impact= merged_Impact.loc[merged_Impact[f'{TestName}Appdx0000310.Form Administration.ContextTypeOTH'].isin(timepoints)]\n",
    "print(f'4 points Impact: {merged_Impact.shape[0]}')\n",
    "keys2 = merged_Impact[f'{TestName}.Main.GUID'] + '-' + \\\n",
    "        merged_Impact[f'{TestName}.Main.SubjectIDNum'].apply(lambda x : str(int(x))) + '-' +\\\n",
    "        merged_Impact[f'{TestName}Appdx0000310.Form Administration.ContextTypeOTH'].apply(lambda x:str(timepoints.index(x)))\n",
    "merged_Impact['key2'] = keys2\n",
    "\n",
    "# read dti\n",
    "avail_dti_info = pd.read_csv('./dti_info.csv')\n",
    "timepoints = ['24-48 hours', 'Asymptomatic', '7 days Post-Unrestricted Return to Play', '6 months post-injury']\n",
    "dti_keys = ['-'.join([row['ImagingDiffusion.Main.GUID'], str(int(row['ImagingDiffusion.Main.SubjectIDNum'])), str(timepoints.index(row['ImagingDiffusion.Main.GeneralNotesTxt']))])\n",
    "        for i, row in \n",
    "        avail_dti_info.dropna(axis=0, subset=['ImagingDiffusion.Main.GUID']).iterrows()]\n",
    "dti_keys = set(dti_keys)\n",
    "\n",
    "merged_Impact_4t = merged_Impact.loc[merged_Impact['key2'].isin(dti_keys)]\n",
    "print(f'Impact/dMRI {merged_Impact_4t.shape[0]}/{len(dti_keys)} overlapped')\n",
    "\n",
    "print(f'{TestName}')\n",
    "print(list(zip(*np.unique([x.split('-')[-1] for x in merged_Impact_4t['key2'].values], return_counts=True))))\n",
    "      "
   ]
  },
  {
   "cell_type": "markdown",
   "metadata": {},
   "source": [
    "3) WTAR"
   ]
  },
  {
   "cell_type": "code",
   "execution_count": 76,
   "metadata": {},
   "outputs": [
    {
     "name": "stdout",
     "output_type": "stream",
     "text": [
      "WTAR appendix shape: 8454\n",
      "WTAR data shape: 7549\n",
      "WTAR appendix shape: 6671\n",
      "WTAR data shape: 7436\n",
      "4 points Impact: 0\n",
      "Impact/dMRI 0/478 overlapped\n",
      "WTAR\n",
      "[]\n"
     ]
    }
   ],
   "source": [
    "Impact_append = pd.read_csv('../common_data/query_result_WTAR_Appdx_0000310_2019-07-17T15-27-318182784274479170284.csv', low_memory=False)\n",
    "Impact_result = pd.read_csv('../common_data/query_result_WTAR_FITBIR_2019-07-17T15-29-334222066513279118754.csv', low_memory=False)\n",
    "TestName = 'WTAR'\n",
    "print(f'{TestName} appendix shape: {Impact_append.shape[0]}')\n",
    "print(f'{TestName} data shape: {Impact_result.shape[0]}')\n",
    "\n",
    "Impact_append_keys = Impact_append[f'{TestName}_Appdx_0000310.Main Group.GUID'] + '-' +\\\n",
    "                     Impact_append[f'{TestName}_Appdx_0000310.Main Group.SubjectIDNum'].apply(lambda x : str(int(x))) + '-' +\\\n",
    "                     Impact_append[f'{TestName}_Appdx_0000310.Main Group.VisitDate']\n",
    "Impact_append['key'] = Impact_append_keys\n",
    "Impact_append = Impact_append.dropna(axis=0, subset=['key'])\n",
    "\n",
    "Impact_result_keys = Impact_result[f'{TestName}_FITBIR.Main.GUID'] + '-' + \\\n",
    "                     Impact_result[f'{TestName}_FITBIR.Main.SubjectIDNum'].apply(lambda x : str(int(x))) + '-' +\\\n",
    "                     Impact_result[f'{TestName}_FITBIR.Main.VisitDate']\n",
    "Impact_result['key'] = Impact_result_keys\n",
    "Impact_result = Impact_result.dropna(axis=0, subset=['key'])\n",
    "\n",
    "print(f'{TestName} appendix shape: {Impact_append.shape[0]}')\n",
    "print(f'{TestName} data shape: {Impact_result.shape[0]}')\n",
    "             \n",
    "merged_Impact = pd.merge(Impact_result, Impact_append, on=\"key\")\n",
    "\n",
    "# merged_Impact.to_csv('Impact_merged.csv')\n",
    "timepoints = ['24-48 hours', 'Asymptomatic', 'Unrestricted Return to Play', '6 m onths post-injury']\n",
    "merged_Impact[f'{TestName}_Appdx_0000310.Main Group.Form Administration.ContextTypeOTH'] = merged_Impact[f'{TestName}_Appdx_0000310.Form Administration.ContextTypeOTH'].apply(lambda x:'Unrestricted Return to Play' if 'restricted' in x else x)\n",
    "merged_Impact[f'{TestName}_Appdx_0000310.Main Group.Form Administration.ContextTypeOTH'] = merged_Impact[f'{TestName}_Appdx_0000310.Form Administration.ContextTypeOTH'].apply(lambda x:'Asymptomatic' if 'symptomatic' in x else x)\n",
    "merged_Impact= merged_Impact.loc[merged_Impact[f'{TestName}_Appdx_0000310.Form Administration.ContextTypeOTH'].isin(timepoints)]\n",
    "print(f'4 points Impact: {merged_Impact.shape[0]}')\n",
    "keys2 = merged_Impact[f'{TestName}_FITBIR.Main.GUID'] + '-' + \\\n",
    "        merged_Impact[f'{TestName}_FITBIR.Main.SubjectIDNum'].apply(lambda x : str(int(x))) + '-' +\\\n",
    "        merged_Impact[f'{TestName}_Appdx_0000310.Form Administration.ContextTypeOTH'].apply(lambda x:str(timepoints.index(x)))\n",
    "merged_Impact['key2'] = keys2\n",
    "\n",
    "# read dti\n",
    "avail_dti_info = pd.read_csv('./dti_info.csv')\n",
    "timepoints = ['24-48 hours', 'Asymptomatic', '7 days Post-Unrestricted Return to Play', '6 months post-injury']\n",
    "dti_keys = ['-'.join([row['ImagingDiffusion.Main.GUID'], str(int(row['ImagingDiffusion.Main.SubjectIDNum'])), str(timepoints.index(row['ImagingDiffusion.Main.GeneralNotesTxt']))])\n",
    "        for i, row in \n",
    "        avail_dti_info.dropna(axis=0, subset=['ImagingDiffusion.Main.GUID']).iterrows()]\n",
    "dti_keys = set(dti_keys)\n",
    "\n",
    "merged_Impact_4t = merged_Impact.loc[merged_Impact['key2'].isin(dti_keys)]\n",
    "print(f'Impact/dMRI {merged_Impact_4t.shape[0]}/{len(dti_keys)} overlapped')\n",
    "\n",
    "print(f'{TestName}')\n",
    "print(list(zip(*np.unique([x.split('-')[-1] for x in merged_Impact_4t['key2'].values], return_counts=True))))\n",
    "      "
   ]
  },
  {
   "cell_type": "markdown",
   "metadata": {},
   "source": [
    "4) CNSDomainSco"
   ]
  },
  {
   "cell_type": "code",
   "execution_count": 76,
   "metadata": {},
   "outputs": [
    {
     "name": "stdout",
     "output_type": "stream",
     "text": [
      "CNS appendix shape: 3238\n",
      "CNS data shape: 3177\n",
      "CNS appendix shape: 3144\n",
      "CNS data shape: 3153\n",
      "4 points Impact: 697\n",
      "Impact/dMRI 144/478 overlapped\n",
      "CNS\n",
      "[('0', 36), ('1', 41), ('2', 40), ('3', 27)]\n"
     ]
    }
   ],
   "source": [
    "dti_info = avail_dti_info\n",
    "\n",
    "timepoints = ['24-48 hours', 'Asymptomatic', '7 days Post-Unrestricted Return to Play', '6 months post-injury']\n",
    "dti_keys = ['-'.join([row['ImagingDiffusion.Main.GUID'], str(int(row['ImagingDiffusion.Main.SubjectIDNum'])), str(timepoints.index(row['ImagingDiffusion.Main.GeneralNotesTxt']))])\n",
    "        for i, row in \n",
    "        dti_info.dropna(axis=0, subset=['ImagingDiffusion.Main.GUID']).iterrows()]\n",
    "dti_keys = set(dti_keys)\n",
    "\n",
    "Impact_append = pd.read_csv('../common_data/query_result_CNSDomainSco_Appdx_0000310_2019-07-17T15-35-036390222589639853506.csv', low_memory=False)\n",
    "Impact_result = pd.read_csv('../common_data/query_result_CNSVitalSignsDomainScores_2019-07-17T15-35-024178106461638423806.csv', low_memory=False)\n",
    "\n",
    "TestName = \"CNS\"\n",
    "Impact_result['cohort'] = Impact_result['CNSVitalSignsDomainScores.Main.GUID'].apply(lambda x: 1*(x in allcontrol1ids) + 2*(x in allcontrol2ids))\n",
    "\n",
    "print(f'{TestName} appendix shape: {Impact_append.shape[0]}')\n",
    "print(f'{TestName} data shape: {Impact_result.shape[0]}')\n",
    "\n",
    "Impact_append_keys = Impact_append[f'CNSDomainSco_Appdx_0000310.Main.GUID'] + '-' +\\\n",
    "                     Impact_append[f'CNSDomainSco_Appdx_0000310.Main.SubjectIDNum'].apply(lambda x : str(int(x))) + '-' +\\\n",
    "                     Impact_append[f'CNSDomainSco_Appdx_0000310.Main.VisitDate']\n",
    "Impact_append['key'] = Impact_append_keys\n",
    "Impact_append = Impact_append.dropna(axis=0, subset=['key'])\n",
    "\n",
    "Impact_result_keys = Impact_result[f'CNSVitalSignsDomainScores.Main.GUID'] + '-' + \\\n",
    "                     Impact_result[f'CNSVitalSignsDomainScores.Main.SubjectIDNum'].apply(lambda x : str(int(x))) + '-' +\\\n",
    "                     Impact_result[f'CNSVitalSignsDomainScores.Main.VisitDate']\n",
    "Impact_result['key'] = Impact_result_keys\n",
    "Impact_result = Impact_result.dropna(axis=0, subset=['key'])\n",
    "\n",
    "print(f'{TestName} appendix shape: {Impact_append.shape[0]}')\n",
    "print(f'{TestName} data shape: {Impact_result.shape[0]}')\n",
    "             \n",
    "merged_Impact = pd.merge(Impact_result, Impact_append, on=\"key\")\n",
    "\n",
    "# merged_Impact.to_csv('Impact_merged.csv')\n",
    "timepoints = ['24-48 hours', 'Asymptomatic', 'Unrestricted Return to Play', '6 m onths post-injury']\n",
    "merged_Impact[f'CNSDomainSco_Appdx_0000310.Form Administration.ContextTypeOTH'] = merged_Impact[f'CNSDomainSco_Appdx_0000310.Form Administration.ContextTypeOTH'].apply(lambda x:'Unrestricted Return to Play' if 'restricted' in x else x)\n",
    "merged_Impact[f'CNSDomainSco_Appdx_0000310.Form Administration.ContextTypeOTH'] = merged_Impact[f'CNSDomainSco_Appdx_0000310.Form Administration.ContextTypeOTH'].apply(lambda x:'Asymptomatic' if 'symptomatic' in x else x)\n",
    "merged_Impact= merged_Impact.loc[merged_Impact[f'CNSDomainSco_Appdx_0000310.Form Administration.ContextTypeOTH'].isin(timepoints)]\n",
    "print(f'4 points Impact: {merged_Impact.shape[0]}')\n",
    "keys2 = merged_Impact[f'CNSVitalSignsDomainScores.Main.GUID'] + '-' + \\\n",
    "        merged_Impact[f'CNSVitalSignsDomainScores.Main.SubjectIDNum'].apply(lambda x : str(int(x))) + '-' +\\\n",
    "        merged_Impact[f'CNSDomainSco_Appdx_0000310.Form Administration.ContextTypeOTH'].apply(lambda x:str(timepoints.index(x)))\n",
    "merged_Impact['key2'] = keys2\n",
    "\n",
    "\n",
    "merged_Impact_4t = merged_Impact.loc[merged_Impact['key2'].isin(dti_keys)]\n",
    "merged_Impact_4t = merged_Impact_4t.drop_duplicates(subset='key2')\n",
    "print(f'Impact/dMRI {merged_Impact_4t.shape[0]}/{len(dti_keys)} overlapped')\n",
    "\n",
    "print(f'{TestName}')\n",
    "print(list(zip(*np.unique([x.split('-')[-1] for x in merged_Impact_4t['key2'].values], return_counts=True))))\n",
    "      "
   ]
  },
  {
   "cell_type": "code",
   "execution_count": 77,
   "metadata": {},
   "outputs": [
    {
     "data": {
      "text/plain": [
       "(array([0, 1, 2]), array([38, 51, 55]))"
      ]
     },
     "execution_count": 77,
     "metadata": {},
     "output_type": "execute_result"
    }
   ],
   "source": [
    "np.unique(merged_Impact_4t['cohort'], return_counts=True)"
   ]
  },
  {
   "cell_type": "code",
   "execution_count": 78,
   "metadata": {},
   "outputs": [
    {
     "name": "stdout",
     "output_type": "stream",
     "text": [
      "cohort0:\n",
      "38\n",
      "38\n",
      "subejct num\n",
      "18\n",
      "cohort1:\n",
      "51\n",
      "51\n",
      "subejct num\n",
      "15\n",
      "cohort2:\n",
      "55\n",
      "55\n",
      "subejct num\n",
      "20\n",
      "cohort0:\n",
      "(('0',), 2)\n",
      "(('0', '1'), 5)\n",
      "(('0', '1', '2', '3'), 1)\n",
      "(('0', '1', '3'), 1)\n",
      "(('0', '2', '3'), 1)\n",
      "(('1',), 2)\n",
      "(('1', '2'), 4)\n",
      "(('1', '2', '3'), 2)\n",
      "cohort1:\n",
      "(('0', '1', '2'), 1)\n",
      "(('0', '1', '2', '3'), 10)\n",
      "(('0', '2'), 1)\n",
      "(('0', '3'), 1)\n",
      "(('1', '2', '3'), 1)\n",
      "(('3',), 1)\n",
      "cohort2:\n",
      "(('0',), 1)\n",
      "(('0', '1', '2'), 5)\n",
      "(('0', '1', '2', '3'), 5)\n",
      "(('0', '2'), 2)\n",
      "(('1', '2'), 2)\n",
      "(('1', '2', '3'), 2)\n",
      "(('2',), 1)\n",
      "(('2', '3'), 2)\n"
     ]
    },
    {
     "name": "stderr",
     "output_type": "stream",
     "text": [
      "/gpfs/home/Jc7489/miniconda3/envs/research/lib/python3.8/site-packages/numpy/core/_asarray.py:136: VisibleDeprecationWarning: Creating an ndarray from ragged nested sequences (which is a list-or-tuple of lists-or-tuples-or ndarrays with different lengths or shapes) is deprecated. If you meant to do this, you must specify 'dtype=object' when creating the ndarray\n",
      "  return array(a, dtype, copy=False, order=order, subok=True)\n"
     ]
    }
   ],
   "source": [
    "scans = get_scans_general(merged_Impact_4t, key='key2')\n",
    "for i in range(3):\n",
    "    print(f\"cohort{i}:\")\n",
    "    scan = scans[i]\n",
    "    x = [tuple(sorted(v)) for k, v in scan.items()]\n",
    "    count = list(zip(*np.unique(x, return_counts=True)))\n",
    "    for i in count:\n",
    "        print(i)"
   ]
  },
  {
   "cell_type": "code",
   "execution_count": 79,
   "metadata": {},
   "outputs": [
    {
     "name": "stdout",
     "output_type": "stream",
     "text": [
      "cohort: 0\n",
      "[('0', 10), ('1', 15), ('2', 8), ('3', 5)]\n",
      "cohort: 1\n",
      "[('0', 13), ('1', 12), ('2', 13), ('3', 13)]\n",
      "cohort: 2\n",
      "[('0', 13), ('1', 14), ('2', 19), ('3', 9)]\n"
     ]
    }
   ],
   "source": [
    "for i in range(3):\n",
    "    print(f'cohort: {i}')\n",
    "    scan = scans[i]\n",
    "    timepoints = sum ([v for v in scan.values()], [])\n",
    "    print(list(zip(*np.unique(timepoints, return_counts=True))))"
   ]
  },
  {
   "cell_type": "code",
   "execution_count": 81,
   "metadata": {},
   "outputs": [
    {
     "name": "stdout",
     "output_type": "stream",
     "text": [
      "all CARE data statistics\n",
      "cohort 0\n",
      "24-48 hours:\n",
      "CNSVitalSignsDomainScores.Visual Memory.CNSVtlSnsVIMStdScore\n",
      "10\n",
      "CNSVitalSignsDomainScores.Visual Memory.CNSVtlSnsVIMStdScore\n",
      "mean : 76.5, std : 21.280272554645535, minv : 41.0, maxv : 113.0\n",
      "Asymptomatic:\n",
      "CNSVitalSignsDomainScores.Visual Memory.CNSVtlSnsVIMStdScore\n",
      "15\n",
      "CNSVitalSignsDomainScores.Visual Memory.CNSVtlSnsVIMStdScore\n",
      "mean : 96.8, std : 20.90996572609976, minv : 54.0, maxv : 125.0\n",
      "Unrestricted Return to Play:\n",
      "CNSVitalSignsDomainScores.Visual Memory.CNSVtlSnsVIMStdScore\n",
      "8\n",
      "CNSVitalSignsDomainScores.Visual Memory.CNSVtlSnsVIMStdScore\n",
      "mean : 95.0, std : 16.911534525287763, minv : 73.0, maxv : 116.0\n",
      "6 m onths post-injury:\n",
      "CNSVitalSignsDomainScores.Visual Memory.CNSVtlSnsVIMStdScore\n",
      "5\n",
      "CNSVitalSignsDomainScores.Visual Memory.CNSVtlSnsVIMStdScore\n",
      "mean : 85.8, std : 16.387800340497197, minv : 67.0, maxv : 105.0\n",
      "cohort 1\n",
      "24-48 hours:\n",
      "CNSVitalSignsDomainScores.Visual Memory.CNSVtlSnsVIMStdScore\n",
      "13\n",
      "CNSVitalSignsDomainScores.Visual Memory.CNSVtlSnsVIMStdScore\n",
      "mean : 100.76923076923077, std : 18.63889170588393, minv : 61.0, maxv : 124.0\n",
      "Asymptomatic:\n",
      "CNSVitalSignsDomainScores.Visual Memory.CNSVtlSnsVIMStdScore\n",
      "12\n",
      "CNSVitalSignsDomainScores.Visual Memory.CNSVtlSnsVIMStdScore\n",
      "mean : 102.75, std : 15.028445251145131, minv : 75.0, maxv : 127.0\n",
      "Unrestricted Return to Play:\n",
      "CNSVitalSignsDomainScores.Visual Memory.CNSVtlSnsVIMStdScore\n",
      "13\n",
      "CNSVitalSignsDomainScores.Visual Memory.CNSVtlSnsVIMStdScore\n",
      "mean : 102.38461538461539, std : 17.813298668900593, minv : 75.0, maxv : 130.0\n",
      "6 m onths post-injury:\n",
      "CNSVitalSignsDomainScores.Visual Memory.CNSVtlSnsVIMStdScore\n",
      "13\n",
      "CNSVitalSignsDomainScores.Visual Memory.CNSVtlSnsVIMStdScore\n",
      "mean : 96.46153846153847, std : 17.099776807429542, minv : 44.0, maxv : 116.0\n",
      "cohort 2\n",
      "24-48 hours:\n",
      "CNSVitalSignsDomainScores.Visual Memory.CNSVtlSnsVIMStdScore\n",
      "13\n",
      "CNSVitalSignsDomainScores.Visual Memory.CNSVtlSnsVIMStdScore\n",
      "mean : 96.23076923076923, std : 11.643115140610558, minv : 77.0, maxv : 113.0\n",
      "Asymptomatic:\n",
      "CNSVitalSignsDomainScores.Visual Memory.CNSVtlSnsVIMStdScore\n",
      "14\n",
      "CNSVitalSignsDomainScores.Visual Memory.CNSVtlSnsVIMStdScore\n",
      "mean : 99.92857142857143, std : 19.973068602189176, minv : 64.0, maxv : 130.0\n",
      "Unrestricted Return to Play:\n",
      "CNSVitalSignsDomainScores.Visual Memory.CNSVtlSnsVIMStdScore\n",
      "19\n",
      "CNSVitalSignsDomainScores.Visual Memory.CNSVtlSnsVIMStdScore\n",
      "mean : 90.36842105263158, std : 21.959797061462325, minv : 54.0, maxv : 132.0\n",
      "6 m onths post-injury:\n",
      "CNSVitalSignsDomainScores.Visual Memory.CNSVtlSnsVIMStdScore\n",
      "9\n",
      "CNSVitalSignsDomainScores.Visual Memory.CNSVtlSnsVIMStdScore\n",
      "mean : 91.33333333333333, std : 15.58489297008128, minv : 66.0, maxv : 113.0\n"
     ]
    }
   ],
   "source": [
    "timepoints = ['24-48 hours', 'Asymptomatic', 'Unrestricted Return to Play', '6 m onths post-injury']\n",
    "SoIs = ['CNSVitalSignsDomainScores.Visual Memory.CNSVtlSnsVIMStdScore']\n",
    "print(\"all CARE data statistics\")\n",
    "score_stat(merged_Impact_4t, \n",
    "           timepoint_key='CNSDomainSco_Appdx_0000310.Form Administration.ContextTypeOTH', \n",
    "           timepoints=['24-48 hours', 'Asymptomatic', 'Unrestricted Return to Play', '6 m onths post-injury'])"
   ]
  },
  {
   "cell_type": "code",
   "execution_count": 31,
   "metadata": {},
   "outputs": [
    {
     "name": "stdout",
     "output_type": "stream",
     "text": [
      "t: 0, len: 36, mean: 92.38888888888889, std: 20.025369711912077, max: 124.0, min: 41.0\n",
      "t: 1, len: 47, mean: 96.29787234042553, std: 20.298742119729425, max: 130.0, min: 54.0\n",
      "t: 2, len: 66, mean: 94.74242424242425, std: 19.94865424644632, max: 132.0, min: 54.0\n",
      "t: 3, len: 27, mean: 92.77777777777777, std: 16.962558623678454, max: 116.0, min: 44.0\n"
     ]
    }
   ],
   "source": [
    "for i in range(4):\n",
    "    scores = merged_Impact_4t.loc[merged_Impact_4t['key2'].apply(lambda x: int(x.split('-')[-1])) == i]['CNSVitalSignsDomainScores.Visual Memory.CNSVtlSnsVIMStdScore'].values\n",
    "    print(f't: {i}, len: {len(scores)}, mean: {np.mean(scores)}, std: {np.std(scores)}, max: {np.max(scores)}, min: {np.min(scores)}')\n",
    "\n"
   ]
  },
  {
   "cell_type": "code",
   "execution_count": 23,
   "metadata": {},
   "outputs": [
    {
     "data": {
      "text/plain": [
       "array([ 54.,  55.,  57.,  61.,  63.,  64.,  70.,  71.,  73.,  74.,  75.,\n",
       "        77.,  81.,  82.,  84.,  87.,  90.,  93.,  95.,  96.,  98.,  99.,\n",
       "       102., 104., 105., 107., 110., 113., 115., 116., 121., 124., 127.,\n",
       "       130., 132.])"
      ]
     },
     "execution_count": 23,
     "metadata": {},
     "output_type": "execute_result"
    }
   ],
   "source": [
    "a = merged_Impact_4t.loc[merged_Impact_4t['key2'].apply(lambda x: int(x.split('-')[-1])) == 2]['CNSVitalSignsDomainScores.Visual Memory.CNSVtlSnsVIMStdScore']\n",
    "np.unique(a.values)\n",
    "\n"
   ]
  },
  {
   "cell_type": "code",
   "execution_count": 25,
   "metadata": {},
   "outputs": [
    {
     "data": {
      "text/plain": [
       "Text(0.5, 1.0, 'CNSVtlSnsVIMStdScore')"
      ]
     },
     "execution_count": 25,
     "metadata": {},
     "output_type": "execute_result"
    },
    {
     "data": {
      "image/png": "[encoded data removed]",
      "text/plain": [
       "<Figure size 432x288 with 1 Axes>"
      ]
     },
     "metadata": {
      "needs_background": "light"
     },
     "output_type": "display_data"
    }
   ],
   "source": [
    "# within 2 month\n",
    "scores = merged_Impact_4t.loc[merged_Impact_4t['key2'].apply(lambda x: int(x.split('-')[-1])).isin([0,1])]['CNSVitalSignsDomainScores.Visual Memory.CNSVtlSnsVIMStdScore'].values\n",
    "scores = (scores - np.mean(scores)) / np.std(scores)\n",
    "plt.hist(scores, density=True, bins=20)  # `density=False` would make counts\n",
    "plt.ylabel('Probability')\n",
    "plt.xlabel('Data')\n",
    "plt.title('CNSVtlSnsVIMStdScore')"
   ]
  },
  {
   "cell_type": "code",
   "execution_count": 37,
   "metadata": {},
   "outputs": [
    {
     "name": "stderr",
     "output_type": "stream",
     "text": [
      "<ipython-input-37-7606280c36fa>:3: SettingWithCopyWarning: \n",
      "A value is trying to be set on a copy of a slice from a DataFrame.\n",
      "Try using .loc[row_indexer,col_indexer] = value instead\n",
      "\n",
      "See the caveats in the documentation: https://pandas.pydata.org/pandas-docs/stable/user_guide/indexing.html#returning-a-view-versus-a-copy\n",
      "  merged_Impact_4t['key3'] = merged_Impact_4t['CNSVitalSignsDomainScores.Main.GUID'] +'-' + merged_Impact_4t['CNSVitalSignsDomainScores.Main.SubjectIDNum'].apply(lambda x:str(int(x)))\n"
     ]
    },
    {
     "data": {
      "text/plain": [
       "Text(0.5, 1.0, 'CNSVtlSnsVIMStdScore')"
      ]
     },
     "execution_count": 37,
     "metadata": {},
     "output_type": "execute_result"
    },
    {
     "data": {
      "image/png": "[encoded data removed]",
      "text/plain": [
       "<Figure size 432x288 with 1 Axes>"
      ]
     },
     "metadata": {
      "needs_background": "light"
     },
     "output_type": "display_data"
    }
   ],
   "source": [
    "a = df_timelap.loc[(df_timelap['6 months post-injury'] - df_timelap['24-48 hours']).apply(lambda x:x.days) >= 60]\n",
    "subjs = a.index.values\n",
    "merged_Impact_4t['key3'] = merged_Impact_4t['CNSVitalSignsDomainScores.Main.GUID'] +'-' + merged_Impact_4t['CNSVitalSignsDomainScores.Main.SubjectIDNum'].apply(lambda x:str(int(x)))\n",
    "df = merged_Impact_4t.loc[merged_Impact_4t['key2'].apply(lambda x: int(x.split('-')[-1])).isin([3])]\n",
    "df = df.loc[df['key3'].isin(subjs)]\n",
    "scores = df['CNSVitalSignsDomainScores.Visual Memory.CNSVtlSnsVIMStdScore'].values\n",
    "scores = (scores - np.mean(scores)) / np.std(scores)\n",
    "plt.hist(scores, density=True, bins=20)  # `density=False` would make counts\n",
    "plt.ylabel('Probability')\n",
    "plt.xlabel('Data')\n",
    "plt.title('CNSVtlSnsVIMStdScore')\n"
   ]
  },
  {
   "cell_type": "code",
   "execution_count": 3,
   "metadata": {},
   "outputs": [
    {
     "ename": "NameError",
     "evalue": "name 'df' is not defined",
     "output_type": "error",
     "traceback": [
      "\u001b[0;31m---------------------------------------------------------------------------\u001b[0m",
      "\u001b[0;31mNameError\u001b[0m                                 Traceback (most recent call last)",
      "\u001b[0;32m<ipython-input-3-00cf07b74dcd>\u001b[0m in \u001b[0;36m<module>\u001b[0;34m\u001b[0m\n\u001b[0;32m----> 1\u001b[0;31m \u001b[0mdf\u001b[0m\u001b[0;34m\u001b[0m\u001b[0;34m\u001b[0m\u001b[0m\n\u001b[0m",
      "\u001b[0;31mNameError\u001b[0m: name 'df' is not defined"
     ]
    }
   ],
   "source": [
    "df"
   ]
  },
  {
   "cell_type": "markdown",
   "metadata": {},
   "source": [
    "Found besides b0 filed map, which has separate files. Some Diffusion data has eps_b0 as ImgMRIT1T2SeqName"
   ]
  },
  {
   "cell_type": "markdown",
   "metadata": {},
   "source": [
    "Count how may rows does not sepecify eps_b0 "
   ]
  },
  {
   "cell_type": "code",
   "execution_count": 2,
   "metadata": {},
   "outputs": [
    {
     "name": "stdout",
     "output_type": "stream",
     "text": [
      "300 non-b0-fieldmap rows does not sepcify esp_b0 as T1T2 sequence\n"
     ]
    }
   ],
   "source": [
    "all_dti_info = pd.read_csv('../common_data/query_result_ImagingDiffusion_2019-07-17T15-35-37668336643334196993.csv')\n",
    "key = 'ImagingDiffusion.Magnetic Resonance Information.ImgMRIT1T2SeqName'\n",
    "df = all_dti_info.dropna(axis=0, subset=['ImagingDiffusion.Main.GUID'])\n",
    "df_not_b0 = df[df[key].isna()]\n",
    "print(f\"{df_not_b0.shape[0]} non-b0-fieldmap rows does not sepcify esp_b0 as T1T2 sequence\")"
   ]
  },
  {
   "cell_type": "code",
   "execution_count": 4,
   "metadata": {},
   "outputs": [
    {
     "name": "stdout",
     "output_type": "stream",
     "text": [
      "Thier label distribution are : [('Case', 107), ('Control', 193)]\n"
     ]
    }
   ],
   "source": [
    "label_count = list(zip(*np.unique(df_not_b0['ImagingDiffusion.Main.CaseContrlInd'].values, return_counts=True)))\n",
    "print(f\"Thier label distribution are : {label_count}\")"
   ]
  },
  {
   "cell_type": "code",
   "execution_count": 5,
   "metadata": {},
   "outputs": [
    {
     "name": "stdout",
     "output_type": "stream",
     "text": [
      "Thier timepoint distribution are :\n",
      "[('24-48 hours', 83), ('6 months post-injury', 56), ('7 days Post-Unrestricted Return to Play', 81), ('Asymptomatic', 80)]\n"
     ]
    }
   ],
   "source": [
    "timept_count = list(zip(*np.unique(df_not_b0['ImagingDiffusion.Main.GeneralNotesTxt'].values, return_counts=True)))\n",
    "print(\"Thier timepoint distribution are :\")\n",
    "print(timept_count)"
   ]
  },
  {
   "cell_type": "code",
   "execution_count": 6,
   "metadata": {},
   "outputs": [
    {
     "name": "stdout",
     "output_type": "stream",
     "text": [
      "91 unique guids\n"
     ]
    }
   ],
   "source": [
    "guid_num = len(set(df_not_b0['ImagingDiffusion.Main.GUID'].values))\n",
    "print(f'{guid_num} unique guids')"
   ]
  },
  {
   "cell_type": "markdown",
   "metadata": {},
   "source": [
    "Check Sequence"
   ]
  },
  {
   "cell_type": "code",
   "execution_count": 37,
   "metadata": {},
   "outputs": [],
   "source": [
    "avail_dti_info = pd.read_csv('./dti_info.csv')"
   ]
  },
  {
   "cell_type": "code",
   "execution_count": 38,
   "metadata": {},
   "outputs": [],
   "source": [
    "d = collections.defaultdict(list)\n",
    "for i, row in avail_dti_info.iterrows():\n",
    "    guid = row['ImagingDiffusion.Main.GUID']\n",
    "    subjid = str(int(row['ImagingDiffusion.Main.SubjectIDNum']))\n",
    "    timepoint = row['ImagingDiffusion.Main.GeneralNotesTxt']\n",
    "    filename = row['save_dir']\n",
    "    key = guid+'-'+subjid+'-'+timepoint\n",
    "    d[key].append(filename)\n",
    "    \n",
    "    "
   ]
  },
  {
   "cell_type": "code",
   "execution_count": 48,
   "metadata": {},
   "outputs": [],
   "source": [
    "d_id = {k:sorted([int(f.split('.')[-2].split('_')[-1]) for f in v ]) for k,v in d.items()}"
   ]
  },
  {
   "cell_type": "code",
   "execution_count": 49,
   "metadata": {},
   "outputs": [],
   "source": [
    "id1 = [v[0] for k, v in d_id.items()]"
   ]
  },
  {
   "cell_type": "code",
   "execution_count": 50,
   "metadata": {},
   "outputs": [
    {
     "data": {
      "text/plain": [
       "[(6, 1),\n",
       " (7, 72),\n",
       " (8, 266),\n",
       " (9, 14),\n",
       " (10, 5),\n",
       " (11, 105),\n",
       " (12, 13),\n",
       " (13, 1),\n",
       " (15, 1)]"
      ]
     },
     "execution_count": 50,
     "metadata": {},
     "output_type": "execute_result"
    }
   ],
   "source": [
    "list(zip(*np.unique(id1, return_counts=True)))"
   ]
  },
  {
   "cell_type": "code",
   "execution_count": 51,
   "metadata": {},
   "outputs": [
    {
     "data": {
      "text/plain": [
       "[7, 13, 14, 15, 16]"
      ]
     },
     "execution_count": 51,
     "metadata": {},
     "output_type": "execute_result"
    }
   ],
   "source": [
    "d_id['TBINM872KDP-2168-6 months post-injury']"
   ]
  },
  {
   "cell_type": "code",
   "execution_count": 77,
   "metadata": {},
   "outputs": [],
   "source": [
    "path = '../Diffusion_Imaging/'\n",
    "folders = [os.path.join(path,x) for x in os.listdir(path)]\n",
    "seqs = []\n",
    "for folder in folders:\n",
    "    walk = list(os.walk(folder))\n",
    "    seqs.append([walk[0][0],walk[2][1]])"
   ]
  },
  {
   "cell_type": "code",
   "execution_count": 82,
   "metadata": {},
   "outputs": [
    {
     "name": "stdout",
     "output_type": "stream",
     "text": [
      "['10-ep2d_diff_30dir_b1000_b2000_AP']\n",
      "['10-ep2d_diff_30dir_b1000_b2000_AP_CHECK_PHASE']\n",
      "['10-ep2d_diff_b0_PA']\n",
      "['11-SB_DTI_MCW']\n",
      "['11-ep2d_diff_30dir_b1000_b2000_AP']\n",
      "['11-ep2d_diff_30dir_b1000_b2000_AP_CHECK_PHASE']\n",
      "['11-ep2d_diff_b0_PA']\n",
      "['12-SB_DTI_MCW']\n",
      "['12-ep2d_diff_30dir_b1000_b2000_AP']\n",
      "['12-ep2d_diff_30dir_b1000_b2000_AP_CHECK_PHASE']\n",
      "['12-ep2d_diff_b0_PA']\n",
      "['13-SB_DTI_MCW']\n",
      "['13-ep2d_diff_b0_PA']\n",
      "['14-SB_DTI_MCW']\n",
      "['14-ep2d_diff_b0_AP_1']\n",
      "['14-ep2d_diff_b0_PA']\n",
      "['15-SB_DTI_MCW']\n",
      "['15-ep2d_diff_30dir_b1000_b2000_AP']\n",
      "['15-ep2d_diff_b0_AP_1']\n",
      "['15-ep2d_diff_b0_AP_2']\n",
      "['15-ep2d_diff_b0_PA']\n",
      "['16-SB_DTI_MCW']\n",
      "['16-ep2d_diff_30dir_b1000_b2000_AP']\n",
      "['16-ep2d_diff_b0_AP_1']\n",
      "['16-ep2d_diff_b0_AP_2']\n",
      "['16-ep2d_diff_b0_AP_3']\n",
      "['16-ep2d_diff_b0_PA']\n",
      "['17-ep2d_diff_b0_AP_2']\n",
      "['17-ep2d_diff_b0_AP_3']\n",
      "['18-ep2d_diff_b0_AP_3']\n",
      "['23-ep2d_diff_30dir_b1000_b2000_AP']\n",
      "['27-ep2d_diff_30dir_b1000_b2000_AP']\n",
      "['28-ep2d_diff_b0_PA']\n",
      "['38-ep2d_diff_b0_PA']\n",
      "['4-ep2d_diff_30dir_b1000_b2000_AP']\n",
      "['5-ep2d_diff_30dir_b1000_b2000_AP']\n",
      "['5-ep2d_diff_b0_PA']\n",
      "['6-ep2d_diff_30dir_b1000_b2000_AP']\n",
      "['6-ep2d_diff_b0_PA']\n",
      "['7-ep2d_diff_30dir_b1000_b2000_AP']\n",
      "['8-ep2d_diff_30dir_b1000_b2000_AP']\n",
      "['8-ep2d_diff_30dir_b1000_b2000_AP_CHECK_PHASE']\n",
      "['9-ep2d_diff_30dir_b1000_b2000_AP']\n",
      "['9-ep2d_diff_30dir_b1000_b2000_AP_CHECK_PHASE']\n",
      "['9-ep2d_diff_b0_PA']\n"
     ]
    }
   ],
   "source": [
    "seqs = np.array(seqs, dtype=object)\n",
    "for i in sorted(np.unique(seqs[:,1])):\n",
    "    if 'PA' in i:\n",
    "        continue\n",
    "    print(i)"
   ]
  },
  {
   "cell_type": "code",
   "execution_count": 85,
   "metadata": {},
   "outputs": [],
   "source": [
    "counts = [x for x in zip(*np.unique(seqs[:,1], return_counts=True)) if \"PA\" not in x[0]]"
   ]
  },
  {
   "cell_type": "code",
   "execution_count": 87,
   "metadata": {},
   "outputs": [
    {
     "data": {
      "text/plain": [
       "[(['8-ep2d_diff_30dir_b1000_b2000_AP'], 521),\n",
       " (['9-ep2d_diff_b0_PA'], 423),\n",
       " (['11-SB_DTI_MCW'], 262),\n",
       " (['8-ep2d_diff_30dir_b1000_b2000_AP_CHECK_PHASE'], 121),\n",
       " (['13-ep2d_diff_b0_PA'], 72),\n",
       " (['7-ep2d_diff_30dir_b1000_b2000_AP'], 72),\n",
       " (['14-ep2d_diff_b0_AP_1'], 71),\n",
       " (['15-ep2d_diff_b0_AP_2'], 71),\n",
       " (['16-ep2d_diff_b0_AP_3'], 71),\n",
       " (['12-SB_DTI_MCW'], 28),\n",
       " (['9-ep2d_diff_30dir_b1000_b2000_AP'], 28),\n",
       " (['10-ep2d_diff_b0_PA'], 26),\n",
       " (['9-ep2d_diff_30dir_b1000_b2000_AP_CHECK_PHASE'], 13),\n",
       " (['10-ep2d_diff_30dir_b1000_b2000_AP'], 12),\n",
       " (['11-ep2d_diff_b0_PA'], 11),\n",
       " (['13-SB_DTI_MCW'], 6),\n",
       " (['14-ep2d_diff_b0_PA'], 5),\n",
       " (['12-ep2d_diff_b0_PA'], 4),\n",
       " (['15-ep2d_diff_b0_AP_1'], 4),\n",
       " (['16-ep2d_diff_b0_AP_2'], 4),\n",
       " (['17-ep2d_diff_b0_AP_3'], 4),\n",
       " (['11-ep2d_diff_30dir_b1000_b2000_AP'], 3),\n",
       " (['15-SB_DTI_MCW'], 2),\n",
       " (['15-ep2d_diff_30dir_b1000_b2000_AP'], 2),\n",
       " (['16-ep2d_diff_b0_PA'], 2),\n",
       " (['10-ep2d_diff_30dir_b1000_b2000_AP_CHECK_PHASE'], 1),\n",
       " (['11-ep2d_diff_30dir_b1000_b2000_AP_CHECK_PHASE'], 1),\n",
       " (['12-ep2d_diff_30dir_b1000_b2000_AP'], 1),\n",
       " (['12-ep2d_diff_30dir_b1000_b2000_AP_CHECK_PHASE'], 1),\n",
       " (['14-SB_DTI_MCW'], 1),\n",
       " (['15-ep2d_diff_b0_PA'], 1),\n",
       " (['16-SB_DTI_MCW'], 1),\n",
       " (['16-ep2d_diff_30dir_b1000_b2000_AP'], 1),\n",
       " (['16-ep2d_diff_b0_AP_1'], 1),\n",
       " (['17-ep2d_diff_b0_AP_2'], 1),\n",
       " (['18-ep2d_diff_b0_AP_3'], 1),\n",
       " (['23-ep2d_diff_30dir_b1000_b2000_AP'], 1),\n",
       " (['27-ep2d_diff_30dir_b1000_b2000_AP'], 1),\n",
       " (['28-ep2d_diff_b0_PA'], 1),\n",
       " (['38-ep2d_diff_b0_PA'], 1),\n",
       " (['4-ep2d_diff_30dir_b1000_b2000_AP'], 1),\n",
       " (['5-ep2d_diff_30dir_b1000_b2000_AP'], 1),\n",
       " (['5-ep2d_diff_b0_PA'], 1),\n",
       " (['6-ep2d_diff_30dir_b1000_b2000_AP'], 1),\n",
       " (['6-ep2d_diff_b0_PA'], 1)]"
      ]
     },
     "execution_count": 87,
     "metadata": {},
     "output_type": "execute_result"
    }
   ],
   "source": [
    "sorted(counts, key=lambda x:x[1], reverse=True)"
   ]
  },
  {
   "cell_type": "code",
   "execution_count": 90,
   "metadata": {},
   "outputs": [
    {
     "data": {
      "text/html": [
       "<div>\n",
       "<style scoped>\n",
       "    .dataframe tbody tr th:only-of-type {\n",
       "        vertical-align: middle;\n",
       "    }\n",
       "\n",
       "    .dataframe tbody tr th {\n",
       "        vertical-align: top;\n",
       "    }\n",
       "\n",
       "    .dataframe thead th {\n",
       "        text-align: right;\n",
       "    }\n",
       "</style>\n",
       "<table border=\"1\" class=\"dataframe\">\n",
       "  <thead>\n",
       "    <tr style=\"text-align: right;\">\n",
       "      <th></th>\n",
       "      <th>file_key</th>\n",
       "      <th>Study ID</th>\n",
       "      <th>Dataset</th>\n",
       "      <th>ImagingDiffusion.Main.GUID</th>\n",
       "      <th>ImagingDiffusion.Main.SubjectIDNum</th>\n",
       "      <th>ImagingDiffusion.Main.AgeYrs</th>\n",
       "      <th>ImagingDiffusion.Main.VisitDate</th>\n",
       "      <th>ImagingDiffusion.Main.SiteName</th>\n",
       "      <th>ImagingDiffusion.Main.DaysSinceBaseline</th>\n",
       "      <th>ImagingDiffusion.Main.CaseContrlInd</th>\n",
       "      <th>...</th>\n",
       "      <th>ImagingDiffusion.Diffusion Direction Data.ImgT2WSpinEchoAcquireInd</th>\n",
       "      <th>ImagingDiffusion.Diffusion Direction Data.ImgDiffusionBValFile</th>\n",
       "      <th>ImagingDiffusion.Diffusion Direction Data.ImgDiffusionBVecFile</th>\n",
       "      <th>ImagingDiffusion.Diffusion Derived Data.ImgDiffusionDerivedDataTyp</th>\n",
       "      <th>ImagingDiffusion.Diffusion Derived Data.ImgDiffusionDerivedDataTypOTH</th>\n",
       "      <th>ImagingDiffusion.Diffusion Derived Data.ImgFile</th>\n",
       "      <th>ImagingDiffusion.Diffusion Measurements.ImgDiffusionMeasrTyp</th>\n",
       "      <th>ImagingDiffusion.Diffusion Measurements.ImgDiffusionMeasrOTH</th>\n",
       "      <th>ImagingDiffusion.Diffusion Measurements.ImgDiffusionReslt</th>\n",
       "      <th>save_dir</th>\n",
       "    </tr>\n",
       "  </thead>\n",
       "  <tbody>\n",
       "    <tr>\n",
       "      <th>920</th>\n",
       "      <td>TBIZN166LJY_ImagingDiffusion_FwI5HfqsmyMup5jdJ...</td>\n",
       "      <td>310.0</td>\n",
       "      <td>FITBIR-DATA0006025</td>\n",
       "      <td>TBIZN166LJY</td>\n",
       "      <td>3788.0</td>\n",
       "      <td>19.0</td>\n",
       "      <td>2018-02-28T00:00:00Z</td>\n",
       "      <td>NaN</td>\n",
       "      <td>NaN</td>\n",
       "      <td>Control</td>\n",
       "      <td>...</td>\n",
       "      <td>NaN</td>\n",
       "      <td>NaN</td>\n",
       "      <td>NaN</td>\n",
       "      <td>NaN</td>\n",
       "      <td>NaN</td>\n",
       "      <td>NaN</td>\n",
       "      <td>NaN</td>\n",
       "      <td>NaN</td>\n",
       "      <td>NaN</td>\n",
       "      <td>/gpfs/data/luilab/FITBIR_META_DATA/updated_dat...</td>\n",
       "    </tr>\n",
       "    <tr>\n",
       "      <th>940</th>\n",
       "      <td>TBIZN166LJY_ImagingDiffusion_Q0yPvu3FovZb3aBuD...</td>\n",
       "      <td>310.0</td>\n",
       "      <td>FITBIR-DATA0006025</td>\n",
       "      <td>TBIZN166LJY</td>\n",
       "      <td>3788.0</td>\n",
       "      <td>19.0</td>\n",
       "      <td>2018-03-20T00:00:00Z</td>\n",
       "      <td>NaN</td>\n",
       "      <td>NaN</td>\n",
       "      <td>Control</td>\n",
       "      <td>...</td>\n",
       "      <td>NaN</td>\n",
       "      <td>NaN</td>\n",
       "      <td>NaN</td>\n",
       "      <td>NaN</td>\n",
       "      <td>NaN</td>\n",
       "      <td>NaN</td>\n",
       "      <td>NaN</td>\n",
       "      <td>NaN</td>\n",
       "      <td>NaN</td>\n",
       "      <td>/gpfs/data/luilab/FITBIR_META_DATA/updated_dat...</td>\n",
       "    </tr>\n",
       "    <tr>\n",
       "      <th>956</th>\n",
       "      <td>TBIZN166LJY_ImagingDiffusion_zktD1NO6yl5KGPLEg...</td>\n",
       "      <td>310.0</td>\n",
       "      <td>FITBIR-DATA0006025</td>\n",
       "      <td>TBIZN166LJY</td>\n",
       "      <td>3788.0</td>\n",
       "      <td>19.0</td>\n",
       "      <td>2018-05-22T00:00:00Z</td>\n",
       "      <td>NaN</td>\n",
       "      <td>NaN</td>\n",
       "      <td>Control</td>\n",
       "      <td>...</td>\n",
       "      <td>NaN</td>\n",
       "      <td>NaN</td>\n",
       "      <td>NaN</td>\n",
       "      <td>NaN</td>\n",
       "      <td>NaN</td>\n",
       "      <td>NaN</td>\n",
       "      <td>NaN</td>\n",
       "      <td>NaN</td>\n",
       "      <td>NaN</td>\n",
       "      <td>/gpfs/data/luilab/FITBIR_META_DATA/updated_dat...</td>\n",
       "    </tr>\n",
       "    <tr>\n",
       "      <th>971</th>\n",
       "      <td>TBIZN166LJY_ImagingDiffusion_ubFzaCAVEV1AYAkmR...</td>\n",
       "      <td>310.0</td>\n",
       "      <td>FITBIR-DATA0006025</td>\n",
       "      <td>TBIZN166LJY</td>\n",
       "      <td>3788.0</td>\n",
       "      <td>19.0</td>\n",
       "      <td>2018-03-07T00:00:00Z</td>\n",
       "      <td>NaN</td>\n",
       "      <td>NaN</td>\n",
       "      <td>Control</td>\n",
       "      <td>...</td>\n",
       "      <td>NaN</td>\n",
       "      <td>NaN</td>\n",
       "      <td>NaN</td>\n",
       "      <td>NaN</td>\n",
       "      <td>NaN</td>\n",
       "      <td>NaN</td>\n",
       "      <td>NaN</td>\n",
       "      <td>NaN</td>\n",
       "      <td>NaN</td>\n",
       "      <td>/gpfs/data/luilab/FITBIR_META_DATA/updated_dat...</td>\n",
       "    </tr>\n",
       "    <tr>\n",
       "      <th>991</th>\n",
       "      <td>TBIZN166LJY_ImagingDiffusion_Q0yPvu3FovZb3aBuD...</td>\n",
       "      <td>310.0</td>\n",
       "      <td>FITBIR-DATA0006025</td>\n",
       "      <td>TBIZN166LJY</td>\n",
       "      <td>3788.0</td>\n",
       "      <td>19.0</td>\n",
       "      <td>2018-03-20T00:00:00Z</td>\n",
       "      <td>NaN</td>\n",
       "      <td>NaN</td>\n",
       "      <td>Control</td>\n",
       "      <td>...</td>\n",
       "      <td>NaN</td>\n",
       "      <td>NaN</td>\n",
       "      <td>NaN</td>\n",
       "      <td>NaN</td>\n",
       "      <td>NaN</td>\n",
       "      <td>NaN</td>\n",
       "      <td>NaN</td>\n",
       "      <td>NaN</td>\n",
       "      <td>NaN</td>\n",
       "      <td>/gpfs/data/luilab/FITBIR_META_DATA/updated_dat...</td>\n",
       "    </tr>\n",
       "    <tr>\n",
       "      <th>1006</th>\n",
       "      <td>TBIZN166LJY_ImagingDiffusion_FwI5HfqsmyMup5jdJ...</td>\n",
       "      <td>310.0</td>\n",
       "      <td>FITBIR-DATA0006025</td>\n",
       "      <td>TBIZN166LJY</td>\n",
       "      <td>3788.0</td>\n",
       "      <td>19.0</td>\n",
       "      <td>2018-02-28T00:00:00Z</td>\n",
       "      <td>NaN</td>\n",
       "      <td>NaN</td>\n",
       "      <td>Control</td>\n",
       "      <td>...</td>\n",
       "      <td>NaN</td>\n",
       "      <td>NaN</td>\n",
       "      <td>NaN</td>\n",
       "      <td>NaN</td>\n",
       "      <td>NaN</td>\n",
       "      <td>NaN</td>\n",
       "      <td>NaN</td>\n",
       "      <td>NaN</td>\n",
       "      <td>NaN</td>\n",
       "      <td>/gpfs/data/luilab/FITBIR_META_DATA/updated_dat...</td>\n",
       "    </tr>\n",
       "    <tr>\n",
       "      <th>1023</th>\n",
       "      <td>TBIZN166LJY_ImagingDiffusion_ubFzaCAVEV1AYAkmR...</td>\n",
       "      <td>310.0</td>\n",
       "      <td>FITBIR-DATA0006025</td>\n",
       "      <td>TBIZN166LJY</td>\n",
       "      <td>3788.0</td>\n",
       "      <td>19.0</td>\n",
       "      <td>2018-03-07T00:00:00Z</td>\n",
       "      <td>NaN</td>\n",
       "      <td>NaN</td>\n",
       "      <td>Control</td>\n",
       "      <td>...</td>\n",
       "      <td>NaN</td>\n",
       "      <td>NaN</td>\n",
       "      <td>NaN</td>\n",
       "      <td>NaN</td>\n",
       "      <td>NaN</td>\n",
       "      <td>NaN</td>\n",
       "      <td>NaN</td>\n",
       "      <td>NaN</td>\n",
       "      <td>NaN</td>\n",
       "      <td>/gpfs/data/luilab/FITBIR_META_DATA/updated_dat...</td>\n",
       "    </tr>\n",
       "    <tr>\n",
       "      <th>1044</th>\n",
       "      <td>TBIZN166LJY_ImagingDiffusion_zktD1NO6yl5KGPLEg...</td>\n",
       "      <td>310.0</td>\n",
       "      <td>FITBIR-DATA0006025</td>\n",
       "      <td>TBIZN166LJY</td>\n",
       "      <td>3788.0</td>\n",
       "      <td>19.0</td>\n",
       "      <td>2018-05-22T00:00:00Z</td>\n",
       "      <td>NaN</td>\n",
       "      <td>NaN</td>\n",
       "      <td>Control</td>\n",
       "      <td>...</td>\n",
       "      <td>NaN</td>\n",
       "      <td>NaN</td>\n",
       "      <td>NaN</td>\n",
       "      <td>NaN</td>\n",
       "      <td>NaN</td>\n",
       "      <td>NaN</td>\n",
       "      <td>NaN</td>\n",
       "      <td>NaN</td>\n",
       "      <td>NaN</td>\n",
       "      <td>/gpfs/data/luilab/FITBIR_META_DATA/updated_dat...</td>\n",
       "    </tr>\n",
       "  </tbody>\n",
       "</table>\n",
       "<p>8 rows × 156 columns</p>\n",
       "</div>"
      ],
      "text/plain": [
       "                                               file_key  Study ID  \\\n",
       "920   TBIZN166LJY_ImagingDiffusion_FwI5HfqsmyMup5jdJ...     310.0   \n",
       "940   TBIZN166LJY_ImagingDiffusion_Q0yPvu3FovZb3aBuD...     310.0   \n",
       "956   TBIZN166LJY_ImagingDiffusion_zktD1NO6yl5KGPLEg...     310.0   \n",
       "971   TBIZN166LJY_ImagingDiffusion_ubFzaCAVEV1AYAkmR...     310.0   \n",
       "991   TBIZN166LJY_ImagingDiffusion_Q0yPvu3FovZb3aBuD...     310.0   \n",
       "1006  TBIZN166LJY_ImagingDiffusion_FwI5HfqsmyMup5jdJ...     310.0   \n",
       "1023  TBIZN166LJY_ImagingDiffusion_ubFzaCAVEV1AYAkmR...     310.0   \n",
       "1044  TBIZN166LJY_ImagingDiffusion_zktD1NO6yl5KGPLEg...     310.0   \n",
       "\n",
       "                 Dataset ImagingDiffusion.Main.GUID  \\\n",
       "920   FITBIR-DATA0006025                TBIZN166LJY   \n",
       "940   FITBIR-DATA0006025                TBIZN166LJY   \n",
       "956   FITBIR-DATA0006025                TBIZN166LJY   \n",
       "971   FITBIR-DATA0006025                TBIZN166LJY   \n",
       "991   FITBIR-DATA0006025                TBIZN166LJY   \n",
       "1006  FITBIR-DATA0006025                TBIZN166LJY   \n",
       "1023  FITBIR-DATA0006025                TBIZN166LJY   \n",
       "1044  FITBIR-DATA0006025                TBIZN166LJY   \n",
       "\n",
       "      ImagingDiffusion.Main.SubjectIDNum  ImagingDiffusion.Main.AgeYrs  \\\n",
       "920                               3788.0                          19.0   \n",
       "940                               3788.0                          19.0   \n",
       "956                               3788.0                          19.0   \n",
       "971                               3788.0                          19.0   \n",
       "991                               3788.0                          19.0   \n",
       "1006                              3788.0                          19.0   \n",
       "1023                              3788.0                          19.0   \n",
       "1044                              3788.0                          19.0   \n",
       "\n",
       "     ImagingDiffusion.Main.VisitDate  ImagingDiffusion.Main.SiteName  \\\n",
       "920             2018-02-28T00:00:00Z                             NaN   \n",
       "940             2018-03-20T00:00:00Z                             NaN   \n",
       "956             2018-05-22T00:00:00Z                             NaN   \n",
       "971             2018-03-07T00:00:00Z                             NaN   \n",
       "991             2018-03-20T00:00:00Z                             NaN   \n",
       "1006            2018-02-28T00:00:00Z                             NaN   \n",
       "1023            2018-03-07T00:00:00Z                             NaN   \n",
       "1044            2018-05-22T00:00:00Z                             NaN   \n",
       "\n",
       "      ImagingDiffusion.Main.DaysSinceBaseline  \\\n",
       "920                                       NaN   \n",
       "940                                       NaN   \n",
       "956                                       NaN   \n",
       "971                                       NaN   \n",
       "991                                       NaN   \n",
       "1006                                      NaN   \n",
       "1023                                      NaN   \n",
       "1044                                      NaN   \n",
       "\n",
       "     ImagingDiffusion.Main.CaseContrlInd  ...  \\\n",
       "920                              Control  ...   \n",
       "940                              Control  ...   \n",
       "956                              Control  ...   \n",
       "971                              Control  ...   \n",
       "991                              Control  ...   \n",
       "1006                             Control  ...   \n",
       "1023                             Control  ...   \n",
       "1044                             Control  ...   \n",
       "\n",
       "     ImagingDiffusion.Diffusion Direction Data.ImgT2WSpinEchoAcquireInd  \\\n",
       "920                                                 NaN                   \n",
       "940                                                 NaN                   \n",
       "956                                                 NaN                   \n",
       "971                                                 NaN                   \n",
       "991                                                 NaN                   \n",
       "1006                                                NaN                   \n",
       "1023                                                NaN                   \n",
       "1044                                                NaN                   \n",
       "\n",
       "     ImagingDiffusion.Diffusion Direction Data.ImgDiffusionBValFile  \\\n",
       "920                                                 NaN               \n",
       "940                                                 NaN               \n",
       "956                                                 NaN               \n",
       "971                                                 NaN               \n",
       "991                                                 NaN               \n",
       "1006                                                NaN               \n",
       "1023                                                NaN               \n",
       "1044                                                NaN               \n",
       "\n",
       "     ImagingDiffusion.Diffusion Direction Data.ImgDiffusionBVecFile  \\\n",
       "920                                                 NaN               \n",
       "940                                                 NaN               \n",
       "956                                                 NaN               \n",
       "971                                                 NaN               \n",
       "991                                                 NaN               \n",
       "1006                                                NaN               \n",
       "1023                                                NaN               \n",
       "1044                                                NaN               \n",
       "\n",
       "      ImagingDiffusion.Diffusion Derived Data.ImgDiffusionDerivedDataTyp  \\\n",
       "920                                                 NaN                    \n",
       "940                                                 NaN                    \n",
       "956                                                 NaN                    \n",
       "971                                                 NaN                    \n",
       "991                                                 NaN                    \n",
       "1006                                                NaN                    \n",
       "1023                                                NaN                    \n",
       "1044                                                NaN                    \n",
       "\n",
       "     ImagingDiffusion.Diffusion Derived Data.ImgDiffusionDerivedDataTypOTH  \\\n",
       "920                                                 NaN                      \n",
       "940                                                 NaN                      \n",
       "956                                                 NaN                      \n",
       "971                                                 NaN                      \n",
       "991                                                 NaN                      \n",
       "1006                                                NaN                      \n",
       "1023                                                NaN                      \n",
       "1044                                                NaN                      \n",
       "\n",
       "      ImagingDiffusion.Diffusion Derived Data.ImgFile  \\\n",
       "920                                               NaN   \n",
       "940                                               NaN   \n",
       "956                                               NaN   \n",
       "971                                               NaN   \n",
       "991                                               NaN   \n",
       "1006                                              NaN   \n",
       "1023                                              NaN   \n",
       "1044                                              NaN   \n",
       "\n",
       "     ImagingDiffusion.Diffusion Measurements.ImgDiffusionMeasrTyp  \\\n",
       "920                                                 NaN             \n",
       "940                                                 NaN             \n",
       "956                                                 NaN             \n",
       "971                                                 NaN             \n",
       "991                                                 NaN             \n",
       "1006                                                NaN             \n",
       "1023                                                NaN             \n",
       "1044                                                NaN             \n",
       "\n",
       "     ImagingDiffusion.Diffusion Measurements.ImgDiffusionMeasrOTH  \\\n",
       "920                                                 NaN             \n",
       "940                                                 NaN             \n",
       "956                                                 NaN             \n",
       "971                                                 NaN             \n",
       "991                                                 NaN             \n",
       "1006                                                NaN             \n",
       "1023                                                NaN             \n",
       "1044                                                NaN             \n",
       "\n",
       "      ImagingDiffusion.Diffusion Measurements.ImgDiffusionReslt  \\\n",
       "920                                                 NaN           \n",
       "940                                                 NaN           \n",
       "956                                                 NaN           \n",
       "971                                                 NaN           \n",
       "991                                                 NaN           \n",
       "1006                                                NaN           \n",
       "1023                                                NaN           \n",
       "1044                                                NaN           \n",
       "\n",
       "                                               save_dir  \n",
       "920   /gpfs/data/luilab/FITBIR_META_DATA/updated_dat...  \n",
       "940   /gpfs/data/luilab/FITBIR_META_DATA/updated_dat...  \n",
       "956   /gpfs/data/luilab/FITBIR_META_DATA/updated_dat...  \n",
       "971   /gpfs/data/luilab/FITBIR_META_DATA/updated_dat...  \n",
       "991   /gpfs/data/luilab/FITBIR_META_DATA/updated_dat...  \n",
       "1006  /gpfs/data/luilab/FITBIR_META_DATA/updated_dat...  \n",
       "1023  /gpfs/data/luilab/FITBIR_META_DATA/updated_dat...  \n",
       "1044  /gpfs/data/luilab/FITBIR_META_DATA/updated_dat...  \n",
       "\n",
       "[8 rows x 156 columns]"
      ]
     },
     "execution_count": 90,
     "metadata": {},
     "output_type": "execute_result"
    }
   ],
   "source": [
    "avail_dti_info.loc[avail_dti_info['ImagingDiffusion.Main.GUID'] == 'TBIZN166LJY']"
   ]
  },
  {
   "cell_type": "code",
   "execution_count": 91,
   "metadata": {},
   "outputs": [
    {
     "data": {
      "text/plain": [
       "Index(['file_key', 'Study ID', 'Dataset', 'ImagingDiffusion.Main.GUID',\n",
       "       'ImagingDiffusion.Main.SubjectIDNum', 'ImagingDiffusion.Main.AgeYrs',\n",
       "       'ImagingDiffusion.Main.VisitDate', 'ImagingDiffusion.Main.SiteName',\n",
       "       'ImagingDiffusion.Main.DaysSinceBaseline',\n",
       "       'ImagingDiffusion.Main.CaseContrlInd',\n",
       "       ...\n",
       "       'ImagingDiffusion.Diffusion Direction Data.ImgT2WSpinEchoAcquireInd',\n",
       "       'ImagingDiffusion.Diffusion Direction Data.ImgDiffusionBValFile',\n",
       "       'ImagingDiffusion.Diffusion Direction Data.ImgDiffusionBVecFile',\n",
       "       'ImagingDiffusion.Diffusion Derived Data.ImgDiffusionDerivedDataTyp',\n",
       "       'ImagingDiffusion.Diffusion Derived Data.ImgDiffusionDerivedDataTypOTH',\n",
       "       'ImagingDiffusion.Diffusion Derived Data.ImgFile',\n",
       "       'ImagingDiffusion.Diffusion Measurements.ImgDiffusionMeasrTyp',\n",
       "       'ImagingDiffusion.Diffusion Measurements.ImgDiffusionMeasrOTH',\n",
       "       'ImagingDiffusion.Diffusion Measurements.ImgDiffusionReslt',\n",
       "       'save_dir'],\n",
       "      dtype='object', length=156)"
      ]
     },
     "execution_count": 91,
     "metadata": {},
     "output_type": "execute_result"
    }
   ],
   "source": [
    "avail_dti_info.columns"
   ]
  },
  {
   "cell_type": "code",
   "execution_count": 102,
   "metadata": {},
   "outputs": [
    {
     "name": "stdout",
     "output_type": "stream",
     "text": [
      "920     19.0\n",
      "940     19.0\n",
      "956     19.0\n",
      "971     19.0\n",
      "991     19.0\n",
      "1006    19.0\n",
      "1023    19.0\n",
      "1044    19.0\n",
      "Name: ImagingDiffusion.Main.AgeYrs, dtype: float64\n",
      "40417    Male\n",
      "Name: DemogrFITBIR_Appdx_0000310.Demographics.GenderTypExt, dtype: object\n"
     ]
    }
   ],
   "source": [
    "GUID = 'TBIZN166LJY'\n",
    "demo = pd.read_csv('../common_data/query_result_DemogrFITBIR_Appdx_0000310_2019-07-17T15-33-431463475851249904201.csv', low_memory=False)\n",
    "A = demo.loc[demo['DemogrFITBIR_Appdx_0000310.Main.GUID']==GUID]\n",
    "print(avail_dti_info.loc[avail_dti_info['ImagingDiffusion.Main.GUID'] == 'TBIZN166LJY']['ImagingDiffusion.Main.AgeYrs'])\n",
    "print(A['DemogrFITBIR_Appdx_0000310.Demographics.GenderTypExt'])\n"
   ]
  },
  {
   "cell_type": "code",
   "execution_count": 108,
   "metadata": {},
   "outputs": [],
   "source": [
    "controls = avail_dti_info.loc[avail_dti_info['ImagingDiffusion.Main.CaseContrlInd'] == 'Control']"
   ]
  },
  {
   "cell_type": "code",
   "execution_count": 110,
   "metadata": {},
   "outputs": [],
   "source": [
    "gender_map = {row['DemogrFITBIR_Appdx_0000310.Main.GUID']:row['DemogrFITBIR_Appdx_0000310.Demographics.GenderTypExt'] for i, row in demo.iterrows()}"
   ]
  },
  {
   "cell_type": "code",
   "execution_count": 116,
   "metadata": {},
   "outputs": [
    {
     "name": "stderr",
     "output_type": "stream",
     "text": [
      "<ipython-input-116-78d07aa1f729>:2: SettingWithCopyWarning: \n",
      "A value is trying to be set on a copy of a slice from a DataFrame.\n",
      "Try using .loc[row_indexer,col_indexer] = value instead\n",
      "\n",
      "See the caveats in the documentation: https://pandas.pydata.org/pandas-docs/stable/user_guide/indexing.html#returning-a-view-versus-a-copy\n",
      "  controls['gender'] = genders\n"
     ]
    }
   ],
   "source": [
    "genders = [gender_map[guid] for guid in controls['ImagingDiffusion.Main.GUID'].values]\n",
    "controls['gender'] = genders\n",
    "male_controls = controls.loc[controls['gender']=='Male']\n",
    "\n"
   ]
  },
  {
   "cell_type": "code",
   "execution_count": 118,
   "metadata": {},
   "outputs": [
    {
     "data": {
      "text/plain": [
       "array(['/gpfs/data/luilab/FITBIR_META_DATA/updated_data/DTI_Final_1of4_082819_310/TBIJD290WER_ImagingDiffusion_1566917373323_PYqdXaShoweFFXKiR9ZwrzNtv_15.zip',\n",
       "       '/gpfs/data/luilab/FITBIR_META_DATA/updated_data/DTI_Final_1of4_082819_310/TBIEX362VH3_ImagingDiffusion_1566918578460_yiZTsLK1FJV5x7R4KwtvEMG4x_14.zip',\n",
       "       '/gpfs/data/luilab/FITBIR_META_DATA/updated_data/DTI_Final_1of4_082819_310/TBINM872KDP_ImagingDiffusion_1566917933713_8oIWtMOAZjOgvHapATqLSzPQa_7.zip',\n",
       "       '/gpfs/data/luilab/FITBIR_META_DATA/updated_data/DTI_Final_1of4_082819_310/TBIMX094ZTC_ImagingDiffusion_1566916826677_vs3g74HBQ9jLRyR6d5R1YiGF1_16.zip',\n",
       "       '/gpfs/data/luilab/FITBIR_META_DATA/updated_data/DTI_Final_1of4_082819_310/TBIUV221NTZ_ImagingDiffusion_1566919205604_wWLdQeKLiutNsegxWsr1y0Ugl_13.zip',\n",
       "       '/gpfs/data/luilab/FITBIR_META_DATA/updated_data/DTI_Final_1of4_082819_310/TBICX014CFL_ImagingDiffusion_1566917367644_g9XU9MIR1NQEt07QBp1jwTcWU_13.zip',\n",
       "       '/gpfs/data/luilab/FITBIR_META_DATA/updated_data/DTI_Final_1of4_082819_310/TBIUJ419GBT_ImagingDiffusion_1566919227216_KVvvSk2M34ciaucWXFbG0L9dM_11.zip',\n",
       "       '/gpfs/data/luilab/FITBIR_META_DATA/updated_data/DTI_Final_1of4_082819_310/TBIHR733FW9_ImagingDiffusion_1566918582621_Dr5Ar0KiJMZZQu6j3NZBUWr9l_13.zip',\n",
       "       '/gpfs/data/luilab/FITBIR_META_DATA/updated_data/DTI_Final_1of4_082819_310/TBIUL915HHX_ImagingDiffusion_1566917376055_NgIEgHSCwWWE5HKGuO31DCjXW_16.zip',\n",
       "       '/gpfs/data/luilab/FITBIR_META_DATA/updated_data/DTI_Final_1of4_082819_310/TBIEP779ECB_ImagingDiffusion_1566916822238_w0ZAKbY3HYimNayq0yitGQYPb_12.zip',\n",
       "       '/gpfs/data/luilab/FITBIR_META_DATA/updated_data/DTI_Final_1of4_082819_310/TBINM872KDP_ImagingDiffusion_1566917937465_07pAJw3HzDz26k2iyBzVdFIYn_13.zip',\n",
       "       '/gpfs/data/luilab/FITBIR_META_DATA/updated_data/DTI_Final_1of4_082819_310/TBIEX362VH3_ImagingDiffusion_1566918574658_yol9zGGkx60hHwLoeXQCJcpmE_13.zip',\n",
       "       '/gpfs/data/luilab/FITBIR_META_DATA/updated_data/DTI_Final_1of4_082819_310/TBIEX362VH3_ImagingDiffusion_1566918575671_Suy4Qqr6pl3xrJQpCHdZe5j3D_16.zip',\n",
       "       '/gpfs/data/luilab/FITBIR_META_DATA/updated_data/DTI_Final_1of4_082819_310/TBIJD290WER_ImagingDiffusion_1566917371577_nZ7LTjVE7fqgLtqbn6oG8jg5d_7.zip',\n",
       "       '/gpfs/data/luilab/FITBIR_META_DATA/updated_data/DTI_Final_1of4_082819_310/TBIUL915HHX_ImagingDiffusion_1566917377787_MYmXiWWg7TdvIazOBxLacDWbb_14.zip',\n",
       "       '/gpfs/data/luilab/FITBIR_META_DATA/updated_data/DTI_Final_1of4_082819_310/TBIMX094ZTC_ImagingDiffusion_1566916824784_hldUwdUwOyBCT04WeHRsk845T_13.zip',\n",
       "       '/gpfs/data/luilab/FITBIR_META_DATA/updated_data/DTI_Final_1of4_082819_310/TBIBY712FUD_ImagingDiffusion_1566917365610_HeMbShEZWKV9bOqUjxBGbcFjf_11.zip',\n",
       "       '/gpfs/data/luilab/FITBIR_META_DATA/updated_data/DTI_Final_1of4_082819_310/TBIHR733FW9_ImagingDiffusion_1566918585070_DlG1Q2Ki8BAyMs8F2dMjQZSFD_16.zip',\n",
       "       '/gpfs/data/luilab/FITBIR_META_DATA/updated_data/DTI_Final_1of4_082819_310/TBIHR733FW9_ImagingDiffusion_1566918580315_Cg21KE6HAQ6OoTAmZjTa7n4RE_15.zip',\n",
       "       '/gpfs/data/luilab/FITBIR_META_DATA/updated_data/DTI_Final_1of4_082819_310/TBIUL915HHX_ImagingDiffusion_1566917375072_1FQRshCXvWVyvWzEN3FAThrTm_13.zip',\n",
       "       '/gpfs/data/luilab/FITBIR_META_DATA/updated_data/DTI_Final_1of4_082819_310/TBINM872KDP_ImagingDiffusion_1566917935658_ZRz0XBezqpDl65JXxo4Y02qH3_15.zip',\n",
       "       '/gpfs/data/luilab/FITBIR_META_DATA/updated_data/DTI_Final_1of4_082819_310/TBIBU887ZBJ_ImagingDiffusion_1566919216362_eTt5jaSw89GHla4lzFz50n68i_12.zip',\n",
       "       '/gpfs/data/luilab/FITBIR_META_DATA/updated_data/DTI_Final_1of4_082819_310/TBIEX362VH3_ImagingDiffusion_1566918577003_2AndkpZ7BLQgmksoiUbjUoB4e_15.zip',\n",
       "       '/gpfs/data/luilab/FITBIR_META_DATA/updated_data/DTI_Final_1of4_082819_310/TBIJD290WER_ImagingDiffusion_1566917372442_nZ7LTjVE7fqgLtqbn6oG8jg5d_16.zip',\n",
       "       '/gpfs/data/luilab/FITBIR_META_DATA/updated_data/DTI_Final_1of4_082819_310/TBIXB731TKC_ImagingDiffusion_1566916818342_0cMBvKvCcBmQAUVEH0CzEw6hi_11.zip',\n",
       "       '/gpfs/data/luilab/FITBIR_META_DATA/updated_data/DTI_Final_1of4_082819_310/TBIBL649MKK_ImagingDiffusion_1566917932886_jHdS8TH30VjliGcEhVJ3NCUBS_11.zip',\n",
       "       '/gpfs/data/luilab/FITBIR_META_DATA/updated_data/DTI_Final_1of4_082819_310/TBIMX094ZTC_ImagingDiffusion_1566916825171_vs3g74HBQ9jLRyR6d5R1YiGF1_7.zip',\n",
       "       '/gpfs/data/luilab/FITBIR_META_DATA/updated_data/DTI_Final_1of4_082819_310/TBICX014CFL_ImagingDiffusion_1566917366778_kp0xqmElyuCTQKfrzoKcvpQm1_14.zip',\n",
       "       '/gpfs/data/luilab/FITBIR_META_DATA/updated_data/DTI_Final_1of4_082819_310/TBINM872KDP_ImagingDiffusion_1566917936528_VtsZzbH12HUrxe4Q561qC4RYs_14.zip',\n",
       "       '/gpfs/data/luilab/FITBIR_META_DATA/updated_data/DTI_Final_1of4_082819_310/TBIKY573LNX_ImagingDiffusion_1566918573191_DryxE1ytl30XngQYRRFj4MuvM_11.zip',\n",
       "       '/gpfs/data/luilab/FITBIR_META_DATA/updated_data/DTI_Final_1of4_082819_310/TBITC277FAU_ImagingDiffusion_1566919223196_NHYgrnWwohTTwgiz79PHLe1E5_11.zip',\n",
       "       '/gpfs/data/luilab/FITBIR_META_DATA/updated_data/DTI_Final_1of4_082819_310/TBIHR733FW9_ImagingDiffusion_1566918581485_CRiqOW4Qi7ujbTO9q1t4Qqawy_14.zip',\n",
       "       '/gpfs/data/luilab/FITBIR_META_DATA/updated_data/DTI_Final_1of4_082819_310/TBIUL915HHX_ImagingDiffusion_1566917375189_NgIEgHSCwWWE5HKGuO31DCjXW_7.zip',\n",
       "       '/gpfs/data/luilab/FITBIR_META_DATA/updated_data/DTI_Final_1of4_082819_310/TBIJD290WER_ImagingDiffusion_1566917374174_WKZZuoAQfbRZbPrIbfnV3GWxN_15.zip',\n",
       "       '/gpfs/data/luilab/FITBIR_META_DATA/updated_data/DTI_Final_1of4_082819_310/TBINM872KDP_ImagingDiffusion_1566917934600_8oIWtMOAZjOgvHapATqLSzPQa_16.zip',\n",
       "       '/gpfs/data/luilab/FITBIR_META_DATA/updated_data/DTI_Final_1of4_082819_310/TBIMX094ZTC_ImagingDiffusion_1566916827955_iqv8qe8xl14I588V5qGzSz1xr_15.zip',\n",
       "       '/gpfs/data/luilab/FITBIR_META_DATA/updated_data/DTI_Final_1of4_082819_310/TBITG047JT0_ImagingDiffusion_1566919207088_NDCWIdklfNhAN907ecbBMl5pH_12.zip',\n",
       "       '/gpfs/data/luilab/FITBIR_META_DATA/updated_data/DTI_Final_1of4_082819_310/TBIEX362VH3_ImagingDiffusion_1566918574774_Suy4Qqr6pl3xrJQpCHdZe5j3D_7.zip',\n",
       "       '/gpfs/data/luilab/FITBIR_META_DATA/updated_data/DTI_Final_1of4_082819_310/TBIJD290WER_ImagingDiffusion_1566917371344_PuWjyRHV2mEO7P8xjrI5txUHD_13.zip',\n",
       "       '/gpfs/data/luilab/FITBIR_META_DATA/updated_data/DTI_Final_1of4_082819_310/TBIUL915HHX_ImagingDiffusion_1566917376928_jLkGN5WeiGury6K90bPdodcSD_15.zip',\n",
       "       '/gpfs/data/luilab/FITBIR_META_DATA/updated_data/DTI_Final_1of4_082819_310/TBIHR733FW9_ImagingDiffusion_1566918583193_DlG1Q2Ki8BAyMs8F2dMjQZSFD_7.zip',\n",
       "       '/gpfs/data/luilab/FITBIR_META_DATA/updated_data/DTI_Final_1of4_082819_310/TBIMX094ZTC_ImagingDiffusion_1566917365344_qYc6aqIOeFGONWcK7EGuYLirh_14.zip',\n",
       "       '/gpfs/data/luilab/FITBIR_META_DATA/updated_data/DTI_Final_1of4_082819_310/TBIJA036XXJ_ImagingDiffusion_1566919202315_hm2JnvrBxGU4ZDOwof8fmBPk8_11.zip',\n",
       "       '/gpfs/data/luilab/FITBIR_META_DATA/updated_data/DTI_Final_1of4_082819_310/TBIEX362VH3_ImagingDiffusion_1566918575613_Suy4Qqr6pl3xrJQpCHdZe5j3D_14.zip',\n",
       "       '/gpfs/data/luilab/FITBIR_META_DATA/updated_data/DTI_Final_1of4_082819_310/TBIJD290WER_ImagingDiffusion_1566917371407_PuWjyRHV2mEO7P8xjrI5txUHD_15.zip',\n",
       "       '/gpfs/data/luilab/FITBIR_META_DATA/updated_data/DTI_Final_1of4_082819_310/TBIUL915HHX_ImagingDiffusion_1566917376986_MYmXiWWg7TdvIazOBxLacDWbb_7.zip',\n",
       "       '/gpfs/data/luilab/FITBIR_META_DATA/updated_data/DTI_Final_1of4_082819_310/TBITU028JF7_ImagingDiffusion_1566916810928_8j8K5inKycgBLKXYnSnIrdJWP_11.zip',\n",
       "       '/gpfs/data/luilab/FITBIR_META_DATA/updated_data/DTI_Final_1of4_082819_310/TBIMX094ZTC_ImagingDiffusion_1566917365405_qYc6aqIOeFGONWcK7EGuYLirh_16.zip',\n",
       "       '/gpfs/data/luilab/FITBIR_META_DATA/updated_data/DTI_Final_1of4_082819_310/TBIHR733FW9_ImagingDiffusion_1566918584626_DlG1Q2Ki8BAyMs8F2dMjQZSFD_14.zip',\n",
       "       '/gpfs/data/luilab/FITBIR_META_DATA/updated_data/DTI_Final_1of4_082819_310/TBINM872KDP_ImagingDiffusion_1566917935566_ZRz0XBezqpDl65JXxo4Y02qH3_13.zip',\n",
       "       '/gpfs/data/luilab/FITBIR_META_DATA/updated_data/DTI_Final_1of4_082819_310/TBIHR733FW9_ImagingDiffusion_1566918580247_Cg21KE6HAQ6OoTAmZjTa7n4RE_13.zip',\n",
       "       '/gpfs/data/luilab/FITBIR_META_DATA/updated_data/DTI_Final_1of4_082819_310/TBIJD290WER_ImagingDiffusion_1566917374235_WKZZuoAQfbRZbPrIbfnV3GWxN_17.zip',\n",
       "       '/gpfs/data/luilab/FITBIR_META_DATA/updated_data/DTI_Final_1of4_082819_310/TBIEX362VH3_ImagingDiffusion_1566918577434_yiZTsLK1FJV5x7R4KwtvEMG4x_7.zip',\n",
       "       '/gpfs/data/luilab/FITBIR_META_DATA/updated_data/DTI_Final_1of4_082819_310/TBIJD290WER_ImagingDiffusion_1566917373265_PYqdXaShoweFFXKiR9ZwrzNtv_13.zip',\n",
       "       '/gpfs/data/luilab/FITBIR_META_DATA/updated_data/DTI_Final_1of4_082819_310/TBICX014CFL_ImagingDiffusion_1566917366836_kp0xqmElyuCTQKfrzoKcvpQm1_16.zip',\n",
       "       '/gpfs/data/luilab/FITBIR_META_DATA/updated_data/DTI_Final_1of4_082819_310/TBIBL649MKK_ImagingDiffusion_1566917933313_upi83tHOzBSQj6hfH06W69QGw_11.zip',\n",
       "       '/gpfs/data/luilab/FITBIR_META_DATA/updated_data/DTI_Final_1of4_082819_310/TBIMX094ZTC_ImagingDiffusion_1566916826181_vs3g74HBQ9jLRyR6d5R1YiGF1_14.zip',\n",
       "       '/gpfs/data/luilab/FITBIR_META_DATA/updated_data/DTI_Final_1of4_082819_310/TBIUV221NTZ_ImagingDiffusion_1566919204985_8jquvSbc9IioEZDAGO9jEG9Vr_11.zip',\n",
       "       '/gpfs/data/luilab/FITBIR_META_DATA/updated_data/DTI_Final_1of4_082819_310/TBINM872KDP_ImagingDiffusion_1566917936588_VtsZzbH12HUrxe4Q561qC4RYs_16.zip',\n",
       "       '/gpfs/data/luilab/FITBIR_META_DATA/updated_data/DTI_Final_1of4_082819_310/TBIKY573LNX_ImagingDiffusion_1566918573565_Qze45y6eiez3V39OrZd12vygp_11.zip',\n",
       "       '/gpfs/data/luilab/FITBIR_META_DATA/updated_data/DTI_Final_1of4_082819_310/TBIUL915HHX_ImagingDiffusion_1566917375995_NgIEgHSCwWWE5HKGuO31DCjXW_14.zip',\n",
       "       '/gpfs/data/luilab/FITBIR_META_DATA/updated_data/DTI_Final_1of4_082819_310/TBIHR733FW9_ImagingDiffusion_1566918581550_CRiqOW4Qi7ujbTO9q1t4Qqawy_16.zip',\n",
       "       '/gpfs/data/luilab/FITBIR_META_DATA/updated_data/DTI_Final_1of4_082819_310/TBIEX362VH3_ImagingDiffusion_1566918578793_yiZTsLK1FJV5x7R4KwtvEMG4x_16.zip',\n",
       "       '/gpfs/data/luilab/FITBIR_META_DATA/updated_data/DTI_Final_1of4_082819_310/TBIJD290WER_ImagingDiffusion_1566917373381_WKZZuoAQfbRZbPrIbfnV3GWxN_8.zip',\n",
       "       '/gpfs/data/luilab/FITBIR_META_DATA/updated_data/DTI_Final_1of4_082819_310/TBICX014CFL_ImagingDiffusion_1566917367703_g9XU9MIR1NQEt07QBp1jwTcWU_15.zip',\n",
       "       '/gpfs/data/luilab/FITBIR_META_DATA/updated_data/DTI_Final_1of4_082819_310/TBINM872KDP_ImagingDiffusion_1566917934542_8oIWtMOAZjOgvHapATqLSzPQa_14.zip',\n",
       "       '/gpfs/data/luilab/FITBIR_META_DATA/updated_data/DTI_Final_1of4_082819_310/TBIMX094ZTC_ImagingDiffusion_1566916827720_iqv8qe8xl14I588V5qGzSz1xr_13.zip',\n",
       "       '/gpfs/data/luilab/FITBIR_META_DATA/updated_data/DTI_Final_1of4_082819_310/TBITG047JT0_ImagingDiffusion_1566919206501_kVAlMVMKstwhGOX9lAVLLNcCw_11.zip',\n",
       "       '/gpfs/data/luilab/FITBIR_META_DATA/updated_data/DTI_Final_1of4_082819_310/TBINM872KDP_ImagingDiffusion_1566917937534_07pAJw3HzDz26k2iyBzVdFIYn_15.zip',\n",
       "       '/gpfs/data/luilab/FITBIR_META_DATA/updated_data/DTI_Final_1of4_082819_310/TBIEX362VH3_ImagingDiffusion_1566918574715_yol9zGGkx60hHwLoeXQCJcpmE_15.zip',\n",
       "       '/gpfs/data/luilab/FITBIR_META_DATA/updated_data/DTI_Final_1of4_082819_310/TBIUL915HHX_ImagingDiffusion_1566917376871_jLkGN5WeiGury6K90bPdodcSD_13.zip',\n",
       "       '/gpfs/data/luilab/FITBIR_META_DATA/updated_data/DTI_Final_1of4_082819_310/TBIHR733FW9_ImagingDiffusion_1566918582921_Dr5Ar0KiJMZZQu6j3NZBUWr9l_15.zip',\n",
       "       '/gpfs/data/luilab/FITBIR_META_DATA/updated_data/DTI_Final_1of4_082819_310/TBIMX094ZTC_ImagingDiffusion_1566917364541_qYc6aqIOeFGONWcK7EGuYLirh_7.zip',\n",
       "       '/gpfs/data/luilab/FITBIR_META_DATA/updated_data/DTI_Final_1of4_082819_310/TBIEP779ECB_ImagingDiffusion_1566916822664_pFRt0Tsf5ZG0amjZhjbMop8N6_11.zip',\n",
       "       '/gpfs/data/luilab/FITBIR_META_DATA/updated_data/DTI_Final_1of4_082819_310/TBIJA036XXJ_ImagingDiffusion_1566919201819_yzajilclpNy4YW0ARGtMng6d6_12.zip',\n",
       "       '/gpfs/data/luilab/FITBIR_META_DATA/updated_data/DTI_Final_1of4_082819_310/TBIBU887ZBJ_ImagingDiffusion_1566919215580_FJpEkhWq9LFwScCsQxPqnH0CG_11.zip',\n",
       "       '/gpfs/data/luilab/FITBIR_META_DATA/updated_data/DTI_Final_1of4_082819_310/TBIEX362VH3_ImagingDiffusion_1566918576711_2AndkpZ7BLQgmksoiUbjUoB4e_13.zip',\n",
       "       '/gpfs/data/luilab/FITBIR_META_DATA/updated_data/DTI_Final_1of4_082819_310/TBIJD290WER_ImagingDiffusion_1566917372385_nZ7LTjVE7fqgLtqbn6oG8jg5d_14.zip',\n",
       "       '/gpfs/data/luilab/FITBIR_META_DATA/updated_data/DTI_Final_1of4_082819_310/TBIXB731TKC_ImagingDiffusion_1566916817899_KVJolZRQagWKFkkoJLJ3Fg1aA_11.zip',\n",
       "       '/gpfs/data/luilab/FITBIR_META_DATA/updated_data/DTI_Final_1of4_082819_310/TBIUL915HHX_ImagingDiffusion_1566917377903_MYmXiWWg7TdvIazOBxLacDWbb_16.zip',\n",
       "       '/gpfs/data/luilab/FITBIR_META_DATA/updated_data/DTI_Final_1of4_082819_310/TBIMX094ZTC_ImagingDiffusion_1566916824977_hldUwdUwOyBCT04WeHRsk845T_15.zip',\n",
       "       '/gpfs/data/luilab/FITBIR_META_DATA/updated_data/DTI_Final_1of4_082819_310/TBICX014CFL_ImagingDiffusion_1566917365964_kp0xqmElyuCTQKfrzoKcvpQm1_7.zip',\n",
       "       '/gpfs/data/luilab/FITBIR_META_DATA/updated_data/DTI_Final_1of4_082819_310/TBIHR733FW9_ImagingDiffusion_1566918580384_CRiqOW4Qi7ujbTO9q1t4Qqawy_7.zip',\n",
       "       '/gpfs/data/luilab/FITBIR_META_DATA/updated_data/DTI_Final_1of4_082819_310/TBIUL915HHX_ImagingDiffusion_1566917375131_1FQRshCXvWVyvWzEN3FAThrTm_15.zip',\n",
       "       '/gpfs/data/luilab/FITBIR_META_DATA/updated_data/DTI_Final_1of4_082819_310/TBINM872KDP_ImagingDiffusion_1566917935716_VtsZzbH12HUrxe4Q561qC4RYs_7.zip',\n",
       "       '/gpfs/data/luilab/FITBIR_META_DATA/updated_data/DTI_Final_1of4_082819_310/TBIEX362VH3_ImagingDiffusion_1566918575585_Suy4Qqr6pl3xrJQpCHdZe5j3D_13.zip',\n",
       "       '/gpfs/data/luilab/FITBIR_META_DATA/updated_data/DTI_Final_1of4_082819_310/TBIJD290WER_ImagingDiffusion_1566917371373_PuWjyRHV2mEO7P8xjrI5txUHD_14.zip',\n",
       "       '/gpfs/data/luilab/FITBIR_META_DATA/updated_data/DTI_Final_1of4_082819_310/TBIUL915HHX_ImagingDiffusion_1566917376955_jLkGN5WeiGury6K90bPdodcSD_16.zip',\n",
       "       '/gpfs/data/luilab/FITBIR_META_DATA/updated_data/DTI_Final_1of4_082819_310/TBITU028JF7_ImagingDiffusion_1566916810753_o6S5iiMefCKdsgFBzFV9xDopt_11.zip',\n",
       "       '/gpfs/data/luilab/FITBIR_META_DATA/updated_data/DTI_Final_1of4_082819_310/TBIMX094ZTC_ImagingDiffusion_1566917365374_qYc6aqIOeFGONWcK7EGuYLirh_15.zip',\n",
       "       '/gpfs/data/luilab/FITBIR_META_DATA/updated_data/DTI_Final_1of4_082819_310/TBIHR733FW9_ImagingDiffusion_1566918584534_DlG1Q2Ki8BAyMs8F2dMjQZSFD_13.zip',\n",
       "       '/gpfs/data/luilab/FITBIR_META_DATA/updated_data/DTI_Final_1of4_082819_310/TBINM872KDP_ImagingDiffusion_1566917934630_ZRz0XBezqpDl65JXxo4Y02qH3_7.zip',\n",
       "       '/gpfs/data/luilab/FITBIR_META_DATA/updated_data/DTI_Final_1of4_082819_310/TBIHR733FW9_ImagingDiffusion_1566918579313_Cg21KE6HAQ6OoTAmZjTa7n4RE_7.zip',\n",
       "       '/gpfs/data/luilab/FITBIR_META_DATA/updated_data/DTI_Final_1of4_082819_310/TBIJD290WER_ImagingDiffusion_1566917374202_WKZZuoAQfbRZbPrIbfnV3GWxN_16.zip',\n",
       "       '/gpfs/data/luilab/FITBIR_META_DATA/updated_data/DTI_Final_1of4_082819_310/TBIEX362VH3_ImagingDiffusion_1566918577120_2AndkpZ7BLQgmksoiUbjUoB4e_16.zip',\n",
       "       '/gpfs/data/luilab/FITBIR_META_DATA/updated_data/DTI_Final_1of4_082819_310/TBIBU887ZBJ_ImagingDiffusion_1566919216807_M9ehIDV3uDyislIpaYcsRqcBM_11.zip',\n",
       "       '/gpfs/data/luilab/FITBIR_META_DATA/updated_data/DTI_Final_1of4_082819_310/TBIXB731TKC_ImagingDiffusion_1566916818522_VuX0NqbWUaOpiELmIMExOTUlH_11.zip',\n",
       "       '/gpfs/data/luilab/FITBIR_META_DATA/updated_data/DTI_Final_1of4_082819_310/TBIJD290WER_ImagingDiffusion_1566917372471_PYqdXaShoweFFXKiR9ZwrzNtv_7.zip',\n",
       "       '/gpfs/data/luilab/FITBIR_META_DATA/updated_data/DTI_Final_1of4_082819_310/TBICX014CFL_ImagingDiffusion_1566917366806_kp0xqmElyuCTQKfrzoKcvpQm1_15.zip',\n",
       "       '/gpfs/data/luilab/FITBIR_META_DATA/updated_data/DTI_Final_1of4_082819_310/TBIBL649MKK_ImagingDiffusion_1566917933080_qNMNgujD7UBBLhCNvkfF8kLnC_11.zip',\n",
       "       '/gpfs/data/luilab/FITBIR_META_DATA/updated_data/DTI_Final_1of4_082819_310/TBIMX094ZTC_ImagingDiffusion_1566916825959_vs3g74HBQ9jLRyR6d5R1YiGF1_13.zip',\n",
       "       '/gpfs/data/luilab/FITBIR_META_DATA/updated_data/DTI_Final_1of4_082819_310/TBIUV221NTZ_ImagingDiffusion_1566919204668_73Exxa4IRY6iUyTn9Hs4OqOu8_11.zip',\n",
       "       '/gpfs/data/luilab/FITBIR_META_DATA/updated_data/DTI_Final_1of4_082819_310/TBINM872KDP_ImagingDiffusion_1566917936559_VtsZzbH12HUrxe4Q561qC4RYs_15.zip',\n",
       "       '/gpfs/data/luilab/FITBIR_META_DATA/updated_data/DTI_Final_1of4_082819_310/TBIKY573LNX_ImagingDiffusion_1566918573389_CBs36nEpR2Kx9Y8izbVtWk9Oi_11.zip',\n",
       "       '/gpfs/data/luilab/FITBIR_META_DATA/updated_data/DTI_Final_1of4_082819_310/TBIUL915HHX_ImagingDiffusion_1566917375965_NgIEgHSCwWWE5HKGuO31DCjXW_13.zip',\n",
       "       '/gpfs/data/luilab/FITBIR_META_DATA/updated_data/DTI_Final_1of4_082819_310/TBIHR733FW9_ImagingDiffusion_1566918581518_CRiqOW4Qi7ujbTO9q1t4Qqawy_15.zip',\n",
       "       '/gpfs/data/luilab/FITBIR_META_DATA/updated_data/DTI_Final_1of4_082819_310/TBIEX362VH3_ImagingDiffusion_1566918578684_yiZTsLK1FJV5x7R4KwtvEMG4x_15.zip',\n",
       "       '/gpfs/data/luilab/FITBIR_META_DATA/updated_data/DTI_Final_1of4_082819_310/TBIJD290WER_ImagingDiffusion_1566917373351_PYqdXaShoweFFXKiR9ZwrzNtv_16.zip',\n",
       "       '/gpfs/data/luilab/FITBIR_META_DATA/updated_data/DTI_Final_1of4_082819_310/TBICX014CFL_ImagingDiffusion_1566917367673_g9XU9MIR1NQEt07QBp1jwTcWU_14.zip',\n",
       "       '/gpfs/data/luilab/FITBIR_META_DATA/updated_data/DTI_Final_1of4_082819_310/TBINM872KDP_ImagingDiffusion_1566917934514_8oIWtMOAZjOgvHapATqLSzPQa_13.zip',\n",
       "       '/gpfs/data/luilab/FITBIR_META_DATA/updated_data/DTI_Final_1of4_082819_310/TBIMX094ZTC_ImagingDiffusion_1566916826885_iqv8qe8xl14I588V5qGzSz1xr_7.zip',\n",
       "       '/gpfs/data/luilab/FITBIR_META_DATA/updated_data/DTI_Final_1of4_082819_310/TBITG047JT0_ImagingDiffusion_1566919206299_2eojBge9cqSTmBKcuoPcrJkNi_11.zip',\n",
       "       '/gpfs/data/luilab/FITBIR_META_DATA/updated_data/DTI_Final_1of4_082819_310/TBINM872KDP_ImagingDiffusion_1566917937504_07pAJw3HzDz26k2iyBzVdFIYn_14.zip',\n",
       "       '/gpfs/data/luilab/FITBIR_META_DATA/updated_data/DTI_Final_1of4_082819_310/TBIEX362VH3_ImagingDiffusion_1566918574687_yol9zGGkx60hHwLoeXQCJcpmE_14.zip',\n",
       "       '/gpfs/data/luilab/FITBIR_META_DATA/updated_data/DTI_Final_1of4_082819_310/TBIUL915HHX_ImagingDiffusion_1566917376086_jLkGN5WeiGury6K90bPdodcSD_7.zip',\n",
       "       '/gpfs/data/luilab/FITBIR_META_DATA/updated_data/DTI_Final_1of4_082819_310/TBIHR733FW9_ImagingDiffusion_1566918582781_Dr5Ar0KiJMZZQu6j3NZBUWr9l_14.zip',\n",
       "       '/gpfs/data/luilab/FITBIR_META_DATA/updated_data/DTI_Final_1of4_082819_310/TBIMX094ZTC_ImagingDiffusion_1566917364184_iqv8qe8xl14I588V5qGzSz1xr_16.zip',\n",
       "       '/gpfs/data/luilab/FITBIR_META_DATA/updated_data/DTI_Final_1of4_082819_310/TBIEP779ECB_ImagingDiffusion_1566916822423_9mt1qDIfkqOe0AsDkKdzdDAum_11.zip',\n",
       "       '/gpfs/data/luilab/FITBIR_META_DATA/updated_data/DTI_Final_1of4_082819_310/TBIJA036XXJ_ImagingDiffusion_1566919201540_TmaEgrkBLCmGOY2LjQidd5YnG_11.zip',\n",
       "       '/gpfs/data/luilab/FITBIR_META_DATA/updated_data/DTI_Final_1of4_082819_310/TBIEX362VH3_ImagingDiffusion_1566918575700_2AndkpZ7BLQgmksoiUbjUoB4e_7.zip',\n",
       "       '/gpfs/data/luilab/FITBIR_META_DATA/updated_data/DTI_Final_1of4_082819_310/TBIJD290WER_ImagingDiffusion_1566917372353_nZ7LTjVE7fqgLtqbn6oG8jg5d_13.zip',\n",
       "       '/gpfs/data/luilab/FITBIR_META_DATA/updated_data/DTI_Final_1of4_082819_310/TBIUL915HHX_ImagingDiffusion_1566917377816_MYmXiWWg7TdvIazOBxLacDWbb_15.zip',\n",
       "       '/gpfs/data/luilab/FITBIR_META_DATA/updated_data/DTI_Final_1of4_082819_310/TBIMX094ZTC_ImagingDiffusion_1566916824906_hldUwdUwOyBCT04WeHRsk845T_14.zip',\n",
       "       '/gpfs/data/luilab/FITBIR_META_DATA/updated_data/DTI_Final_1of4_082819_310/TBIBY712FUD_ImagingDiffusion_1566917365786_egF96vQiqnezJDWkwdgFFMmai_11.zip',\n",
       "       '/gpfs/data/luilab/FITBIR_META_DATA/updated_data/DTI_Final_1of4_082819_310/TBIHR733FW9_ImagingDiffusion_1566918580354_Cg21KE6HAQ6OoTAmZjTa7n4RE_16.zip',\n",
       "       '/gpfs/data/luilab/FITBIR_META_DATA/updated_data/DTI_Final_1of4_082819_310/TBIUL915HHX_ImagingDiffusion_1566917375103_1FQRshCXvWVyvWzEN3FAThrTm_14.zip',\n",
       "       '/gpfs/data/luilab/FITBIR_META_DATA/updated_data/DTI_Final_1of4_082819_310/TBINM872KDP_ImagingDiffusion_1566917935686_ZRz0XBezqpDl65JXxo4Y02qH3_16.zip',\n",
       "       '/gpfs/data/luilab/FITBIR_META_DATA/updated_data/DTI_Final_1of4_082819_310/TBIEX362VH3_ImagingDiffusion_1566918578359_yiZTsLK1FJV5x7R4KwtvEMG4x_13.zip',\n",
       "       '/gpfs/data/luilab/FITBIR_META_DATA/updated_data/DTI_Final_1of4_082819_310/TBIJD290WER_ImagingDiffusion_1566917373294_PYqdXaShoweFFXKiR9ZwrzNtv_14.zip',\n",
       "       '/gpfs/data/luilab/FITBIR_META_DATA/updated_data/DTI_Final_1of4_082819_310/TBICX014CFL_ImagingDiffusion_1566917366865_g9XU9MIR1NQEt07QBp1jwTcWU_7.zip',\n",
       "       '/gpfs/data/luilab/FITBIR_META_DATA/updated_data/DTI_Final_1of4_082819_310/TBIBL649MKK_ImagingDiffusion_1566917933510_jiLq9wvTPXhQ48EAZ7L056QLS_11.zip',\n",
       "       '/gpfs/data/luilab/FITBIR_META_DATA/updated_data/DTI_Final_1of4_082819_310/TBIMX094ZTC_ImagingDiffusion_1566916826498_vs3g74HBQ9jLRyR6d5R1YiGF1_15.zip',\n",
       "       '/gpfs/data/luilab/FITBIR_META_DATA/updated_data/DTI_Final_1of4_082819_310/TBIUV221NTZ_ImagingDiffusion_1566919205366_ByplIqsMUyYX49KI0xNpkXezy_11.zip',\n",
       "       '/gpfs/data/luilab/FITBIR_META_DATA/updated_data/DTI_Final_1of4_082819_310/TBIUJ419GBT_ImagingDiffusion_1566919226539_ofy66LZA3syAP7BcSfYbmX58y_11.zip',\n",
       "       '/gpfs/data/luilab/FITBIR_META_DATA/updated_data/DTI_Final_1of4_082819_310/TBIHR733FW9_ImagingDiffusion_1566918581589_Dr5Ar0KiJMZZQu6j3NZBUWr9l_7.zip',\n",
       "       '/gpfs/data/luilab/FITBIR_META_DATA/updated_data/DTI_Final_1of4_082819_310/TBIUL915HHX_ImagingDiffusion_1566917376024_NgIEgHSCwWWE5HKGuO31DCjXW_15.zip',\n",
       "       '/gpfs/data/luilab/FITBIR_META_DATA/updated_data/DTI_Final_1of4_082819_310/TBINM872KDP_ImagingDiffusion_1566917936651_07pAJw3HzDz26k2iyBzVdFIYn_7.zip',\n",
       "       '/gpfs/data/luilab/FITBIR_META_DATA/updated_data/DTI_Final_1of4_082819_310/TBIEX362VH3_ImagingDiffusion_1566918573823_yol9zGGkx60hHwLoeXQCJcpmE_7.zip',\n",
       "       '/gpfs/data/luilab/FITBIR_META_DATA/updated_data/DTI_Final_1of4_082819_310/TBIEX362VH3_ImagingDiffusion_1566918575642_Suy4Qqr6pl3xrJQpCHdZe5j3D_15.zip',\n",
       "       '/gpfs/data/luilab/FITBIR_META_DATA/updated_data/DTI_Final_1of4_082819_310/TBIJD290WER_ImagingDiffusion_1566917371538_PuWjyRHV2mEO7P8xjrI5txUHD_16.zip',\n",
       "       '/gpfs/data/luilab/FITBIR_META_DATA/updated_data/DTI_Final_1of4_082819_310/TBIUL915HHX_ImagingDiffusion_1566917377757_MYmXiWWg7TdvIazOBxLacDWbb_13.zip',\n",
       "       '/gpfs/data/luilab/FITBIR_META_DATA/updated_data/DTI_Final_1of4_082819_310/TBIMX094ZTC_ImagingDiffusion_1566916824021_hldUwdUwOyBCT04WeHRsk845T_7.zip',\n",
       "       '/gpfs/data/luilab/FITBIR_META_DATA/updated_data/DTI_Final_1of4_082819_310/TBITU028JF7_ImagingDiffusion_1566916811102_rlTRb84WwD9HZVUC3Gk0JKGjL_11.zip',\n",
       "       '/gpfs/data/luilab/FITBIR_META_DATA/updated_data/DTI_Final_1of4_082819_310/TBIBY712FUD_ImagingDiffusion_1566917365435_XXIToTnQFCl10wpq6pvWIIofi_11.zip',\n",
       "       '/gpfs/data/luilab/FITBIR_META_DATA/updated_data/DTI_Final_1of4_082819_310/TBIHR733FW9_ImagingDiffusion_1566918584909_DlG1Q2Ki8BAyMs8F2dMjQZSFD_15.zip',\n",
       "       '/gpfs/data/luilab/FITBIR_META_DATA/updated_data/DTI_Final_1of4_082819_310/TBIHR733FW9_ImagingDiffusion_1566918580279_Cg21KE6HAQ6OoTAmZjTa7n4RE_14.zip',\n",
       "       '/gpfs/data/luilab/FITBIR_META_DATA/updated_data/DTI_Final_1of4_082819_310/TBITC277FAU_ImagingDiffusion_1566919221810_GuMPIOAmeJIUuURLkzM9i2Hfe_11.zip',\n",
       "       '/gpfs/data/luilab/FITBIR_META_DATA/updated_data/DTI_Final_1of4_082819_310/TBIUL915HHX_ImagingDiffusion_1566917374275_1FQRshCXvWVyvWzEN3FAThrTm_7.zip',\n",
       "       '/gpfs/data/luilab/FITBIR_META_DATA/updated_data/DTI_Final_1of4_082819_310/TBINM872KDP_ImagingDiffusion_1566917935627_ZRz0XBezqpDl65JXxo4Y02qH3_14.zip',\n",
       "       '/gpfs/data/luilab/FITBIR_META_DATA/updated_data/DTI_Final_1of4_082819_310/TBINM872KDP_ImagingDiffusion_1566917937562_07pAJw3HzDz26k2iyBzVdFIYn_16.zip',\n",
       "       '/gpfs/data/luilab/FITBIR_META_DATA/updated_data/DTI_Final_1of4_082819_310/TBIEX362VH3_ImagingDiffusion_1566918574745_yol9zGGkx60hHwLoeXQCJcpmE_16.zip',\n",
       "       '/gpfs/data/luilab/FITBIR_META_DATA/updated_data/DTI_Final_1of4_082819_310/TBIJD290WER_ImagingDiffusion_1566917370562_PuWjyRHV2mEO7P8xjrI5txUHD_7.zip',\n",
       "       '/gpfs/data/luilab/FITBIR_META_DATA/updated_data/DTI_Final_1of4_082819_310/TBIUL915HHX_ImagingDiffusion_1566917376899_jLkGN5WeiGury6K90bPdodcSD_14.zip',\n",
       "       '/gpfs/data/luilab/FITBIR_META_DATA/updated_data/DTI_Final_1of4_082819_310/TBIEP779ECB_ImagingDiffusion_1566916822977_3cZ2UZ0u7zSO6zDhQ0EsHm5tZ_11.zip',\n",
       "       '/gpfs/data/luilab/FITBIR_META_DATA/updated_data/DTI_Final_1of4_082819_310/TBIJA036XXJ_ImagingDiffusion_1566919202114_Xfpzn7UIyLYodqoBcEr93nGfp_11.zip',\n",
       "       '/gpfs/data/luilab/FITBIR_META_DATA/updated_data/DTI_Final_1of4_082819_310/TBIMX094ZTC_ImagingDiffusion_1566917365313_qYc6aqIOeFGONWcK7EGuYLirh_13.zip',\n",
       "       '/gpfs/data/luilab/FITBIR_META_DATA/updated_data/DTI_Final_1of4_082819_310/TBIHR733FW9_ImagingDiffusion_1566918583074_Dr5Ar0KiJMZZQu6j3NZBUWr9l_16.zip',\n",
       "       '/gpfs/data/luilab/FITBIR_META_DATA/updated_data/DTI_Final_1of4_082819_310/TBIJD290WER_ImagingDiffusion_1566917374143_WKZZuoAQfbRZbPrIbfnV3GWxN_14.zip',\n",
       "       '/gpfs/data/luilab/FITBIR_META_DATA/updated_data/DTI_Final_1of4_082819_310/TBINM872KDP_ImagingDiffusion_1566917934571_8oIWtMOAZjOgvHapATqLSzPQa_15.zip',\n",
       "       '/gpfs/data/luilab/FITBIR_META_DATA/updated_data/DTI_Final_1of4_082819_310/TBITG047JT0_ImagingDiffusion_1566919206892_QAu47nzBvSWaPpVoJSltDqsm9_11.zip',\n",
       "       '/gpfs/data/luilab/FITBIR_META_DATA/updated_data/DTI_Final_1of4_082819_310/TBIMX094ZTC_ImagingDiffusion_1566916827807_iqv8qe8xl14I588V5qGzSz1xr_14.zip',\n",
       "       '/gpfs/data/luilab/FITBIR_META_DATA/updated_data/DTI_Final_1of4_082819_310/TBICX014CFL_ImagingDiffusion_1566917367732_g9XU9MIR1NQEt07QBp1jwTcWU_16.zip',\n",
       "       '/gpfs/data/luilab/FITBIR_META_DATA/updated_data/DTI_Final_1of4_082819_310/TBIEX362VH3_ImagingDiffusion_1566918576868_2AndkpZ7BLQgmksoiUbjUoB4e_14.zip',\n",
       "       '/gpfs/data/luilab/FITBIR_META_DATA/updated_data/DTI_Final_1of4_082819_310/TBIBU887ZBJ_ImagingDiffusion_1566919216103_PkBZattuHiBgYVGa1Jd7MutVz_11.zip',\n",
       "       '/gpfs/data/luilab/FITBIR_META_DATA/updated_data/DTI_Final_1of4_082819_310/TBIXB731TKC_ImagingDiffusion_1566916818166_W5Y0uBK1PkXZAD9X4I1VT3tKU_11.zip',\n",
       "       '/gpfs/data/luilab/FITBIR_META_DATA/updated_data/DTI_Final_1of4_082819_310/TBIJD290WER_ImagingDiffusion_1566917372413_nZ7LTjVE7fqgLtqbn6oG8jg5d_15.zip',\n",
       "       '/gpfs/data/luilab/FITBIR_META_DATA/updated_data/DTI_Final_1of4_082819_310/TBICX014CFL_ImagingDiffusion_1566917366736_kp0xqmElyuCTQKfrzoKcvpQm1_13.zip',\n",
       "       '/gpfs/data/luilab/FITBIR_META_DATA/updated_data/DTI_Final_1of4_082819_310/TBIMX094ZTC_ImagingDiffusion_1566916825132_hldUwdUwOyBCT04WeHRsk845T_16.zip',\n",
       "       '/gpfs/data/luilab/FITBIR_META_DATA/updated_data/DTI_Final_1of4_082819_310/TBINM872KDP_ImagingDiffusion_1566917936498_VtsZzbH12HUrxe4Q561qC4RYs_13.zip',\n",
       "       '/gpfs/data/luilab/FITBIR_META_DATA/updated_data/DTI_Final_1of4_082819_310/TBIKY573LNX_ImagingDiffusion_1566918572988_8If0dwfrgWZUxROIRa1v2pqi5_11.zip',\n",
       "       '/gpfs/data/luilab/FITBIR_META_DATA/updated_data/DTI_Final_1of4_082819_310/TBIUL915HHX_ImagingDiffusion_1566917375159_1FQRshCXvWVyvWzEN3FAThrTm_16.zip',\n",
       "       '/gpfs/data/luilab/FITBIR_META_DATA/updated_data/DTI_Final_1of4_082819_310/TBIHR733FW9_ImagingDiffusion_1566918581419_CRiqOW4Qi7ujbTO9q1t4Qqawy_13.zip',\n",
       "       '/gpfs/data/luilab/FITBIR_META_DATA/updated_data/DTI_Final_1of4_082819_310/TBITC277FAU_ImagingDiffusion_1566919222593_9qydCcSkMTUxOHE0c1XAziE9s_11.zip',\n",
       "       '/gpfs/data/luilab/FITBIR_META_DATA/updated_data/DTI_Final_3bof4_091119_310/TBIKD943EVN_ImagingDiffusion_1568209963323_wt1b41ABnGojXh4n1vLclwVbg_8.zip',\n",
       "       '/gpfs/data/luilab/FITBIR_META_DATA/updated_data/DTI_Final_3bof4_091119_310/TBIVW194XGD_ImagingDiffusion_1568209968264_eCtNLueAR0jjvLuQ17xF9jGyp_8.zip',\n",
       "       '/gpfs/data/luilab/FITBIR_META_DATA/updated_data/DTI_Final_3bof4_091119_310/TBIFB778ZJQ_ImagingDiffusion_1568209895265_hfR1hjmljClW8fp2Hq9UEkToz_10.zip',\n",
       "       '/gpfs/data/luilab/FITBIR_META_DATA/updated_data/DTI_Final_3bof4_091119_310/TBIBD533AKK_ImagingDiffusion_1568209886976_dMpdXt1Z7ciZkqAypOrsHtswD_8.zip',\n",
       "       '/gpfs/data/luilab/FITBIR_META_DATA/updated_data/DTI_Final_3bof4_091119_310/TBIDD569TVE_ImagingDiffusion_1568209926403_9RJWDmjk4yEgjHp0jDAQ5cZt2_16.zip',\n",
       "       '/gpfs/data/luilab/FITBIR_META_DATA/updated_data/DTI_Final_3bof4_091119_310/TBIVN446FFY_ImagingDiffusion_1568209956399_QZe2SvoJygnxT8BFoYj64VUOJ_9.zip',\n",
       "       '/gpfs/data/luilab/FITBIR_META_DATA/updated_data/DTI_Final_3bof4_091119_310/TBIDD569TVE_ImagingDiffusion_1568209919503_qxICKZd3GAUuwixKjX2NxMhed_8.zip',\n",
       "       '/gpfs/data/luilab/FITBIR_META_DATA/updated_data/DTI_Final_3bof4_091119_310/TBICW412YJX_ImagingDiffusion_1568209906011_fXBpGDwsyr254g0BfbKpDi4eC_8.zip',\n",
       "       '/gpfs/data/luilab/FITBIR_META_DATA/updated_data/DTI_Final_3bof4_091119_310/TBINF989XY5_ImagingDiffusion_1568209959705_wkeaJd476QHen1BMPL0s87BLW_9.zip',\n",
       "       '/gpfs/data/luilab/FITBIR_META_DATA/updated_data/DTI_Final_3bof4_091119_310/TBIDD569TVE_ImagingDiffusion_1568209922693_xDERsDEzBV9td0GBF785IDyVE_8.zip',\n",
       "       '/gpfs/data/luilab/FITBIR_META_DATA/updated_data/DTI_Final_3bof4_091119_310/TBICW412YJX_ImagingDiffusion_1568209909916_YHrmq8jw4HDVdVS9NMYWWYGCy_8.zip',\n",
       "       '/gpfs/data/luilab/FITBIR_META_DATA/updated_data/DTI_Final_3bof4_091119_310/TBIVW194XGD_ImagingDiffusion_1568209966641_timiRklUaYMMexRUOQk7KdtkK_8.zip',\n",
       "       '/gpfs/data/luilab/FITBIR_META_DATA/updated_data/DTI_Final_3bof4_091119_310/TBIVN446FFY_ImagingDiffusion_1568209951423_HoQNCFpNmirWzICj7iwMbd58k_8.zip',\n",
       "       '/gpfs/data/luilab/FITBIR_META_DATA/updated_data/DTI_Final_3bof4_091119_310/TBIBA764HRH_ImagingDiffusion_1568209897919_IzWA9ZBcW5KwGhDUB3FByjEzp_8.zip',\n",
       "       '/gpfs/data/luilab/FITBIR_META_DATA/updated_data/DTI_Final_3bof4_091119_310/TBIVN446FFY_ImagingDiffusion_1568209954570_zSb7rysuhEjMFh2SF1cERjpme_9.zip',\n",
       "       '/gpfs/data/luilab/FITBIR_META_DATA/updated_data/DTI_Final_3bof4_091119_310/TBIMZ666NXD_ImagingDiffusion_1568209918044_3VHA9QvGi3W4nK7XvBvXEzIb7_10.zip',\n",
       "       '/gpfs/data/luilab/FITBIR_META_DATA/updated_data/DTI_Final_3bof4_091119_310/TBIBA764HRH_ImagingDiffusion_1568209900635_QKAPqh65SJZ8GaG2bXVkbY5Zs_8.zip',\n",
       "       '/gpfs/data/luilab/FITBIR_META_DATA/updated_data/DTI_Final_3bof4_091119_310/TBIKD943EVN_ImagingDiffusion_1568209961988_FYVlVJRpS7FRSA4gocRB8Vzux_9.zip',\n",
       "       '/gpfs/data/luilab/FITBIR_META_DATA/updated_data/DTI_Final_3bof4_091119_310/TBINF989XY5_ImagingDiffusion_1568209961375_gUntqtknJElEkzUdtNiNRr7lK_9.zip',\n",
       "       '/gpfs/data/luilab/FITBIR_META_DATA/updated_data/DTI_Final_3bof4_091119_310/TBIFB778ZJQ_ImagingDiffusion_1568209894203_Wf5YPOBzAJpDqyV19F5S3lEUj_8.zip',\n",
       "       '/gpfs/data/luilab/FITBIR_META_DATA/updated_data/DTI_Final_3bof4_091119_310/TBIDD569TVE_ImagingDiffusion_1568209924638_9RJWDmjk4yEgjHp0jDAQ5cZt2_8.zip',\n",
       "       '/gpfs/data/luilab/FITBIR_META_DATA/updated_data/DTI_Final_3bof4_091119_310/TBIVW194XGD_ImagingDiffusion_1568209965156_4NZb4j4x8yDLWfCZ2zaZQ85qA_8.zip',\n",
       "       '/gpfs/data/luilab/FITBIR_META_DATA/updated_data/DTI_Final_3bof4_091119_310/TBIFB778ZJQ_ImagingDiffusion_1568209896796_KtX39SrTJfj7pBI8lqO2MmBar_8.zip',\n",
       "       '/gpfs/data/luilab/FITBIR_META_DATA/updated_data/DTI_Final_3bof4_091119_310/TBINF989XY5_ImagingDiffusion_1568209958155_1tJGOsfAStymX5DI18fJH0dkb_9.zip',\n",
       "       '/gpfs/data/luilab/FITBIR_META_DATA/updated_data/DTI_Final_3bof4_091119_310/TBIBD533AKK_ImagingDiffusion_1568209888849_kimmVXGhVnm4MNFrz2w32I5vl_8.zip',\n",
       "       '/gpfs/data/luilab/FITBIR_META_DATA/updated_data/DTI_Final_3bof4_091119_310/TBIDD569TVE_ImagingDiffusion_1568209920890_RlNH2r28YezTsMxnTiaWzYi5S_8.zip',\n",
       "       '/gpfs/data/luilab/FITBIR_META_DATA/updated_data/DTI_Final_3bof4_091119_310/TBICW412YJX_ImagingDiffusion_1568209908589_5isbJxhM84H8KckFwePfWpsYI_8.zip',\n",
       "       '/gpfs/data/luilab/FITBIR_META_DATA/updated_data/DTI_Final_3bof4_091119_310/TBIMZ666NXD_ImagingDiffusion_1568209919321_A7ve7y8WjJj2o1vgfJnIvIRf1_10.zip',\n",
       "       '/gpfs/data/luilab/FITBIR_META_DATA/updated_data/DTI_Final_3bof4_091119_310/TBIFB778ZJQ_ImagingDiffusion_1568209897806_KtX39SrTJfj7pBI8lqO2MmBar_9.zip',\n",
       "       '/gpfs/data/luilab/FITBIR_META_DATA/updated_data/DTI_Final_3bof4_091119_310/TBICW412YJX_ImagingDiffusion_1568209909857_5isbJxhM84H8KckFwePfWpsYI_9.zip',\n",
       "       '/gpfs/data/luilab/FITBIR_META_DATA/updated_data/DTI_Final_3bof4_091119_310/TBINF989XY5_ImagingDiffusion_1568209958417_wkeaJd476QHen1BMPL0s87BLW_8.zip',\n",
       "       '/gpfs/data/luilab/FITBIR_META_DATA/updated_data/DTI_Final_3bof4_091119_310/TBIBD533AKK_ImagingDiffusion_1568209889938_ggYpWym4WsCcjt8KTbP6iuFFy_8.zip',\n",
       "       '/gpfs/data/luilab/FITBIR_META_DATA/updated_data/DTI_Final_3bof4_091119_310/TBIDD569TVE_ImagingDiffusion_1568209922275_RlNH2r28YezTsMxnTiaWzYi5S_9.zip',\n",
       "       '/gpfs/data/luilab/FITBIR_META_DATA/updated_data/DTI_Final_3bof4_091119_310/TBIKD943EVN_ImagingDiffusion_1568209963152_FYVlVJRpS7FRSA4gocRB8Vzux_10.zip',\n",
       "       '/gpfs/data/luilab/FITBIR_META_DATA/updated_data/DTI_Final_3bof4_091119_310/TBIVW194XGD_ImagingDiffusion_1568209968097_timiRklUaYMMexRUOQk7KdtkK_9.zip',\n",
       "       '/gpfs/data/luilab/FITBIR_META_DATA/updated_data/DTI_Final_3bof4_091119_310/TBIFB778ZJQ_ImagingDiffusion_1568209895202_Wf5YPOBzAJpDqyV19F5S3lEUj_9.zip',\n",
       "       '/gpfs/data/luilab/FITBIR_META_DATA/updated_data/DTI_Final_3bof4_091119_310/TBIDD569TVE_ImagingDiffusion_1568209926114_9RJWDmjk4yEgjHp0jDAQ5cZt2_9.zip',\n",
       "       '/gpfs/data/luilab/FITBIR_META_DATA/updated_data/DTI_Final_3bof4_091119_310/TBIVN446FFY_ImagingDiffusion_1568209954713_QZe2SvoJygnxT8BFoYj64VUOJ_8.zip',\n",
       "       '/gpfs/data/luilab/FITBIR_META_DATA/updated_data/DTI_Final_3bof4_091119_310/TBIMZ666NXD_ImagingDiffusion_1568209918229_A7ve7y8WjJj2o1vgfJnIvIRf1_9.zip',\n",
       "       '/gpfs/data/luilab/FITBIR_META_DATA/updated_data/DTI_Final_3bof4_091119_310/TBIBA764HRH_ImagingDiffusion_1568209903440_edjcIwv46kZQfft6MhqCjFHsB_8.zip',\n",
       "       '/gpfs/data/luilab/FITBIR_META_DATA/updated_data/DTI_Final_3bof4_091119_310/TBIVW194XGD_ImagingDiffusion_1568209966565_4NZb4j4x8yDLWfCZ2zaZQ85qA_9.zip',\n",
       "       '/gpfs/data/luilab/FITBIR_META_DATA/updated_data/DTI_Final_3bof4_091119_310/TBIKD943EVN_ImagingDiffusion_1568209964916_wt1b41ABnGojXh4n1vLclwVbg_9.zip',\n",
       "       '/gpfs/data/luilab/FITBIR_META_DATA/updated_data/DTI_Final_3bof4_091119_310/TBIVW194XGD_ImagingDiffusion_1568209970183_eCtNLueAR0jjvLuQ17xF9jGyp_9.zip',\n",
       "       '/gpfs/data/luilab/FITBIR_META_DATA/updated_data/DTI_Final_3bof4_091119_310/TBIFB778ZJQ_ImagingDiffusion_1568209896680_hfR1hjmljClW8fp2Hq9UEkToz_11.zip',\n",
       "       '/gpfs/data/luilab/FITBIR_META_DATA/updated_data/DTI_Final_3bof4_091119_310/TBIBD533AKK_ImagingDiffusion_1568209887918_o5roomRHbsMy2nSXonEEtVF0q_8.zip',\n",
       "       '/gpfs/data/luilab/FITBIR_META_DATA/updated_data/DTI_Final_3bof4_091119_310/TBINF989XY5_ImagingDiffusion_1568209956568_1tJGOsfAStymX5DI18fJH0dkb_8.zip',\n",
       "       '/gpfs/data/luilab/FITBIR_META_DATA/updated_data/DTI_Final_3bof4_091119_310/TBIDD569TVE_ImagingDiffusion_1568209920643_qxICKZd3GAUuwixKjX2NxMhed_9.zip',\n",
       "       '/gpfs/data/luilab/FITBIR_META_DATA/updated_data/DTI_Final_3bof4_091119_310/TBICW412YJX_ImagingDiffusion_1568209908488_fXBpGDwsyr254g0BfbKpDi4eC_9.zip',\n",
       "       '/gpfs/data/luilab/FITBIR_META_DATA/updated_data/DTI_Final_3bof4_091119_310/TBIVN446FFY_ImagingDiffusion_1568209953020_zSb7rysuhEjMFh2SF1cERjpme_8.zip',\n",
       "       '/gpfs/data/luilab/FITBIR_META_DATA/updated_data/DTI_Final_3bof4_091119_310/TBIMZ666NXD_ImagingDiffusion_1568209916724_3VHA9QvGi3W4nK7XvBvXEzIb7_9.zip',\n",
       "       '/gpfs/data/luilab/FITBIR_META_DATA/updated_data/DTI_Final_3bof4_091119_310/TBIBA764HRH_ImagingDiffusion_1568209899491_DR5Eui6lvKGaUGcIS81yuuWQA_8.zip',\n",
       "       '/gpfs/data/luilab/FITBIR_META_DATA/updated_data/DTI_Final_3bof4_091119_310/TBIVN446FFY_ImagingDiffusion_1568209952816_HoQNCFpNmirWzICj7iwMbd58k_9.zip',\n",
       "       '/gpfs/data/luilab/FITBIR_META_DATA/updated_data/DTI_Final_3bof4_091119_310/TBICW412YJX_ImagingDiffusion_1568209910953_YHrmq8jw4HDVdVS9NMYWWYGCy_9.zip',\n",
       "       '/gpfs/data/luilab/FITBIR_META_DATA/updated_data/DTI_Final_3bof4_091119_310/TBINF989XY5_ImagingDiffusion_1568209960023_gUntqtknJElEkzUdtNiNRr7lK_8.zip',\n",
       "       '/gpfs/data/luilab/FITBIR_META_DATA/updated_data/DTI_Final_3bof4_091119_310/TBIDD569TVE_ImagingDiffusion_1568209924451_xDERsDEzBV9td0GBF785IDyVE_9.zip',\n",
       "       '/gpfs/data/luilab/FITBIR_META_DATA/updated_data/DTI_Final_3cof4_091119_310/TBIRD021LMC_ImagingDiffusion_1569247309464_QwK7sps2fOI8yEKNwazrgX8Dj_8.zip',\n",
       "       '/gpfs/data/luilab/FITBIR_META_DATA/updated_data/DTI_Final_3aof4_091019_310/TBIAG941ZAD_ImagingDiffusion_1567171792719_24h2lTS77klApnWYYBLCWS7Ws_11.zip',\n",
       "       '/gpfs/data/luilab/FITBIR_META_DATA/updated_data/DTI_Final_3cof4_091119_310/TBIMY671HC9_ImagingDiffusion_1569247377431_Q1tRPtLhVrNj4qYRPMYUwR3Jq_9.zip',\n",
       "       '/gpfs/data/luilab/FITBIR_META_DATA/updated_data/DTI_Final_3cof4_091119_310/TBIBD941WKU_ImagingDiffusion_1569246705432_GCfaEFnT8Dh3MHiMF9wskgvN8_8.zip',\n",
       "       '/gpfs/data/luilab/FITBIR_META_DATA/updated_data/DTI_Final_3cof4_091119_310/TBIRK497KPJ_ImagingDiffusion_1569247333262_KkKzVvarqliAxUm99ndCalZ3h_9.zip',\n",
       "       '/gpfs/data/luilab/FITBIR_META_DATA/updated_data/DTI_Final_3aof4_091019_310/TBIFE035WLL_ImagingDiffusion_1567171797864_HytkxXkwiFXQoQ1t91NlthgpJ_12.zip',\n",
       "       '/gpfs/data/luilab/FITBIR_META_DATA/updated_data/DTI_Final_3cof4_091119_310/TBIFZ586AZQ_ImagingDiffusion_1569246775250_0ik80ZkajUGaKypZzLgCQUYkq_8.zip',\n",
       "       '/gpfs/data/luilab/FITBIR_META_DATA/updated_data/DTI_Final_3cof4_091119_310/TBIHF226YKW_ImagingDiffusion_1569246709479_h7HHZjTYTGrGDDZNTDnKBIEX1_9.zip',\n",
       "       '/gpfs/data/luilab/FITBIR_META_DATA/updated_data/DTI_Final_3aof4_091019_310/TBIVH558JVN_ImagingDiffusion_1567171780123_5UeUAcHBMUbdLkuRvbsw2guKd_8.zip',\n",
       "       '/gpfs/data/luilab/FITBIR_META_DATA/updated_data/DTI_Final_3cof4_091119_310/TBIVL544FAL_ImagingDiffusion_1569247352094_9DEmg3X6sBd1qeMG0visrqVfH_9.zip',\n",
       "       '/gpfs/data/luilab/FITBIR_META_DATA/updated_data/DTI_Final_3cof4_091119_310/TBIDN578PYP_ImagingDiffusion_1569246784941_DEutb67qL2iCDhpfyDdMIEJOY_9.zip',\n",
       "       '/gpfs/data/luilab/FITBIR_META_DATA/updated_data/DTI_Final_3cof4_091119_310/TBIRC006FGB_ImagingDiffusion_1569247305331_Rr0cG2yxzYFkM1KI10chyk3ZJ_9.zip',\n",
       "       '/gpfs/data/luilab/FITBIR_META_DATA/updated_data/DTI_Final_3cof4_091119_310/TBIKC466UWB_ImagingDiffusion_1569246749776_NKYN6ZSmESZ5YGJoDPpV0raXy_8.zip',\n",
       "       '/gpfs/data/luilab/FITBIR_META_DATA/updated_data/DTI_Final_3cof4_091119_310/TBIBD941WKU_ImagingDiffusion_1569246706039_hXMRqZz2I5F2ul2JRcvDE5VbS_8.zip',\n",
       "       '/gpfs/data/luilab/FITBIR_META_DATA/updated_data/DTI_Final_3aof4_091019_310/TBIWK466PHH_ImagingDiffusion_1567171774805_XP2Dkmc7onODeEJGx9AGaMnSm_9.zip',\n",
       "       '/gpfs/data/luilab/FITBIR_META_DATA/updated_data/DTI_Final_3cof4_091119_310/TBIXM072VWP_ImagingDiffusion_1569247336152_0CPWq2mFacRndDBUYiYwlabcX_8.zip',\n",
       "       '/gpfs/data/luilab/FITBIR_META_DATA/updated_data/DTI_Final_3cof4_091119_310/TBIDN578PYP_ImagingDiffusion_1569246782257_DX2jMKABinFMIqG4qOQO7OcJk_8.zip',\n",
       "       '/gpfs/data/luilab/FITBIR_META_DATA/updated_data/DTI_Final_3cof4_091119_310/TBIBT350AWY_ImagingDiffusion_1569247283372_hR1RjeytY23EQl00GBMAXOxV3_9.zip',\n",
       "       '/gpfs/data/luilab/FITBIR_META_DATA/updated_data/DTI_Final_3cof4_091119_310/TBIXM072VWP_ImagingDiffusion_1569247336063_0HkyRuvaPQ43cJXE8dvsv5tAo_9.zip',\n",
       "       '/gpfs/data/luilab/FITBIR_META_DATA/updated_data/DTI_Final_3aof4_091019_310/TBIAX166PYB_ImagingDiffusion_1567171805800_e1thj8VrT48CEGtzXSywGKHkg_8.zip',\n",
       "       '/gpfs/data/luilab/FITBIR_META_DATA/updated_data/DTI_Final_3cof4_091119_310/TBIKC466UWB_ImagingDiffusion_1569246752244_qiphPkY2UY5c2RLKkmwfJAzrH_9.zip',\n",
       "       '/gpfs/data/luilab/FITBIR_META_DATA/updated_data/DTI_Final_3cof4_091119_310/TBIXW244JK9_ImagingDiffusion_1569247274521_w8jAGuP2zJMLtJ1kxbpGokPux_8.zip',\n",
       "       '/gpfs/data/luilab/FITBIR_META_DATA/updated_data/DTI_Final_3aof4_091019_310/TBILZ122DJE_ImagingDiffusion_1567171761818_b7xVXorpyEsUi63WW3gw2j5km_10.zip',\n",
       "       '/gpfs/data/luilab/FITBIR_META_DATA/updated_data/DTI_Final_3aof4_091019_310/TBIPU112TXT_ImagingDiffusion_1567171764754_lCcgrZIax8FfTLjPB7PinuewU_8.zip',\n",
       "       '/gpfs/data/luilab/FITBIR_META_DATA/updated_data/DTI_Final_3cof4_091119_310/TBIEC028VNW_ImagingDiffusion_1569246758373_09cGTEN4OaEb40tw0WEgt3IgB_8.zip',\n",
       "       '/gpfs/data/luilab/FITBIR_META_DATA/updated_data/DTI_Final_3cof4_091119_310/TBIRK497KPJ_ImagingDiffusion_1569247334522_kEk0SofetXgGKWtWZswRMEWuQ_9.zip',\n",
       "       '/gpfs/data/luilab/FITBIR_META_DATA/updated_data/DTI_Final_3cof4_091119_310/TBIPU592WDB_ImagingDiffusion_1569246777168_0jJbWXOYq8dIJxPoWJE8Ex4Rp_8.zip',\n",
       "       '/gpfs/data/luilab/FITBIR_META_DATA/updated_data/DTI_Final_3cof4_091119_310/TBIJA153JTR_ImagingDiffusion_1569247311580_kQWTyBqqyHNKQieg35hN6ZglL_8.zip',\n",
       "       '/gpfs/data/luilab/FITBIR_META_DATA/updated_data/DTI_Final_3aof4_091019_310/TBIFE035WLL_ImagingDiffusion_1567171795457_pqAcvoSzA8sM7D6sB8C7qtDlq_9.zip',\n",
       "       '/gpfs/data/luilab/FITBIR_META_DATA/updated_data/DTI_Final_3cof4_091119_310/TBIRD021LMC_ImagingDiffusion_1569247309419_J5iIfLaQksBXxvMlO4Fu7zD8q_9.zip',\n",
       "       '/gpfs/data/luilab/FITBIR_META_DATA/updated_data/DTI_Final_3aof4_091019_310/TBILZ122DJE_ImagingDiffusion_1567171759173_fXpOLzUGKuW8idbx01B9LeWCy_9.zip',\n",
       "       '/gpfs/data/luilab/FITBIR_META_DATA/updated_data/DTI_Final_3aof4_091019_310/TBIPU112TXT_ImagingDiffusion_1567171762895_ZSI6oYbsCqzsvrSPVFyw9yulL_8.zip',\n",
       "       '/gpfs/data/luilab/FITBIR_META_DATA/updated_data/DTI_Final_3cof4_091119_310/TBIGM143MKC_ImagingDiffusion_1569246756546_53JRZJPEXOgu4irBU741Sczkn_8.zip',\n",
       "       '/gpfs/data/luilab/FITBIR_META_DATA/updated_data/DTI_Final_3cof4_091119_310/TBIHF226YKW_ImagingDiffusion_1569246708178_jWxmpGayrIBi5zaC7SwkMRqVz_9.zip',\n",
       "       '/gpfs/data/luilab/FITBIR_META_DATA/updated_data/DTI_Final_3aof4_091019_310/TBIVH558JVN_ImagingDiffusion_1567171777846_C4e35lFRGxbISeVqxbz5a4SP4_8.zip',\n",
       "       '/gpfs/data/luilab/FITBIR_META_DATA/updated_data/DTI_Final_3cof4_091119_310/TBIVL544FAL_ImagingDiffusion_1569247345883_ElkKJ4MSW7Gt6fGmBhAl8uDpn_9.zip',\n",
       "       '/gpfs/data/luilab/FITBIR_META_DATA/updated_data/DTI_Final_3cof4_091119_310/TBIDN578PYP_ImagingDiffusion_1569246783625_XdOT7BsN7M6U00bqyIRLieI5B_8.zip',\n",
       "       '/gpfs/data/luilab/FITBIR_META_DATA/updated_data/DTI_Final_3cof4_091119_310/TBIRC006FGB_ImagingDiffusion_1569247301333_dbBcJzmRF6SqJNu3U8GX1qX4s_11.zip',\n",
       "       '/gpfs/data/luilab/FITBIR_META_DATA/updated_data/DTI_Final_3aof4_091019_310/TBIAX166PYB_ImagingDiffusion_1567171808672_WlvsQTMpuaW69YqyAzyPOTQHm_8.zip',\n",
       "       '/gpfs/data/luilab/FITBIR_META_DATA/updated_data/DTI_Final_3cof4_091119_310/TBIGM143MKC_ImagingDiffusion_1569246755507_qy5Q7X8eZbp40IqoJBtP3tnUr_9.zip',\n",
       "       '/gpfs/data/luilab/FITBIR_META_DATA/updated_data/DTI_Final_3aof4_091019_310/TBIVH558JVN_ImagingDiffusion_1567171777818_k1F4JLhiX8YgDJBSuJoK5Z9wx_9.zip',\n",
       "       '/gpfs/data/luilab/FITBIR_META_DATA/updated_data/DTI_Final_3cof4_091119_310/TBIFZ586AZQ_ImagingDiffusion_1569246760888_aCMSFeK6sIDoFPFszoy5zgpuB_8.zip',\n",
       "       '/gpfs/data/luilab/FITBIR_META_DATA/updated_data/DTI_Final_3cof4_091119_310/TBIBD941WKU_ImagingDiffusion_1569246704102_wKLZjaziY7TMCdIWTH3x1t66j_8.zip',\n",
       "       '/gpfs/data/luilab/FITBIR_META_DATA/updated_data/DTI_Final_3aof4_091019_310/TBIXZ865FU9_ImagingDiffusion_1567171789983_yXjhpRix3nJGnpzn4rSQ4kpYr_9.zip',\n",
       "       '/gpfs/data/luilab/FITBIR_META_DATA/updated_data/DTI_Final_3cof4_091119_310/TBIHF226YKW_ImagingDiffusion_1569246708872_jlmOC6MLHLj2OrG3MBhzAXjIl_9.zip',\n",
       "       '/gpfs/data/luilab/FITBIR_META_DATA/updated_data/DTI_Final_3aof4_091019_310/TBIVH558JVN_ImagingDiffusion_1567171779086_z6QJkHSH3q2ZsON6QjRZLbl8H_8.zip',\n",
       "       '/gpfs/data/luilab/FITBIR_META_DATA/updated_data/DTI_Final_3cof4_091119_310/TBIVL544FAL_ImagingDiffusion_1569247346746_vgWs3clAImtoqpJ0nk2comj18_9.zip',\n",
       "       '/gpfs/data/luilab/FITBIR_META_DATA/updated_data/DTI_Final_3cof4_091119_310/TBIRC006FGB_ImagingDiffusion_1569247304696_BjPyOZIEz1KNwuiJKY3ua1uzU_9.zip',\n",
       "       '/gpfs/data/luilab/FITBIR_META_DATA/updated_data/DTI_Final_3cof4_091119_310/TBIHB574NWY_ImagingDiffusion_1569246748985_hy1Rhqz5EXWTTKO2qKJSApisb_9.zip',\n",
       "       '/gpfs/data/luilab/FITBIR_META_DATA/updated_data/DTI_Final_3cof4_091119_310/TBIPU592WDB_ImagingDiffusion_1569246776590_EpEfKdWgoC3g8qzFnjM3555wJ_14.zip',\n",
       "       '/gpfs/data/luilab/FITBIR_META_DATA/updated_data/DTI_Final_3aof4_091019_310/TBIXZ865FU9_ImagingDiffusion_1567171787771_fySkBYSWq4mkzV0kbgm4ISzWe_9.zip',\n",
       "       '/gpfs/data/luilab/FITBIR_META_DATA/updated_data/DTI_Final_3cof4_091119_310/TBIFZ586AZQ_ImagingDiffusion_1569246761870_E71yxbQelOKTXC3PilBS0fOxI_9.zip',\n",
       "       '/gpfs/data/luilab/FITBIR_META_DATA/updated_data/DTI_Final_3cof4_091119_310/TBIBD941WKU_ImagingDiffusion_1569246704665_meb5F1kjJUCiEv8JkheHqf7ek_8.zip',\n",
       "       '/gpfs/data/luilab/FITBIR_META_DATA/updated_data/DTI_Final_3aof4_091019_310/TBIAG941ZAD_ImagingDiffusion_1567171791172_dUAEcmwD1HPMECylBHRClWygw_9.zip',\n",
       "       '/gpfs/data/luilab/FITBIR_META_DATA/updated_data/DTI_Final_3cof4_091119_310/TBIXW244JK9_ImagingDiffusion_1569247274489_MCeUvaSFzy5yIV6CgiGFMsub7_9.zip',\n",
       "       '/gpfs/data/luilab/FITBIR_META_DATA/updated_data/DTI_Final_3cof4_091119_310/TBIXW244JK9_ImagingDiffusion_1569247273614_FrEckylMMEuMbLRqJ7C5DLTbF_9.zip',\n",
       "       '/gpfs/data/luilab/FITBIR_META_DATA/updated_data/DTI_Final_3aof4_091019_310/TBIWK466PHH_ImagingDiffusion_1567171772142_MR9JuZKbUmo4h50eLpmAMi7ih_9.zip',\n",
       "       '/gpfs/data/luilab/FITBIR_META_DATA/updated_data/DTI_Final_3cof4_091119_310/TBIRK497KPJ_ImagingDiffusion_1569247335204_2MIU9A9b7QUbfgvDYZF2DPWMT_9.zip',\n",
       "       '/gpfs/data/luilab/FITBIR_META_DATA/updated_data/DTI_Final_3cof4_091119_310/TBIPU592WDB_ImagingDiffusion_1569246780982_JTycRPsqYqdwjeExhAq66370U_8.zip',\n",
       "       '/gpfs/data/luilab/FITBIR_META_DATA/updated_data/DTI_Final_3cof4_091119_310/TBIKC466UWB_ImagingDiffusion_1569246751421_NKYN6ZSmESZ5YGJoDPpV0raXy_9.zip',\n",
       "       '/gpfs/data/luilab/FITBIR_META_DATA/updated_data/DTI_Final_3cof4_091119_310/TBIBT350AWY_ImagingDiffusion_1569247282543_nWmLz80KmfI5smu6pOmv7N01F_9.zip',\n",
       "       '/gpfs/data/luilab/FITBIR_META_DATA/updated_data/DTI_Final_3cof4_091119_310/TBIJA153JTR_ImagingDiffusion_1569247312313_YQOHE48cHpl6BzavF6aoeiaNp_8.zip',\n",
       "       '/gpfs/data/luilab/FITBIR_META_DATA/updated_data/DTI_Final_3cof4_091119_310/TBIJA153JTR_ImagingDiffusion_1569247314077_VF7YVBqlgXG6jhsmh8SMSiNp1_9.zip',\n",
       "       '/gpfs/data/luilab/FITBIR_META_DATA/updated_data/DTI_Final_3aof4_091019_310/TBILZ122DJE_ImagingDiffusion_1567171760211_INGEsy7t7oHalPKrKLrFCJnM9_9.zip',\n",
       "       '/gpfs/data/luilab/FITBIR_META_DATA/updated_data/DTI_Final_3aof4_091019_310/TBIPU112TXT_ImagingDiffusion_1567171763789_LEcErEOXTuK9dCWEx8EIj9HTG_9.zip',\n",
       "       '/gpfs/data/luilab/FITBIR_META_DATA/updated_data/DTI_Final_3cof4_091119_310/TBIEC028VNW_ImagingDiffusion_1569246757197_7h5VgqoKVNlhRsJQsiffcond6_8.zip',\n",
       "       '/gpfs/data/luilab/FITBIR_META_DATA/updated_data/DTI_Final_3aof4_091019_310/TBIFE035WLL_ImagingDiffusion_1567171798085_qJqeY7qt6i1rPwqTXlsiCHhvw_9.zip',\n",
       "       '/gpfs/data/luilab/FITBIR_META_DATA/updated_data/DTI_Final_3cof4_091119_310/TBIRK497KPJ_ImagingDiffusion_1569247333848_ZPg3ysgcf9zqU7kABvs8cuRSh_9.zip',\n",
       "       '/gpfs/data/luilab/FITBIR_META_DATA/updated_data/DTI_Final_3cof4_091119_310/TBIPU592WDB_ImagingDiffusion_1569246775835_EpEfKdWgoC3g8qzFnjM3555wJ_8.zip',\n",
       "       '/gpfs/data/luilab/FITBIR_META_DATA/updated_data/DTI_Final_3cof4_091119_310/TBIHF226YKW_ImagingDiffusion_1569246707501_hchROla957roegJpwU5gGxWeN_9.zip',\n",
       "       '/gpfs/data/luilab/FITBIR_META_DATA/updated_data/DTI_Final_3cof4_091119_310/TBIRD021LMC_ImagingDiffusion_1569247310066_SC1zi1tU5GJFXknN5dk0glh0m_8.zip',\n",
       "       '/gpfs/data/luilab/FITBIR_META_DATA/updated_data/DTI_Final_3aof4_091019_310/TBIAG941ZAD_ImagingDiffusion_1567171793965_6fCIQHb6OMedcVF40AMHAHjLw_9.zip',\n",
       "       '/gpfs/data/luilab/FITBIR_META_DATA/updated_data/DTI_Final_3cof4_091119_310/TBIVL544FAL_ImagingDiffusion_1569247353302_AOw11j477sCS31G0KPdg5Die8_10.zip',\n",
       "       '/gpfs/data/luilab/FITBIR_META_DATA/updated_data/DTI_Final_3cof4_091119_310/TBIRD021LMC_ImagingDiffusion_1569247305915_rbym2n5KNdFzMeSHPMLAdkaVL_9.zip',\n",
       "       '/gpfs/data/luilab/FITBIR_META_DATA/updated_data/DTI_Final_3cof4_091119_310/TBIGM143MKC_ImagingDiffusion_1569246754842_qy5Q7X8eZbp40IqoJBtP3tnUr_8.zip',\n",
       "       '/gpfs/data/luilab/FITBIR_META_DATA/updated_data/DTI_Final_3cof4_091119_310/TBIHF226YKW_ImagingDiffusion_1569246706793_hchROla957roegJpwU5gGxWeN_8.zip',\n",
       "       '/gpfs/data/luilab/FITBIR_META_DATA/updated_data/DTI_Final_3aof4_091019_310/TBIWK466PHH_ImagingDiffusion_1567171776248_wkZG3hRVFBe8dfjn2ylkGlRwQ_9.zip',\n",
       "       '/gpfs/data/luilab/FITBIR_META_DATA/updated_data/DTI_Final_3cof4_091119_310/TBIXM072VWP_ImagingDiffusion_1569247345155_5PrmljkOA9Pe9dmp6YSqf9f7a_9.zip',\n",
       "       '/gpfs/data/luilab/FITBIR_META_DATA/updated_data/DTI_Final_3cof4_091119_310/TBIDN578PYP_ImagingDiffusion_1569246782917_3URfJJCsRDzY4Si893rgbf6jq_8.zip',\n",
       "       '/gpfs/data/luilab/FITBIR_META_DATA/updated_data/DTI_Final_3cof4_091119_310/TBIBT350AWY_ImagingDiffusion_1569247284144_n6dKUF5hwbQ2VmnZ4h859QqkE_9.zip',\n",
       "       '/gpfs/data/luilab/FITBIR_META_DATA/updated_data/DTI_Final_3aof4_091019_310/TBIAX166PYB_ImagingDiffusion_1567171806970_92vTUsnbp4P6LKmG28NcHZ2cZ_8.zip',\n",
       "       '/gpfs/data/luilab/FITBIR_META_DATA/updated_data/DTI_Final_3cof4_091119_310/TBIKC466UWB_ImagingDiffusion_1569246753133_L1aFXL0Zhue1TBHDTOsW7ZvkB_9.zip',\n",
       "       '/gpfs/data/luilab/FITBIR_META_DATA/updated_data/DTI_Final_3cof4_091119_310/TBIXW244JK9_ImagingDiffusion_1569247275080_UmLNxgIohuYb08ReQOdSo3gXD_8.zip',\n",
       "       '/gpfs/data/luilab/FITBIR_META_DATA/updated_data/DTI_Final_3aof4_091019_310/TBILZ122DJE_ImagingDiffusion_1567171762866_Q5dMMey0r2kAnIPJNjFMtmOPu_9.zip',\n",
       "       '/gpfs/data/luilab/FITBIR_META_DATA/updated_data/DTI_Final_3aof4_091019_310/TBIWK466PHH_ImagingDiffusion_1567171772171_PZKwGbbejokUrgyWJNjlDDMEj_8.zip',\n",
       "       '/gpfs/data/luilab/FITBIR_META_DATA/updated_data/DTI_Final_3cof4_091119_310/TBIFZ586AZQ_ImagingDiffusion_1569246759669_zF8D41KKHhKxbmWJZmRQQ8WTU_8.zip',\n",
       "       '/gpfs/data/luilab/FITBIR_META_DATA/updated_data/DTI_Final_3aof4_091019_310/TBIXZ865FU9_ImagingDiffusion_1567171788857_7b5OS4WE0lmoQQGDG9WL5Mj86_10.zip',\n",
       "       '/gpfs/data/luilab/FITBIR_META_DATA/updated_data/DTI_Final_3aof4_091019_310/TBIXZ865FU9_ImagingDiffusion_1567171787810_7b5OS4WE0lmoQQGDG9WL5Mj86_9.zip',\n",
       "       '/gpfs/data/luilab/FITBIR_META_DATA/updated_data/DTI_Final_3cof4_091119_310/TBIRK497KPJ_ImagingDiffusion_1569247319114_KkKzVvarqliAxUm99ndCalZ3h_8.zip',\n",
       "       '/gpfs/data/luilab/FITBIR_META_DATA/updated_data/DTI_Final_3cof4_091119_310/TBIFZ586AZQ_ImagingDiffusion_1569246775210_E71yxbQelOKTXC3PilBS0fOxI_10.zip',\n",
       "       '/gpfs/data/luilab/FITBIR_META_DATA/updated_data/DTI_Final_3cof4_091119_310/TBIBD941WKU_ImagingDiffusion_1569246705359_meb5F1kjJUCiEv8JkheHqf7ek_9.zip',\n",
       "       '/gpfs/data/luilab/FITBIR_META_DATA/updated_data/DTI_Final_3cof4_091119_310/TBIMY671HC9_ImagingDiffusion_1569247376714_Q1tRPtLhVrNj4qYRPMYUwR3Jq_8.zip',\n",
       "       '/gpfs/data/luilab/FITBIR_META_DATA/updated_data/DTI_Final_3aof4_091019_310/TBIAG941ZAD_ImagingDiffusion_1567171791206_24h2lTS77klApnWYYBLCWS7Ws_10.zip',\n",
       "       '/gpfs/data/luilab/FITBIR_META_DATA/updated_data/DTI_Final_3cof4_091119_310/TBIDN578PYP_ImagingDiffusion_1569246784289_DEutb67qL2iCDhpfyDdMIEJOY_8.zip',\n",
       "       '/gpfs/data/luilab/FITBIR_META_DATA/updated_data/DTI_Final_3cof4_091119_310/TBIHF226YKW_ImagingDiffusion_1569246708897_h7HHZjTYTGrGDDZNTDnKBIEX1_8.zip',\n",
       "       '/gpfs/data/luilab/FITBIR_META_DATA/updated_data/DTI_Final_3aof4_091019_310/TBIVH558JVN_ImagingDiffusion_1567171780085_z6QJkHSH3q2ZsON6QjRZLbl8H_9.zip',\n",
       "       '/gpfs/data/luilab/FITBIR_META_DATA/updated_data/DTI_Final_3cof4_091119_310/TBIVL544FAL_ImagingDiffusion_1569247346776_9DEmg3X6sBd1qeMG0visrqVfH_8.zip',\n",
       "       '/gpfs/data/luilab/FITBIR_META_DATA/updated_data/DTI_Final_3cof4_091119_310/TBIRC006FGB_ImagingDiffusion_1569247304718_Rr0cG2yxzYFkM1KI10chyk3ZJ_8.zip',\n",
       "       '/gpfs/data/luilab/FITBIR_META_DATA/updated_data/DTI_Final_3cof4_091119_310/TBIHB574NWY_ImagingDiffusion_1569246749675_hy1Rhqz5EXWTTKO2qKJSApisb_10.zip',\n",
       "       '/gpfs/data/luilab/FITBIR_META_DATA/updated_data/DTI_Final_3aof4_091019_310/TBIWK466PHH_ImagingDiffusion_1567171773447_XP2Dkmc7onODeEJGx9AGaMnSm_8.zip',\n",
       "       '/gpfs/data/luilab/FITBIR_META_DATA/updated_data/DTI_Final_3cof4_091119_310/TBIXM072VWP_ImagingDiffusion_1569247335254_0HkyRuvaPQ43cJXE8dvsv5tAo_8.zip',\n",
       "       '/gpfs/data/luilab/FITBIR_META_DATA/updated_data/DTI_Final_3cof4_091119_310/TBIPU592WDB_ImagingDiffusion_1569246782219_JTycRPsqYqdwjeExhAq66370U_9.zip',\n",
       "       '/gpfs/data/luilab/FITBIR_META_DATA/updated_data/DTI_Final_3cof4_091119_310/TBIBT350AWY_ImagingDiffusion_1569247282594_hR1RjeytY23EQl00GBMAXOxV3_8.zip',\n",
       "       '/gpfs/data/luilab/FITBIR_META_DATA/updated_data/DTI_Final_3cof4_091119_310/TBIJA153JTR_ImagingDiffusion_1569247312908_YQOHE48cHpl6BzavF6aoeiaNp_9.zip',\n",
       "       '/gpfs/data/luilab/FITBIR_META_DATA/updated_data/DTI_Final_3aof4_091019_310/TBIAX166PYB_ImagingDiffusion_1567171803407_MPRPQKQumMCpabf1kLgoY5ju9_8.zip',\n",
       "       '/gpfs/data/luilab/FITBIR_META_DATA/updated_data/DTI_Final_3cof4_091119_310/TBIKC466UWB_ImagingDiffusion_1569246751453_qiphPkY2UY5c2RLKkmwfJAzrH_8.zip',\n",
       "       '/gpfs/data/luilab/FITBIR_META_DATA/updated_data/DTI_Final_3cof4_091119_310/TBIXW244JK9_ImagingDiffusion_1569247273649_MCeUvaSFzy5yIV6CgiGFMsub7_8.zip',\n",
       "       '/gpfs/data/luilab/FITBIR_META_DATA/updated_data/DTI_Final_3aof4_091019_310/TBILZ122DJE_ImagingDiffusion_1567171760251_b7xVXorpyEsUi63WW3gw2j5km_9.zip',\n",
       "       '/gpfs/data/luilab/FITBIR_META_DATA/updated_data/DTI_Final_3aof4_091019_310/TBIPU112TXT_ImagingDiffusion_1567171764709_LEcErEOXTuK9dCWEx8EIj9HTG_10.zip',\n",
       "       '/gpfs/data/luilab/FITBIR_META_DATA/updated_data/DTI_Final_3cof4_091119_310/TBIEC028VNW_ImagingDiffusion_1569246758161_7h5VgqoKVNlhRsJQsiffcond6_9.zip',\n",
       "       '/gpfs/data/luilab/FITBIR_META_DATA/updated_data/DTI_Final_3cof4_091119_310/TBIHF226YKW_ImagingDiffusion_1569246707523_jWxmpGayrIBi5zaC7SwkMRqVz_8.zip',\n",
       "       '/gpfs/data/luilab/FITBIR_META_DATA/updated_data/DTI_Final_3aof4_091019_310/TBIVH558JVN_ImagingDiffusion_1567171776279_k1F4JLhiX8YgDJBSuJoK5Z9wx_8.zip',\n",
       "       '/gpfs/data/luilab/FITBIR_META_DATA/updated_data/DTI_Final_3cof4_091119_310/TBIVL544FAL_ImagingDiffusion_1569247345176_ElkKJ4MSW7Gt6fGmBhAl8uDpn_8.zip',\n",
       "       '/gpfs/data/luilab/FITBIR_META_DATA/updated_data/DTI_Final_3cof4_091119_310/TBIDN578PYP_ImagingDiffusion_1569246783566_3URfJJCsRDzY4Si893rgbf6jq_9.zip',\n",
       "       '/gpfs/data/luilab/FITBIR_META_DATA/updated_data/DTI_Final_3cof4_091119_310/TBIRC006FGB_ImagingDiffusion_1569247284240_dbBcJzmRF6SqJNu3U8GX1qX4s_10.zip',\n",
       "       '/gpfs/data/luilab/FITBIR_META_DATA/updated_data/DTI_Final_3aof4_091019_310/TBIAX166PYB_ImagingDiffusion_1567171808637_92vTUsnbp4P6LKmG28NcHZ2cZ_10.zip',\n",
       "       '/gpfs/data/luilab/FITBIR_META_DATA/updated_data/DTI_Final_3cof4_091119_310/TBIGM143MKC_ImagingDiffusion_1569246753168_e3UIEtAEJ3zpmxr0jvlhIY4l7_8.zip',\n",
       "       '/gpfs/data/luilab/FITBIR_META_DATA/updated_data/DTI_Final_3cof4_091119_310/TBIXW244JK9_ImagingDiffusion_1569247275733_UmLNxgIohuYb08ReQOdSo3gXD_9.zip',\n",
       "       '/gpfs/data/luilab/FITBIR_META_DATA/updated_data/DTI_Final_3aof4_091019_310/TBIWK466PHH_ImagingDiffusion_1567171773419_PZKwGbbejokUrgyWJNjlDDMEj_9.zip',\n",
       "       '/gpfs/data/luilab/FITBIR_META_DATA/updated_data/DTI_Final_3cof4_091119_310/TBIFZ586AZQ_ImagingDiffusion_1569246760765_zF8D41KKHhKxbmWJZmRQQ8WTU_9.zip',\n",
       "       '/gpfs/data/luilab/FITBIR_META_DATA/updated_data/DTI_Final_3aof4_091019_310/TBIXZ865FU9_ImagingDiffusion_1567171788896_yXjhpRix3nJGnpzn4rSQ4kpYr_8.zip',\n",
       "       '/gpfs/data/luilab/FITBIR_META_DATA/updated_data/DTI_Final_3aof4_091019_310/TBIFE035WLL_ImagingDiffusion_1567171800413_qJqeY7qt6i1rPwqTXlsiCHhvw_10.zip',\n",
       "       '/gpfs/data/luilab/FITBIR_META_DATA/updated_data/DTI_Final_3cof4_091119_310/TBIRK497KPJ_ImagingDiffusion_1569247333869_kEk0SofetXgGKWtWZswRMEWuQ_8.zip',\n",
       "       '/gpfs/data/luilab/FITBIR_META_DATA/updated_data/DTI_Final_3cof4_091119_310/TBIPU592WDB_ImagingDiffusion_1569246776514_EpEfKdWgoC3g8qzFnjM3555wJ_9.zip',\n",
       "       '/gpfs/data/luilab/FITBIR_META_DATA/updated_data/DTI_Final_3cof4_091119_310/TBIRD021LMC_ImagingDiffusion_1569247311546_SC1zi1tU5GJFXknN5dk0glh0m_9.zip',\n",
       "       '/gpfs/data/luilab/FITBIR_META_DATA/updated_data/DTI_Final_3aof4_091019_310/TBIFE035WLL_ImagingDiffusion_1567171794001_pqAcvoSzA8sM7D6sB8C7qtDlq_8.zip',\n",
       "       '/gpfs/data/luilab/FITBIR_META_DATA/updated_data/DTI_Final_3cof4_091119_310/TBIRD021LMC_ImagingDiffusion_1569247305938_J5iIfLaQksBXxvMlO4Fu7zD8q_8.zip',\n",
       "       '/gpfs/data/luilab/FITBIR_META_DATA/updated_data/DTI_Final_3aof4_091019_310/TBILZ122DJE_ImagingDiffusion_1567171758208_fXpOLzUGKuW8idbx01B9LeWCy_8.zip',\n",
       "       '/gpfs/data/luilab/FITBIR_META_DATA/updated_data/DTI_Final_3cof4_091119_310/TBIGM143MKC_ImagingDiffusion_1569246756500_hoo8dMIjjWaNiADnizQd5VC2d_9.zip',\n",
       "       '/gpfs/data/luilab/FITBIR_META_DATA/updated_data/DTI_Final_3aof4_091019_310/TBIVH558JVN_ImagingDiffusion_1567171781022_5UeUAcHBMUbdLkuRvbsw2guKd_9.zip',\n",
       "       '/gpfs/data/luilab/FITBIR_META_DATA/updated_data/DTI_Final_3cof4_091119_310/TBIVL544FAL_ImagingDiffusion_1569247352265_AOw11j477sCS31G0KPdg5Die8_9.zip',\n",
       "       '/gpfs/data/luilab/FITBIR_META_DATA/updated_data/DTI_Final_3cof4_091119_310/TBIRD021LMC_ImagingDiffusion_1569247305352_rbym2n5KNdFzMeSHPMLAdkaVL_8.zip',\n",
       "       '/gpfs/data/luilab/FITBIR_META_DATA/updated_data/DTI_Final_3cof4_091119_310/TBIGM143MKC_ImagingDiffusion_1569246754757_e3UIEtAEJ3zpmxr0jvlhIY4l7_9.zip',\n",
       "       '/gpfs/data/luilab/FITBIR_META_DATA/updated_data/DTI_Final_3aof4_091019_310/TBIFE035WLL_ImagingDiffusion_1567171797907_qJqeY7qt6i1rPwqTXlsiCHhvw_8.zip',\n",
       "       '/gpfs/data/luilab/FITBIR_META_DATA/updated_data/DTI_Final_3cof4_091119_310/TBIRK497KPJ_ImagingDiffusion_1569247333284_ZPg3ysgcf9zqU7kABvs8cuRSh_8.zip',\n",
       "       '/gpfs/data/luilab/FITBIR_META_DATA/updated_data/DTI_Final_3cof4_091119_310/TBIFZ586AZQ_ImagingDiffusion_1569246775812_0ik80ZkajUGaKypZzLgCQUYkq_9.zip',\n",
       "       '/gpfs/data/luilab/FITBIR_META_DATA/updated_data/DTI_Final_3cof4_091119_310/TBIBD941WKU_ImagingDiffusion_1569246706016_GCfaEFnT8Dh3MHiMF9wskgvN8_9.zip',\n",
       "       '/gpfs/data/luilab/FITBIR_META_DATA/updated_data/DTI_Final_3aof4_091019_310/TBIAG941ZAD_ImagingDiffusion_1567171792756_6fCIQHb6OMedcVF40AMHAHjLw_8.zip',\n",
       "       '/gpfs/data/luilab/FITBIR_META_DATA/updated_data/DTI_Final_3cof4_091119_310/TBIRD021LMC_ImagingDiffusion_1569247310012_QwK7sps2fOI8yEKNwazrgX8Dj_9.zip',\n",
       "       '/gpfs/data/luilab/FITBIR_META_DATA/updated_data/DTI_Final_3cof4_091119_310/TBIXW244JK9_ImagingDiffusion_1569247275058_w8jAGuP2zJMLtJ1kxbpGokPux_9.zip',\n",
       "       '/gpfs/data/luilab/FITBIR_META_DATA/updated_data/DTI_Final_3cof4_091119_310/TBIBD941WKU_ImagingDiffusion_1569246706664_hXMRqZz2I5F2ul2JRcvDE5VbS_9.zip',\n",
       "       '/gpfs/data/luilab/FITBIR_META_DATA/updated_data/DTI_Final_3aof4_091019_310/TBIWK466PHH_ImagingDiffusion_1567171774921_wkZG3hRVFBe8dfjn2ylkGlRwQ_8.zip',\n",
       "       '/gpfs/data/luilab/FITBIR_META_DATA/updated_data/DTI_Final_3cof4_091119_310/TBIXM072VWP_ImagingDiffusion_1569247338442_5PrmljkOA9Pe9dmp6YSqf9f7a_8.zip',\n",
       "       '/gpfs/data/luilab/FITBIR_META_DATA/updated_data/DTI_Final_3cof4_091119_310/TBIDN578PYP_ImagingDiffusion_1569246782888_DX2jMKABinFMIqG4qOQO7OcJk_9.zip',\n",
       "       '/gpfs/data/luilab/FITBIR_META_DATA/updated_data/DTI_Final_3cof4_091119_310/TBIKC466UWB_ImagingDiffusion_1569246752286_L1aFXL0Zhue1TBHDTOsW7ZvkB_8.zip',\n",
       "       '/gpfs/data/luilab/FITBIR_META_DATA/updated_data/DTI_Final_3cof4_091119_310/TBIBT350AWY_ImagingDiffusion_1569247283394_n6dKUF5hwbQ2VmnZ4h859QqkE_8.zip',\n",
       "       '/gpfs/data/luilab/FITBIR_META_DATA/updated_data/DTI_Final_3cof4_091119_310/TBIXM072VWP_ImagingDiffusion_1569247337794_0CPWq2mFacRndDBUYiYwlabcX_9.zip',\n",
       "       '/gpfs/data/luilab/FITBIR_META_DATA/updated_data/DTI_Final_3aof4_091019_310/TBIAX166PYB_ImagingDiffusion_1567171806939_e1thj8VrT48CEGtzXSywGKHkg_9.zip',\n",
       "       '/gpfs/data/luilab/FITBIR_META_DATA/updated_data/DTI_Final_3aof4_091019_310/TBILZ122DJE_ImagingDiffusion_1567171761851_Q5dMMey0r2kAnIPJNjFMtmOPu_8.zip',\n",
       "       '/gpfs/data/luilab/FITBIR_META_DATA/updated_data/DTI_Final_3aof4_091019_310/TBIPU112TXT_ImagingDiffusion_1567171765799_lCcgrZIax8FfTLjPB7PinuewU_9.zip',\n",
       "       '/gpfs/data/luilab/FITBIR_META_DATA/updated_data/DTI_Final_3cof4_091119_310/TBIEC028VNW_ImagingDiffusion_1569246759520_09cGTEN4OaEb40tw0WEgt3IgB_9.zip',\n",
       "       '/gpfs/data/luilab/FITBIR_META_DATA/updated_data/DTI_Final_3cof4_091119_310/TBIXW244JK9_ImagingDiffusion_1569247272908_FrEckylMMEuMbLRqJ7C5DLTbF_8.zip',\n",
       "       '/gpfs/data/luilab/FITBIR_META_DATA/updated_data/DTI_Final_3aof4_091019_310/TBIXZ865FU9_ImagingDiffusion_1567171786683_fySkBYSWq4mkzV0kbgm4ISzWe_8.zip',\n",
       "       '/gpfs/data/luilab/FITBIR_META_DATA/updated_data/DTI_Final_3cof4_091119_310/TBIFZ586AZQ_ImagingDiffusion_1569246761796_aCMSFeK6sIDoFPFszoy5zgpuB_9.zip',\n",
       "       '/gpfs/data/luilab/FITBIR_META_DATA/updated_data/DTI_Final_3cof4_091119_310/TBIBD941WKU_ImagingDiffusion_1569246704643_wKLZjaziY7TMCdIWTH3x1t66j_9.zip',\n",
       "       '/gpfs/data/luilab/FITBIR_META_DATA/updated_data/DTI_Final_3aof4_091019_310/TBIAG941ZAD_ImagingDiffusion_1567171790012_dUAEcmwD1HPMECylBHRClWygw_8.zip',\n",
       "       '/gpfs/data/luilab/FITBIR_META_DATA/updated_data/DTI_Final_3cof4_091119_310/TBIGM143MKC_ImagingDiffusion_1569246755595_hoo8dMIjjWaNiADnizQd5VC2d_8.zip',\n",
       "       '/gpfs/data/luilab/FITBIR_META_DATA/updated_data/DTI_Final_3cof4_091119_310/TBIHF226YKW_ImagingDiffusion_1569246708263_jlmOC6MLHLj2OrG3MBhzAXjIl_8.zip',\n",
       "       '/gpfs/data/luilab/FITBIR_META_DATA/updated_data/DTI_Final_3aof4_091019_310/TBIVH558JVN_ImagingDiffusion_1567171779045_C4e35lFRGxbISeVqxbz5a4SP4_9.zip',\n",
       "       '/gpfs/data/luilab/FITBIR_META_DATA/updated_data/DTI_Final_3cof4_091119_310/TBIVL544FAL_ImagingDiffusion_1569247345906_vgWs3clAImtoqpJ0nk2comj18_8.zip',\n",
       "       '/gpfs/data/luilab/FITBIR_META_DATA/updated_data/DTI_Final_3cof4_091119_310/TBIDN578PYP_ImagingDiffusion_1569246784269_XdOT7BsN7M6U00bqyIRLieI5B_9.zip',\n",
       "       '/gpfs/data/luilab/FITBIR_META_DATA/updated_data/DTI_Final_3cof4_091119_310/TBIRC006FGB_ImagingDiffusion_1569247301433_BjPyOZIEz1KNwuiJKY3ua1uzU_8.zip',\n",
       "       '/gpfs/data/luilab/FITBIR_META_DATA/updated_data/DTI_Final_3aof4_091019_310/TBIAX166PYB_ImagingDiffusion_1567171810560_WlvsQTMpuaW69YqyAzyPOTQHm_9.zip',\n",
       "       '/gpfs/data/luilab/FITBIR_META_DATA/updated_data/DTI_Final_3cof4_091119_310/TBIJA153JTR_ImagingDiffusion_1569247312985_VF7YVBqlgXG6jhsmh8SMSiNp1_8.zip',\n",
       "       '/gpfs/data/luilab/FITBIR_META_DATA/updated_data/DTI_Final_3cof4_091119_310/TBIGM143MKC_ImagingDiffusion_1569246757144_53JRZJPEXOgu4irBU741Sczkn_9.zip',\n",
       "       '/gpfs/data/luilab/FITBIR_META_DATA/updated_data/DTI_Final_3aof4_091019_310/TBIPU112TXT_ImagingDiffusion_1567171763762_ZSI6oYbsCqzsvrSPVFyw9yulL_9.zip',\n",
       "       '/gpfs/data/luilab/FITBIR_META_DATA/updated_data/DTI_Final_3aof4_091019_310/TBILZ122DJE_ImagingDiffusion_1567171759264_INGEsy7t7oHalPKrKLrFCJnM9_8.zip',\n",
       "       '/gpfs/data/luilab/FITBIR_META_DATA/updated_data/DTI_Final_3cof4_091119_310/TBIBT350AWY_ImagingDiffusion_1569247281952_nWmLz80KmfI5smu6pOmv7N01F_8.zip',\n",
       "       '/gpfs/data/luilab/FITBIR_META_DATA/updated_data/DTI_Final_3aof4_091019_310/TBIWK466PHH_ImagingDiffusion_1567171771064_MR9JuZKbUmo4h50eLpmAMi7ih_8.zip',\n",
       "       '/gpfs/data/luilab/FITBIR_META_DATA/updated_data/DTI_Final_3aof4_091019_310/TBIAX166PYB_ImagingDiffusion_1567171805773_MPRPQKQumMCpabf1kLgoY5ju9_9.zip',\n",
       "       '/gpfs/data/luilab/FITBIR_META_DATA/updated_data/DTI_Final_3cof4_091119_310/TBIRK497KPJ_ImagingDiffusion_1569247334543_2MIU9A9b7QUbfgvDYZF2DPWMT_8.zip',\n",
       "       '/gpfs/data/luilab/FITBIR_META_DATA/updated_data/DTI_Final_3cof4_091119_310/TBIPU592WDB_ImagingDiffusion_1569246780957_0jJbWXOYq8dIJxPoWJE8Ex4Rp_9.zip',\n",
       "       '/gpfs/data/luilab/FITBIR_META_DATA/updated_data/DTI_Final_3cof4_091119_310/TBIKC466UWB_ImagingDiffusion_1569246750654_NKYN6ZSmESZ5YGJoDPpV0raXy_15.zip',\n",
       "       '/gpfs/data/luilab/FITBIR_META_DATA/updated_data/DTI_Final_3aof4_091019_310/TBIFE035WLL_ImagingDiffusion_1567171795500_HytkxXkwiFXQoQ1t91NlthgpJ_11.zip',\n",
       "       '/gpfs/data/luilab/FITBIR_META_DATA/updated_data/DTI_Final_3cof4_091119_310/TBIJA153JTR_ImagingDiffusion_1569247312275_kQWTyBqqyHNKQieg35hN6ZglL_9.zip',\n",
       "       '/gpfs/data/luilab/FITBIR_META_DATA/updated_data/DTI_Final_4bof4_092319_310/TBIDA642TJK_ImagingDiffusion_1569269554005_hCiXwYWCiHyKDUNzQmOy0LSJl_9.zip',\n",
       "       '/gpfs/data/luilab/FITBIR_META_DATA/updated_data/DTI_Final_4bof4_092319_310/TBIAK865LX3_ImagingDiffusion_1569269556494_U2klmX2hqLRi4DyEzCGmMutyS_9.zip',\n",
       "       '/gpfs/data/luilab/FITBIR_META_DATA/updated_data/DTI_Final_4bof4_092319_310/TBIAK865LX3_ImagingDiffusion_1569269567272_UxBewz4HUUb8if3vFr4QQSHJN_9.zip',\n",
       "       '/gpfs/data/luilab/FITBIR_META_DATA/updated_data/DTI_Final_4bof4_092319_310/TBIGR697WM9_ImagingDiffusion_1569269551417_OmgDCzc0k8C67H5bz3st8SMqH_8.zip',\n",
       "       '/gpfs/data/luilab/FITBIR_META_DATA/updated_data/DTI_Final_4bof4_092319_310/TBIDA642TJK_ImagingDiffusion_1569269555303_7ZhluwXYudhEdHQNsPmsNKHJj_9.zip',\n",
       "       '/gpfs/data/luilab/FITBIR_META_DATA/updated_data/DTI_Final_4bof4_092319_310/TBIKD833XG6_ImagingDiffusion_1569269549238_UYfYeXzjRMS8Lt2k40QvujudL_9.zip',\n",
       "       '/gpfs/data/luilab/FITBIR_META_DATA/updated_data/DTI_Final_4bof4_092319_310/TBIDA642TJK_ImagingDiffusion_1569269555872_KqtfNTv7weWcCS2mGIfCZIFhz_9.zip',\n",
       "       '/gpfs/data/luilab/FITBIR_META_DATA/updated_data/DTI_Final_4bof4_092319_310/TBIGR697WM9_ImagingDiffusion_1569269552214_1P0dcIIsPUlB0XSQsUt6LW6tN_8.zip',\n",
       "       '/gpfs/data/luilab/FITBIR_META_DATA/updated_data/DTI_Final_4bof4_092319_310/TBIAK865LX3_ImagingDiffusion_1569269557165_ykuLRy8Lgc805zEtMb1rr0ron_9.zip',\n",
       "       '/gpfs/data/luilab/FITBIR_META_DATA/updated_data/DTI_Final_4bof4_092319_310/TBIDA642TJK_ImagingDiffusion_1569269554627_5uwO8DHoCj2sl6hOXYo0lW3MY_9.zip',\n",
       "       '/gpfs/data/luilab/FITBIR_META_DATA/updated_data/DTI_Final_4bof4_092319_310/TBIAK865LX3_ImagingDiffusion_1569269567298_pftWrOAuaBQFk8dn6s9e31Cd0_8.zip',\n",
       "       '/gpfs/data/luilab/FITBIR_META_DATA/updated_data/DTI_Final_4bof4_092319_310/TBIDA642TJK_ImagingDiffusion_1569269553414_hCiXwYWCiHyKDUNzQmOy0LSJl_8.zip',\n",
       "       '/gpfs/data/luilab/FITBIR_META_DATA/updated_data/DTI_Final_4bof4_092319_310/TBIAK865LX3_ImagingDiffusion_1569269555894_U2klmX2hqLRi4DyEzCGmMutyS_8.zip',\n",
       "       '/gpfs/data/luilab/FITBIR_META_DATA/updated_data/DTI_Final_4bof4_092319_310/TBITK386YN7_ImagingDiffusion_1569269549262_DREYWMs3KkUOlsL4iGwC0JI4g_8.zip',\n",
       "       '/gpfs/data/luilab/FITBIR_META_DATA/updated_data/DTI_Final_4bof4_092319_310/TBIAK865LX3_ImagingDiffusion_1569269557302_UxBewz4HUUb8if3vFr4QQSHJN_8.zip',\n",
       "       '/gpfs/data/luilab/FITBIR_META_DATA/updated_data/DTI_Final_4bof4_092319_310/TBIDA642TJK_ImagingDiffusion_1569269554660_7ZhluwXYudhEdHQNsPmsNKHJj_8.zip',\n",
       "       '/gpfs/data/luilab/FITBIR_META_DATA/updated_data/DTI_Final_4bof4_092319_310/TBIKD833XG6_ImagingDiffusion_1569269548574_UYfYeXzjRMS8Lt2k40QvujudL_8.zip',\n",
       "       '/gpfs/data/luilab/FITBIR_META_DATA/updated_data/DTI_Final_4bof4_092319_310/TBIDA642TJK_ImagingDiffusion_1569269555325_KqtfNTv7weWcCS2mGIfCZIFhz_8.zip',\n",
       "       '/gpfs/data/luilab/FITBIR_META_DATA/updated_data/DTI_Final_4bof4_092319_310/TBIGR697WM9_ImagingDiffusion_1569269552179_OmgDCzc0k8C67H5bz3st8SMqH_9.zip',\n",
       "       '/gpfs/data/luilab/FITBIR_META_DATA/updated_data/DTI_Final_4bof4_092319_310/TBIAK865LX3_ImagingDiffusion_1569269556563_ykuLRy8Lgc805zEtMb1rr0ron_8.zip',\n",
       "       '/gpfs/data/luilab/FITBIR_META_DATA/updated_data/DTI_Final_4bof4_092319_310/TBIDA642TJK_ImagingDiffusion_1569269554030_5uwO8DHoCj2sl6hOXYo0lW3MY_8.zip',\n",
       "       '/gpfs/data/luilab/FITBIR_META_DATA/updated_data/DTI_Final_4bof4_092319_310/TBIMU702RAJ_ImagingDiffusion_1569269142964_sAxodcuzMiYrHThPvLSlEE8CY_9.zip',\n",
       "       '/gpfs/data/luilab/FITBIR_META_DATA/updated_data/DTI_Final_4bof4_092319_310/TBIWD902ZWM_ImagingDiffusion_1569269179005_AJytsqNE3trNlT7FEng6ACYdG_9.zip',\n",
       "       '/gpfs/data/luilab/FITBIR_META_DATA/updated_data/DTI_Final_4bof4_092319_310/TBIZN166LJY_ImagingDiffusion_1569269579708_FwI5HfqsmyMup5jdJTqFy5iJK_9.zip',\n",
       "       '/gpfs/data/luilab/FITBIR_META_DATA/updated_data/DTI_Final_4bof4_092319_310/TBIKD833XG6_ImagingDiffusion_1569269192189_T0V3dhe2i3aexZnpCmN2KbSlc_9.zip',\n",
       "       '/gpfs/data/luilab/FITBIR_META_DATA/updated_data/DTI_Final_4bof4_092319_310/TBIBL749VD6_ImagingDiffusion_1569269569864_BSZj8GnoDhpoLRybIJNAnQpmI_9.zip',\n",
       "       '/gpfs/data/luilab/FITBIR_META_DATA/updated_data/DTI_Final_4bof4_092319_310/TBIGU766VNL_ImagingDiffusion_1569269574560_lsgHbP0uIMdzhBpC9ri66yQS3_9.zip',\n",
       "       '/gpfs/data/luilab/FITBIR_META_DATA/updated_data/DTI_Final_4bof4_092319_310/TBITP193MV5_ImagingDiffusion_1569269174076_1K9cq65cvNZUPgi7tqq4ZLglQ_16.zip',\n",
       "       '/gpfs/data/luilab/FITBIR_META_DATA/updated_data/DTI_Final_4bof4_092319_310/TBIZL126XW2_ImagingDiffusion_1569269140058_iP23D7UwMi3fSuxmlI7LZOTJK_9.zip',\n",
       "       '/gpfs/data/luilab/FITBIR_META_DATA/updated_data/DTI_Final_4bof4_092319_310/TBIZA241JFR_ImagingDiffusion_1569269185059_sV5mGsLXhf9AnrzMpNqDZEcsA_9.zip',\n",
       "       '/gpfs/data/luilab/FITBIR_META_DATA/updated_data/DTI_Final_4bof4_092319_310/TBIBT578WHF_ImagingDiffusion_1569269146037_JQjfVrjfjw9C7h50D6A21i2Am_9.zip',\n",
       "       '/gpfs/data/luilab/FITBIR_META_DATA/updated_data/DTI_Final_4bof4_092319_310/TBIGR697WM9_ImagingDiffusion_1569269552779_sy83XsV6F5nwBnhsaXID6dSIv_8.zip',\n",
       "       '/gpfs/data/luilab/FITBIR_META_DATA/updated_data/DTI_Final_4bof4_092319_310/TBIGU766VNL_ImagingDiffusion_1569269572307_BpGl7XAxcMuaaKuv12vtpcXTf_9.zip',\n",
       "       '/gpfs/data/luilab/FITBIR_META_DATA/updated_data/DTI_Final_4bof4_092319_310/TBITP193MV5_ImagingDiffusion_1569269172026_XKyeU3fkTCMbNUcPzIFumPd5z_9.zip',\n",
       "       '/gpfs/data/luilab/FITBIR_META_DATA/updated_data/DTI_Final_4bof4_092319_310/TBIWD902ZWM_ImagingDiffusion_1569269181831_zaBLOcQbgWt4Q4MDYWhEq65Vf_9.zip',\n",
       "       '/gpfs/data/luilab/FITBIR_META_DATA/updated_data/DTI_Final_4bof4_092319_310/TBIBT578WHF_ImagingDiffusion_1569269144564_Q29vFfB61FsKwhAF1cZc7nS9R_9.zip',\n",
       "       '/gpfs/data/luilab/FITBIR_META_DATA/updated_data/DTI_Final_4bof4_092319_310/TBIZN166LJY_ImagingDiffusion_1569269581670_Q0yPvu3FovZb3aBuDDRgyTa52_9.zip',\n",
       "       '/gpfs/data/luilab/FITBIR_META_DATA/updated_data/DTI_Final_4bof4_092319_310/TBIZA241JFR_ImagingDiffusion_1569269188400_TkBjmnKxwJIab78RjWbY1MC97_9.zip',\n",
       "       '/gpfs/data/luilab/FITBIR_META_DATA/updated_data/DTI_Final_4bof4_092319_310/TBIZL126XW2_ImagingDiffusion_1569269141571_7bc5bnhRmgKVc3HvBd7DJ5ww8_9.zip',\n",
       "       '/gpfs/data/luilab/FITBIR_META_DATA/updated_data/DTI_Final_4bof4_092319_310/TBITP193MV5_ImagingDiffusion_1569269176117_0w1AvJT58p5mvjdvA9M44quD4_9.zip',\n",
       "       '/gpfs/data/luilab/FITBIR_META_DATA/updated_data/DTI_Final_4bof4_092319_310/TBIBL749VD6_ImagingDiffusion_1569269568657_Ze5tLmD9527DrTPJqwwwwGogi_9.zip',\n",
       "       '/gpfs/data/luilab/FITBIR_META_DATA/updated_data/DTI_Final_4bof4_092319_310/TBITK386YN7_ImagingDiffusion_1569269550594_6VZoB9eZRNmASea0Etqjsa52f_9.zip',\n",
       "       '/gpfs/data/luilab/FITBIR_META_DATA/updated_data/DTI_Final_4bof4_092319_310/TBIGU766VNL_ImagingDiffusion_1569269573898_VtLinmvFb1ziAO5UWSTSXR3jN_9.zip',\n",
       "       '/gpfs/data/luilab/FITBIR_META_DATA/updated_data/DTI_Final_4bof4_092319_310/TBITP193MV5_ImagingDiffusion_1569269173333_1K9cq65cvNZUPgi7tqq4ZLglQ_15.zip',\n",
       "       '/gpfs/data/luilab/FITBIR_META_DATA/updated_data/DTI_Final_4bof4_092319_310/TBIZA241JFR_ImagingDiffusion_1569269183548_zzvdjHDVJ63YjRanlbqFldjXv_9.zip',\n",
       "       '/gpfs/data/luilab/FITBIR_META_DATA/updated_data/DTI_Final_4bof4_092319_310/TBIZN166LJY_ImagingDiffusion_1569269582438_zktD1NO6yl5KGPLEg0duS3Ev3_9.zip',\n",
       "       '/gpfs/data/luilab/FITBIR_META_DATA/updated_data/DTI_Final_4bof4_092319_310/TBITK386YN7_ImagingDiffusion_1569269551339_YP183PiJMPt7hZFHGHsSCTY5Y_9.zip',\n",
       "       '/gpfs/data/luilab/FITBIR_META_DATA/updated_data/DTI_Final_4bof4_092319_310/TBIBT578WHF_ImagingDiffusion_1569269145346_HxII67QB6M4mwufNcZs2UcqL4_9.zip',\n",
       "       '/gpfs/data/luilab/FITBIR_META_DATA/updated_data/DTI_Final_4bof4_092319_310/TBIKD833XG6_ImagingDiffusion_1569269190220_FrTMqUycZ5vMcwfKA2BccIZVh_9.zip',\n",
       "       '/gpfs/data/luilab/FITBIR_META_DATA/updated_data/DTI_Final_4bof4_092319_310/TBIMU702RAJ_ImagingDiffusion_1569269142331_9x2Z8O536zybYRAcZj7B65Fko_9.zip',\n",
       "       '/gpfs/data/luilab/FITBIR_META_DATA/updated_data/DTI_Final_4bof4_092319_310/TBIWD902ZWM_ImagingDiffusion_1569269177407_MDeoIGLQ68MEsRal2l8O3bFc6_9.zip',\n",
       "       '/gpfs/data/luilab/FITBIR_META_DATA/updated_data/DTI_Final_4bof4_092319_310/TBIBL749VD6_ImagingDiffusion_1569269569303_7zNeAMKJsDdy0dRyrcRJHJ9Is_9.zip',\n",
       "       '/gpfs/data/luilab/FITBIR_META_DATA/updated_data/DTI_Final_4bof4_092319_310/TBICR008BFT_ImagingDiffusion_1569269168753_vs8G98EcDiAJKj1dm2P1ilKZc_9.zip',\n",
       "       '/gpfs/data/luilab/FITBIR_META_DATA/updated_data/DTI_Final_4bof4_092319_310/TBIKD833XG6_ImagingDiffusion_1569269193711_6xSOxyDMwZl27SVRcBwni5zVX_9.zip',\n",
       "       '/gpfs/data/luilab/FITBIR_META_DATA/updated_data/DTI_Final_4bof4_092319_310/TBIMU702RAJ_ImagingDiffusion_1569269143721_WjmT3ZqQJlhoyzSA5wimznrC0_9.zip',\n",
       "       '/gpfs/data/luilab/FITBIR_META_DATA/updated_data/DTI_Final_4bof4_092319_310/TBIWD902ZWM_ImagingDiffusion_1569269180371_NpEU7bXPDaW4B9gFeCyduRVKt_9.zip',\n",
       "       '/gpfs/data/luilab/FITBIR_META_DATA/updated_data/DTI_Final_4bof4_092319_310/TBIZN166LJY_ImagingDiffusion_1569269580796_ubFzaCAVEV1AYAkmRC9LrXGT4_9.zip',\n",
       "       '/gpfs/data/luilab/FITBIR_META_DATA/updated_data/DTI_Final_4bof4_092319_310/TBIBL749VD6_ImagingDiffusion_1569269571253_ar2UghJAtEOhRIL3cXYPXe7mq_9.zip',\n",
       "       '/gpfs/data/luilab/FITBIR_META_DATA/updated_data/DTI_Final_4bof4_092319_310/TBIAK865LX3_ImagingDiffusion_1569269568101_pftWrOAuaBQFk8dn6s9e31Cd0_9.zip',\n",
       "       '/gpfs/data/luilab/FITBIR_META_DATA/updated_data/DTI_Final_4bof4_092319_310/TBIGU766VNL_ImagingDiffusion_1569269575224_XJIziTkNvlfKF8U9jcGLkt9Qe_11.zip',\n",
       "       '/gpfs/data/luilab/FITBIR_META_DATA/updated_data/DTI_Final_4bof4_092319_310/TBITP193MV5_ImagingDiffusion_1569269175108_VjoKLCDycq5hZFOrNI5shv2wY_9.zip',\n",
       "       '/gpfs/data/luilab/FITBIR_META_DATA/updated_data/DTI_Final_4bof4_092319_310/TBIZL126XW2_ImagingDiffusion_1569269140862_mHhM0E3h8UcmZS6llZagC9Q4b_9.zip',\n",
       "       '/gpfs/data/luilab/FITBIR_META_DATA/updated_data/DTI_Final_4bof4_092319_310/TBIZA241JFR_ImagingDiffusion_1569269186542_97WtpMwV8hxBhA4QR1Sujxs4Z_9.zip',\n",
       "       '/gpfs/data/luilab/FITBIR_META_DATA/updated_data/DTI_Final_4bof4_092319_310/TBIBT578WHF_ImagingDiffusion_1569269146866_L3poNj0sfyl3stsgpUUglL72Q_9.zip',\n",
       "       '/gpfs/data/luilab/FITBIR_META_DATA/updated_data/DTI_Final_4bof4_092319_310/TBITK386YN7_ImagingDiffusion_1569269549817_DREYWMs3KkUOlsL4iGwC0JI4g_9.zip',\n",
       "       '/gpfs/data/luilab/FITBIR_META_DATA/updated_data/DTI_Final_4bof4_092319_310/TBIGU766VNL_ImagingDiffusion_1569269571273_BpGl7XAxcMuaaKuv12vtpcXTf_8.zip',\n",
       "       '/gpfs/data/luilab/FITBIR_META_DATA/updated_data/DTI_Final_4bof4_092319_310/TBITP193MV5_ImagingDiffusion_1569269171245_XKyeU3fkTCMbNUcPzIFumPd5z_8.zip',\n",
       "       '/gpfs/data/luilab/FITBIR_META_DATA/updated_data/DTI_Final_4bof4_092319_310/TBIWD902ZWM_ImagingDiffusion_1569269180557_zaBLOcQbgWt4Q4MDYWhEq65Vf_8.zip',\n",
       "       '/gpfs/data/luilab/FITBIR_META_DATA/updated_data/DTI_Final_4bof4_092319_310/TBIZN166LJY_ImagingDiffusion_1569269580817_Q0yPvu3FovZb3aBuDDRgyTa52_8.zip',\n",
       "       '/gpfs/data/luilab/FITBIR_META_DATA/updated_data/DTI_Final_4bof4_092319_310/TBITK386YN7_ImagingDiffusion_1569269549840_6VZoB9eZRNmASea0Etqjsa52f_8.zip',\n",
       "       '/gpfs/data/luilab/FITBIR_META_DATA/updated_data/DTI_Final_4bof4_092319_310/TBIBT578WHF_ImagingDiffusion_1569269143777_Q29vFfB61FsKwhAF1cZc7nS9R_8.zip',\n",
       "       '/gpfs/data/luilab/FITBIR_META_DATA/updated_data/DTI_Final_4bof4_092319_310/TBIZA241JFR_ImagingDiffusion_1569269186789_TkBjmnKxwJIab78RjWbY1MC97_8.zip',\n",
       "       '/gpfs/data/luilab/FITBIR_META_DATA/updated_data/DTI_Final_4bof4_092319_310/TBIZL126XW2_ImagingDiffusion_1569269140884_7bc5bnhRmgKVc3HvBd7DJ5ww8_8.zip',\n",
       "       '/gpfs/data/luilab/FITBIR_META_DATA/updated_data/DTI_Final_4bof4_092319_310/TBITP193MV5_ImagingDiffusion_1569269175290_0w1AvJT58p5mvjdvA9M44quD4_8.zip',\n",
       "       '/gpfs/data/luilab/FITBIR_META_DATA/updated_data/DTI_Final_4bof4_092319_310/TBIBL749VD6_ImagingDiffusion_1569269568123_Ze5tLmD9527DrTPJqwwwwGogi_8.zip',\n",
       "       '/gpfs/data/luilab/FITBIR_META_DATA/updated_data/DTI_Final_4bof4_092319_310/TBIKD833XG6_ImagingDiffusion_1569269190358_T0V3dhe2i3aexZnpCmN2KbSlc_8.zip',\n",
       "       '/gpfs/data/luilab/FITBIR_META_DATA/updated_data/DTI_Final_4bof4_092319_310/TBIMU702RAJ_ImagingDiffusion_1569269142360_sAxodcuzMiYrHThPvLSlEE8CY_8.zip',\n",
       "       '/gpfs/data/luilab/FITBIR_META_DATA/updated_data/DTI_Final_4bof4_092319_310/TBIWD902ZWM_ImagingDiffusion_1569269177703_AJytsqNE3trNlT7FEng6ACYdG_8.zip',\n",
       "       '/gpfs/data/luilab/FITBIR_META_DATA/updated_data/DTI_Final_4bof4_092319_310/TBIZN166LJY_ImagingDiffusion_1569269579091_FwI5HfqsmyMup5jdJTqFy5iJK_8.zip',\n",
       "       '/gpfs/data/luilab/FITBIR_META_DATA/updated_data/DTI_Final_4bof4_092319_310/TBIBL749VD6_ImagingDiffusion_1569269569325_BSZj8GnoDhpoLRybIJNAnQpmI_8.zip',\n",
       "       '/gpfs/data/luilab/FITBIR_META_DATA/updated_data/DTI_Final_4bof4_092319_310/TBIGR697WM9_ImagingDiffusion_1569269552755_1P0dcIIsPUlB0XSQsUt6LW6tN_9.zip',\n",
       "       '/gpfs/data/luilab/FITBIR_META_DATA/updated_data/DTI_Final_4bof4_092319_310/TBIGU766VNL_ImagingDiffusion_1569269573927_lsgHbP0uIMdzhBpC9ri66yQS3_8.zip',\n",
       "       '/gpfs/data/luilab/FITBIR_META_DATA/updated_data/DTI_Final_4bof4_092319_310/TBITP193MV5_ImagingDiffusion_1569269173948_1K9cq65cvNZUPgi7tqq4ZLglQ_10.zip',\n",
       "       '/gpfs/data/luilab/FITBIR_META_DATA/updated_data/DTI_Final_4bof4_092319_310/TBIZL126XW2_ImagingDiffusion_1569269139502_iP23D7UwMi3fSuxmlI7LZOTJK_8.zip',\n",
       "       '/gpfs/data/luilab/FITBIR_META_DATA/updated_data/DTI_Final_4bof4_092319_310/TBIZA241JFR_ImagingDiffusion_1569269183631_sV5mGsLXhf9AnrzMpNqDZEcsA_8.zip',\n",
       "       '/gpfs/data/luilab/FITBIR_META_DATA/updated_data/DTI_Final_4bof4_092319_310/TBIBT578WHF_ImagingDiffusion_1569269145393_JQjfVrjfjw9C7h50D6A21i2Am_8.zip',\n",
       "       '/gpfs/data/luilab/FITBIR_META_DATA/updated_data/DTI_Final_4bof4_092319_310/TBIKD833XG6_ImagingDiffusion_1569269192327_6xSOxyDMwZl27SVRcBwni5zVX_8.zip',\n",
       "       '/gpfs/data/luilab/FITBIR_META_DATA/updated_data/DTI_Final_4bof4_092319_310/TBIMU702RAJ_ImagingDiffusion_1569269143055_WjmT3ZqQJlhoyzSA5wimznrC0_8.zip',\n",
       "       '/gpfs/data/luilab/FITBIR_META_DATA/updated_data/DTI_Final_4bof4_092319_310/TBIWD902ZWM_ImagingDiffusion_1569269179165_NpEU7bXPDaW4B9gFeCyduRVKt_8.zip',\n",
       "       '/gpfs/data/luilab/FITBIR_META_DATA/updated_data/DTI_Final_4bof4_092319_310/TBIZN166LJY_ImagingDiffusion_1569269579743_ubFzaCAVEV1AYAkmRC9LrXGT4_8.zip',\n",
       "       '/gpfs/data/luilab/FITBIR_META_DATA/updated_data/DTI_Final_4bof4_092319_310/TBIBL749VD6_ImagingDiffusion_1569269569887_ar2UghJAtEOhRIL3cXYPXe7mq_8.zip',\n",
       "       '/gpfs/data/luilab/FITBIR_META_DATA/updated_data/DTI_Final_4bof4_092319_310/TBIGR697WM9_ImagingDiffusion_1569269553390_sy83XsV6F5nwBnhsaXID6dSIv_9.zip',\n",
       "       '/gpfs/data/luilab/FITBIR_META_DATA/updated_data/DTI_Final_4bof4_092319_310/TBIGU766VNL_ImagingDiffusion_1569269574582_XJIziTkNvlfKF8U9jcGLkt9Qe_10.zip',\n",
       "       '/gpfs/data/luilab/FITBIR_META_DATA/updated_data/DTI_Final_4bof4_092319_310/TBITP193MV5_ImagingDiffusion_1569269174304_VjoKLCDycq5hZFOrNI5shv2wY_8.zip',\n",
       "       '/gpfs/data/luilab/FITBIR_META_DATA/updated_data/DTI_Final_4bof4_092319_310/TBIZL126XW2_ImagingDiffusion_1569269140170_mHhM0E3h8UcmZS6llZagC9Q4b_8.zip',\n",
       "       '/gpfs/data/luilab/FITBIR_META_DATA/updated_data/DTI_Final_4bof4_092319_310/TBIZA241JFR_ImagingDiffusion_1569269185178_97WtpMwV8hxBhA4QR1Sujxs4Z_8.zip',\n",
       "       '/gpfs/data/luilab/FITBIR_META_DATA/updated_data/DTI_Final_4bof4_092319_310/TBIBT578WHF_ImagingDiffusion_1569269146144_L3poNj0sfyl3stsgpUUglL72Q_8.zip',\n",
       "       '/gpfs/data/luilab/FITBIR_META_DATA/updated_data/DTI_Final_4bof4_092319_310/TBITK386YN7_ImagingDiffusion_1569269550674_YP183PiJMPt7hZFHGHsSCTY5Y_8.zip',\n",
       "       '/gpfs/data/luilab/FITBIR_META_DATA/updated_data/DTI_Final_4bof4_092319_310/TBIGU766VNL_ImagingDiffusion_1569269573035_VtLinmvFb1ziAO5UWSTSXR3jN_8.zip',\n",
       "       '/gpfs/data/luilab/FITBIR_META_DATA/updated_data/DTI_Final_4bof4_092319_310/TBITP193MV5_ImagingDiffusion_1569269172359_1K9cq65cvNZUPgi7tqq4ZLglQ_9.zip',\n",
       "       '/gpfs/data/luilab/FITBIR_META_DATA/updated_data/DTI_Final_4bof4_092319_310/TBIZA241JFR_ImagingDiffusion_1569269182042_zzvdjHDVJ63YjRanlbqFldjXv_8.zip',\n",
       "       '/gpfs/data/luilab/FITBIR_META_DATA/updated_data/DTI_Final_4bof4_092319_310/TBIBT578WHF_ImagingDiffusion_1569269144663_HxII67QB6M4mwufNcZs2UcqL4_8.zip',\n",
       "       '/gpfs/data/luilab/FITBIR_META_DATA/updated_data/DTI_Final_4bof4_092319_310/TBIZN166LJY_ImagingDiffusion_1569269581698_zktD1NO6yl5KGPLEg0duS3Ev3_8.zip',\n",
       "       '/gpfs/data/luilab/FITBIR_META_DATA/updated_data/DTI_Final_4bof4_092319_310/TBIKD833XG6_ImagingDiffusion_1569269188502_FrTMqUycZ5vMcwfKA2BccIZVh_8.zip',\n",
       "       '/gpfs/data/luilab/FITBIR_META_DATA/updated_data/DTI_Final_4bof4_092319_310/TBIMU702RAJ_ImagingDiffusion_1569269141642_9x2Z8O536zybYRAcZj7B65Fko_8.zip',\n",
       "       '/gpfs/data/luilab/FITBIR_META_DATA/updated_data/DTI_Final_4bof4_092319_310/TBIWD902ZWM_ImagingDiffusion_1569269176280_MDeoIGLQ68MEsRal2l8O3bFc6_8.zip',\n",
       "       '/gpfs/data/luilab/FITBIR_META_DATA/updated_data/DTI_Final_4bof4_092319_310/TBIBL749VD6_ImagingDiffusion_1569269568682_7zNeAMKJsDdy0dRyrcRJHJ9Is_8.zip',\n",
       "       '/gpfs/data/luilab/FITBIR_META_DATA/updated_data/DTI_Final_4bof4_092319_310/TBICR008BFT_ImagingDiffusion_1569269167993_vs8G98EcDiAJKj1dm2P1ilKZc_8.zip'],\n",
       "      dtype=object)"
      ]
     },
     "execution_count": 118,
     "metadata": {},
     "output_type": "execute_result"
    }
   ],
   "source": []
  },
  {
   "cell_type": "code",
   "execution_count": 9,
   "metadata": {},
   "outputs": [],
   "source": [
    "# read demo info \n",
    "DemogrFITBIR = pd.read_csv('../common_data/query_result_DemogrFITBIR_2019-07-17T15-28-374403404190046158541.csv',low_memory=False)\n",
    "DemogrFITBIRAppdx = pd.read_csv('../common_data/query_result_DemogrFITBIR_Appdx_0000310_2019-07-17T15-33-431463475851249904201.csv',low_memory=False)\n",
    "contactsports = ['Football', 'Ice hockey', 'Lacrosse', 'Soccer']"
   ]
  },
  {
   "cell_type": "code",
   "execution_count": 18,
   "metadata": {},
   "outputs": [
    {
     "name": "stdout",
     "output_type": "stream",
     "text": [
      "(0, 139)\n",
      "(0, 139)\n",
      "(0, 139)\n"
     ]
    }
   ],
   "source": [
    "# no site name \n",
    "print(DemogrFITBIR.dropna(subset=['DemogrFITBIR.Main Group.SiteName']).shape)\n",
    "# no case/control \n",
    "print(DemogrFITBIR.dropna(subset=['DemogrFITBIR.Main Group.CaseContrlInd']).shape)\n",
    "# no adminostrator \n",
    "print(DemogrFITBIR.dropna(subset=['DemogrFITBIR.Form Administration.ContextType']).shape)"
   ]
  },
  {
   "cell_type": "code",
   "execution_count": 8,
   "metadata": {},
   "outputs": [
    {
     "data": {
      "text/plain": [
       "(array(['Control'], dtype=object), array([612]))"
      ]
     },
     "execution_count": 8,
     "metadata": {},
     "output_type": "execute_result"
    }
   ],
   "source": [
    "np.unique(all_dti_info[all_dti_info['cohort']==1]['ImagingDiffusion.Main.CaseContrlInd'].values, return_counts=True)"
   ]
  },
  {
   "cell_type": "code",
   "execution_count": 19,
   "metadata": {},
   "outputs": [
    {
     "data": {
      "text/plain": [
       "(array(['Case', 'Control'], dtype=object), array([ 40, 612]))"
      ]
     },
     "execution_count": 19,
     "metadata": {},
     "output_type": "execute_result"
    }
   ],
   "source": [
    "np.unique(all_dti_info[all_dti_info['cohort']==1]['ImagingDiffusion.Main.CaseContrlInd'].values, return_counts=True)"
   ]
  },
  {
   "cell_type": "code",
   "execution_count": 10,
   "metadata": {},
   "outputs": [
    {
     "name": "stdout",
     "output_type": "stream",
     "text": [
      "case sport type:\n",
      "[('Football', 69), ('Ice hockey', 9), ('Lacrosse', 8), ('Soccer', 28)]\n",
      "case gender type:\n",
      "[('Female', 19), ('Male', 95)]\n"
     ]
    }
   ],
   "source": [
    "allcasesids = all_dti_info.loc[all_dti_info['ImagingDiffusion.Main.CaseContrlInd'] == 'Case']\n",
    "allcasesids = allcasesids['ImagingDiffusion.Main.GUID'].values\n",
    "cases_DemogrFITBIRAppdx = DemogrFITBIRAppdx.loc[DemogrFITBIRAppdx['DemogrFITBIR_Appdx_0000310.Main.GUID'].isin(allcasesids)]\n",
    "cases_DemogrFITBIRAppdx = cases_DemogrFITBIRAppdx.drop_duplicates(subset=['DemogrFITBIR_Appdx_0000310.Main.GUID'])\n",
    "sporttypes_cases = cases_DemogrFITBIRAppdx['DemogrFITBIR_Appdx_0000310.Sport History.SportTeamParticipationTyp'].values\n",
    "sporttypes = np.unique(sporttypes_cases, return_counts=True)\n",
    "print('case sport type:')\n",
    "print(list(zip(*sporttypes)))\n",
    "genders = cases_DemogrFITBIRAppdx['DemogrFITBIR_Appdx_0000310.Demographics.GenderTypExt'].values\n",
    "genders = np.unique(genders, return_counts=True)\n",
    "print('case gender type:')\n",
    "print(list(zip(*genders)))\n"
   ]
  },
  {
   "cell_type": "code",
   "execution_count": 11,
   "metadata": {},
   "outputs": [
    {
     "name": "stdout",
     "output_type": "stream",
     "text": [
      "case sport type:\n",
      "[('Baseball', 37), ('Basketball', 12), ('Cross Country', 37), ('Field Event', 8), ('Football', 62), ('Ice hockey', 8), ('Lacrosse', 6), ('Soccer', 27), ('Softball', 7)]\n",
      "case gender type:\n",
      "[('Female', 40), ('Male', 164)]\n"
     ]
    }
   ],
   "source": [
    "allcontrolids = all_dti_info.loc[all_dti_info['ImagingDiffusion.Main.CaseContrlInd'] == 'Control']\n",
    "allcontrolids = allcontrolids['ImagingDiffusion.Main.GUID'].values\n",
    "allcontrol_DemogrFITBIRAppdx = DemogrFITBIRAppdx.loc[DemogrFITBIRAppdx['DemogrFITBIR_Appdx_0000310.Main.GUID'].isin(allcontrolids)]\n",
    "allcontrol_DemogrFITBIRAppdx = allcontrol_DemogrFITBIRAppdx.drop_duplicates(subset=['DemogrFITBIR_Appdx_0000310.Main.GUID'])\n",
    "sporttypes_control = allcontrol_DemogrFITBIRAppdx['DemogrFITBIR_Appdx_0000310.Sport History.SportTeamParticipationTyp'].values\n",
    "sporttypes = np.unique(sporttypes_control, return_counts=True)\n",
    "print('case sport type:')\n",
    "print(list(zip(*sporttypes)))\n",
    "genders = allcontrol_DemogrFITBIRAppdx['DemogrFITBIR_Appdx_0000310.Demographics.GenderTypExt'].values\n",
    "genders = np.unique(genders, return_counts=True)\n",
    "print('case gender type:')\n",
    "print(list(zip(*genders)))"
   ]
  },
  {
   "cell_type": "code",
   "execution_count": 24,
   "metadata": {},
   "outputs": [
    {
     "data": {
      "text/plain": [
       "204"
      ]
     },
     "execution_count": 24,
     "metadata": {},
     "output_type": "execute_result"
    }
   ],
   "source": [
    "len(set(allcontrolids))"
   ]
  },
  {
   "cell_type": "code",
   "execution_count": 27,
   "metadata": {},
   "outputs": [
    {
     "name": "stdout",
     "output_type": "stream",
     "text": [
      "103\n",
      "case sport type:\n",
      "[('Football', 62), ('Ice hockey', 8), ('Lacrosse', 6), ('Soccer', 27)]\n"
     ]
    }
   ],
   "source": [
    "allcontrol1_DemogrFITBIRAppdx = allcontrol_DemogrFITBIRAppdx.loc[\n",
    "    allcontrol_DemogrFITBIRAppdx['DemogrFITBIR_Appdx_0000310.Sport History.SportTeamParticipationTyp'].isin(contactsports)\n",
    "]\n",
    "allcontrol1ids = allcontrol1_DemogrFITBIRAppdx['DemogrFITBIR_Appdx_0000310.Main.GUID'].values\n",
    "print(len(allcontrol1ids))\n",
    "\n",
    "sporttypes = allcontrol1_DemogrFITBIRAppdx['DemogrFITBIR_Appdx_0000310.Sport History.SportTeamParticipationTyp'].values\n",
    "sporttypes = np.unique(sporttypes, return_counts=True)\n",
    "print('case sport type:')\n",
    "print(list(zip(*sporttypes)))"
   ]
  },
  {
   "cell_type": "code",
   "execution_count": 28,
   "metadata": {},
   "outputs": [
    {
     "name": "stdout",
     "output_type": "stream",
     "text": [
      "101\n",
      "case sport type:\n",
      "[('Baseball', 37), ('Basketball', 12), ('Cross Country', 37), ('Field Event', 8), ('Softball', 7)]\n"
     ]
    }
   ],
   "source": [
    "allcontrol2_DemogrFITBIRAppdx = allcontrol_DemogrFITBIRAppdx.loc[\n",
    "    ~allcontrol_DemogrFITBIRAppdx['DemogrFITBIR_Appdx_0000310.Sport History.SportTeamParticipationTyp'].isin(contactsports)\n",
    "]\n",
    "allcontrol2ids = allcontrol2_DemogrFITBIRAppdx['DemogrFITBIR_Appdx_0000310.Main.GUID'].values\n",
    "print(len(allcontrol2ids))\n",
    "\n",
    "sporttypes = allcontrol2_DemogrFITBIRAppdx['DemogrFITBIR_Appdx_0000310.Sport History.SportTeamParticipationTyp'].values\n",
    "sporttypes = np.unique(sporttypes, return_counts=True)\n",
    "print('case sport type:')\n",
    "print(list(zip(*sporttypes)))"
   ]
  },
  {
   "cell_type": "code",
   "execution_count": 14,
   "metadata": {},
   "outputs": [
    {
     "name": "stdout",
     "output_type": "stream",
     "text": [
      "set()\n",
      "{'TBIZK127XMX', 'TBIJP385UKW', 'TBITC277FAU', 'TBIRH053MLX', 'TBIJY283VKB', 'TBICC177VED', 'TBIHK689VAG'}\n",
      "set()\n"
     ]
    }
   ],
   "source": [
    "print(set(allcontrol1ids) & set(allcontrol2ids))\n",
    "print(set(allcasesids) & set(allcontrol1ids))\n",
    "print(set(allcasesids) & set(allcontrol2ids))"
   ]
  },
  {
   "cell_type": "code",
   "execution_count": 54,
   "metadata": {},
   "outputs": [
    {
     "name": "stdout",
     "output_type": "stream",
     "text": [
      "case sport type:\n",
      "[('Football', 31), ('Ice hockey', 7), ('Lacrosse', 5), ('Soccer', 15)]\n",
      "case gender type:\n",
      "[('Female', 11), ('Male', 47)]\n"
     ]
    }
   ],
   "source": [
    "casesids = avail_dti_info.loc[avail_dti_info['ImagingDiffusion.Main.CaseContrlInd'] == 'Case']\n",
    "casesids = casesids['ImagingDiffusion.Main.GUID'].values\n",
    "cases_DemogrFITBIRAppdx = DemogrFITBIRAppdx.loc[DemogrFITBIRAppdx['DemogrFITBIR_Appdx_0000310.Main.GUID'].isin(casesids)]\n",
    "cases_DemogrFITBIRAppdx = cases_DemogrFITBIRAppdx.drop_duplicates(subset=['DemogrFITBIR_Appdx_0000310.Main.GUID'])\n",
    "sporttypes_cases = cases_DemogrFITBIRAppdx['DemogrFITBIR_Appdx_0000310.Sport History.SportTeamParticipationTyp'].values\n",
    "sporttypes = np.unique(sporttypes_cases, return_counts=True)\n",
    "print('case sport type:')\n",
    "print(list(zip(*sporttypes)))\n",
    "genders = cases_DemogrFITBIRAppdx['DemogrFITBIR_Appdx_0000310.Demographics.GenderTypExt'].values\n",
    "genders = np.unique(genders, return_counts=True)\n",
    "print('case gender type:')\n",
    "print(list(zip(*genders)))"
   ]
  },
  {
   "cell_type": "code",
   "execution_count": 55,
   "metadata": {},
   "outputs": [
    {
     "name": "stdout",
     "output_type": "stream",
     "text": [
      "control sport type:\n",
      "[('Baseball', 23), ('Basketball', 3), ('Cross Country', 15), ('Field Event', 3), ('Football', 21), ('Ice hockey', 5), ('Lacrosse', 5), ('Soccer', 11), ('Softball', 3)]\n"
     ]
    }
   ],
   "source": [
    "controlids = avail_dti_info.loc[avail_dti_info['ImagingDiffusion.Main.CaseContrlInd'] == 'Control']\n",
    "controlids = controlids['ImagingDiffusion.Main.GUID'].values\n",
    "control_DemogrFITBIRAppdx = DemogrFITBIRAppdx.loc[DemogrFITBIRAppdx['DemogrFITBIR_Appdx_0000310.Main.GUID'].isin(controlids)]\n",
    "control_DemogrFITBIRAppdx = control_DemogrFITBIRAppdx.drop_duplicates(subset=['DemogrFITBIR_Appdx_0000310.Main.GUID'])\n",
    "sporttypes_control = control_DemogrFITBIRAppdx['DemogrFITBIR_Appdx_0000310.Sport History.SportTeamParticipationTyp'].values\n",
    "sporttypes = np.unique(sporttypes_control, return_counts=True)\n",
    "print('control sport type:')\n",
    "print(list(zip(*sporttypes)))\n",
    "\n",
    "\n"
   ]
  },
  {
   "cell_type": "code",
   "execution_count": 56,
   "metadata": {},
   "outputs": [
    {
     "data": {
      "text/plain": [
       "42"
      ]
     },
     "execution_count": 56,
     "metadata": {},
     "output_type": "execute_result"
    }
   ],
   "source": [
    "control1_DemogrFITBIRAppdx = control_DemogrFITBIRAppdx.loc[\n",
    "    control_DemogrFITBIRAppdx['DemogrFITBIR_Appdx_0000310.Sport History.SportTeamParticipationTyp'].isin(contactsports)\n",
    "]\n",
    "control1ids = control1_DemogrFITBIRAppdx['DemogrFITBIR_Appdx_0000310.Main.GUID'].values\n",
    "len(control1ids)\n",
    "\n"
   ]
  },
  {
   "cell_type": "code",
   "execution_count": 57,
   "metadata": {},
   "outputs": [
    {
     "data": {
      "text/plain": [
       "47"
      ]
     },
     "execution_count": 57,
     "metadata": {},
     "output_type": "execute_result"
    }
   ],
   "source": [
    "control2_DemogrFITBIRAppdx = control_DemogrFITBIRAppdx.loc[~control_DemogrFITBIRAppdx['DemogrFITBIR_Appdx_0000310.Sport History.SportTeamParticipationTyp'].isin(contactsports)]\n",
    "control2ids = control2_DemogrFITBIRAppdx['DemogrFITBIR_Appdx_0000310.Main.GUID'].values\n",
    "len(control2ids)"
   ]
  },
  {
   "cell_type": "code",
   "execution_count": 63,
   "metadata": {},
   "outputs": [],
   "source": [
    "control2_male = control2_DemogrFITBIRAppdx[control2_DemogrFITBIRAppdx['DemogrFITBIR_Appdx_0000310.Demographics.GenderTypExt'] == 'Male']\n",
    "control2_male_ids = control2_male['DemogrFITBIR_Appdx_0000310.Main.GUID'].values\n"
   ]
  },
  {
   "cell_type": "code",
   "execution_count": 68,
   "metadata": {},
   "outputs": [],
   "source": [
    "control2_male_dti_info = avail_dti_info[avail_dti_info['ImagingDiffusion.Main.GUID'].isin(control2_male_ids)]"
   ]
  },
  {
   "cell_type": "code",
   "execution_count": 69,
   "metadata": {},
   "outputs": [],
   "source": [
    "control2_male_dti_info.to_csv('control2_male_dti_info.csv')"
   ]
  },
  {
   "cell_type": "code",
   "execution_count": 37,
   "metadata": {},
   "outputs": [
    {
     "data": {
      "text/html": [
       "<div>\n",
       "<style scoped>\n",
       "    .dataframe tbody tr th:only-of-type {\n",
       "        vertical-align: middle;\n",
       "    }\n",
       "\n",
       "    .dataframe tbody tr th {\n",
       "        vertical-align: top;\n",
       "    }\n",
       "\n",
       "    .dataframe thead th {\n",
       "        text-align: right;\n",
       "    }\n",
       "</style>\n",
       "<table border=\"1\" class=\"dataframe\">\n",
       "  <thead>\n",
       "    <tr style=\"text-align: right;\">\n",
       "      <th></th>\n",
       "      <th>ImagingDiffusion.Main.GUID</th>\n",
       "      <th>ImagingDiffusion.Main.SubjectIDNum</th>\n",
       "      <th>ImagingDiffusion.Main.CaseContrlInd</th>\n",
       "      <th>cohort</th>\n",
       "    </tr>\n",
       "  </thead>\n",
       "  <tbody>\n",
       "    <tr>\n",
       "      <th>1047</th>\n",
       "      <td>TBIJY283VKB</td>\n",
       "      <td>1833.0</td>\n",
       "      <td>Case</td>\n",
       "      <td>0</td>\n",
       "    </tr>\n",
       "    <tr>\n",
       "      <th>1086</th>\n",
       "      <td>TBIJY283VKB</td>\n",
       "      <td>1449.0</td>\n",
       "      <td>Control</td>\n",
       "      <td>1</td>\n",
       "    </tr>\n",
       "    <tr>\n",
       "      <th>1109</th>\n",
       "      <td>TBIJY283VKB</td>\n",
       "      <td>1833.0</td>\n",
       "      <td>Case</td>\n",
       "      <td>0</td>\n",
       "    </tr>\n",
       "    <tr>\n",
       "      <th>1140</th>\n",
       "      <td>TBIJY283VKB</td>\n",
       "      <td>1833.0</td>\n",
       "      <td>Case</td>\n",
       "      <td>0</td>\n",
       "    </tr>\n",
       "    <tr>\n",
       "      <th>1179</th>\n",
       "      <td>TBIJY283VKB</td>\n",
       "      <td>1449.0</td>\n",
       "      <td>Control</td>\n",
       "      <td>1</td>\n",
       "    </tr>\n",
       "    <tr>\n",
       "      <th>1210</th>\n",
       "      <td>TBIJY283VKB</td>\n",
       "      <td>1449.0</td>\n",
       "      <td>Control</td>\n",
       "      <td>1</td>\n",
       "    </tr>\n",
       "    <tr>\n",
       "      <th>1233</th>\n",
       "      <td>TBIJY283VKB</td>\n",
       "      <td>1833.0</td>\n",
       "      <td>Case</td>\n",
       "      <td>0</td>\n",
       "    </tr>\n",
       "    <tr>\n",
       "      <th>1248</th>\n",
       "      <td>TBIJY283VKB</td>\n",
       "      <td>1833.0</td>\n",
       "      <td>Case</td>\n",
       "      <td>0</td>\n",
       "    </tr>\n",
       "    <tr>\n",
       "      <th>1295</th>\n",
       "      <td>TBIJY283VKB</td>\n",
       "      <td>1449.0</td>\n",
       "      <td>Control</td>\n",
       "      <td>1</td>\n",
       "    </tr>\n",
       "    <tr>\n",
       "      <th>1326</th>\n",
       "      <td>TBIJY283VKB</td>\n",
       "      <td>1833.0</td>\n",
       "      <td>Case</td>\n",
       "      <td>0</td>\n",
       "    </tr>\n",
       "    <tr>\n",
       "      <th>1365</th>\n",
       "      <td>TBIJY283VKB</td>\n",
       "      <td>1449.0</td>\n",
       "      <td>Control</td>\n",
       "      <td>1</td>\n",
       "    </tr>\n",
       "    <tr>\n",
       "      <th>1427</th>\n",
       "      <td>TBIJY283VKB</td>\n",
       "      <td>1833.0</td>\n",
       "      <td>Case</td>\n",
       "      <td>0</td>\n",
       "    </tr>\n",
       "    <tr>\n",
       "      <th>1434</th>\n",
       "      <td>TBIJY283VKB</td>\n",
       "      <td>1833.0</td>\n",
       "      <td>Case</td>\n",
       "      <td>0</td>\n",
       "    </tr>\n",
       "    <tr>\n",
       "      <th>1477</th>\n",
       "      <td>TBIJY283VKB</td>\n",
       "      <td>1449.0</td>\n",
       "      <td>Control</td>\n",
       "      <td>1</td>\n",
       "    </tr>\n",
       "  </tbody>\n",
       "</table>\n",
       "</div>"
      ],
      "text/plain": [
       "     ImagingDiffusion.Main.GUID  ImagingDiffusion.Main.SubjectIDNum  \\\n",
       "1047                TBIJY283VKB                              1833.0   \n",
       "1086                TBIJY283VKB                              1449.0   \n",
       "1109                TBIJY283VKB                              1833.0   \n",
       "1140                TBIJY283VKB                              1833.0   \n",
       "1179                TBIJY283VKB                              1449.0   \n",
       "1210                TBIJY283VKB                              1449.0   \n",
       "1233                TBIJY283VKB                              1833.0   \n",
       "1248                TBIJY283VKB                              1833.0   \n",
       "1295                TBIJY283VKB                              1449.0   \n",
       "1326                TBIJY283VKB                              1833.0   \n",
       "1365                TBIJY283VKB                              1449.0   \n",
       "1427                TBIJY283VKB                              1833.0   \n",
       "1434                TBIJY283VKB                              1833.0   \n",
       "1477                TBIJY283VKB                              1449.0   \n",
       "\n",
       "     ImagingDiffusion.Main.CaseContrlInd  cohort  \n",
       "1047                                Case       0  \n",
       "1086                             Control       1  \n",
       "1109                                Case       0  \n",
       "1140                                Case       0  \n",
       "1179                             Control       1  \n",
       "1210                             Control       1  \n",
       "1233                                Case       0  \n",
       "1248                                Case       0  \n",
       "1295                             Control       1  \n",
       "1326                                Case       0  \n",
       "1365                             Control       1  \n",
       "1427                                Case       0  \n",
       "1434                                Case       0  \n",
       "1477                             Control       1  "
      ]
     },
     "execution_count": 37,
     "metadata": {},
     "output_type": "execute_result"
    }
   ],
   "source": [
    "all_dti_info[all_dti_info['ImagingDiffusion.Main.GUID'] == 'TBIJY283VKB'][['ImagingDiffusion.Main.GUID','ImagingDiffusion.Main.SubjectIDNum','ImagingDiffusion.Main.CaseContrlInd','cohort']]\n"
   ]
  },
  {
   "cell_type": "code",
   "execution_count": 38,
   "metadata": {},
   "outputs": [
    {
     "data": {
      "text/plain": [
       "{'TBITC277FAU'}"
      ]
     },
     "execution_count": 38,
     "metadata": {},
     "output_type": "execute_result"
    }
   ],
   "source": [
    "set(avail_dti_info['ImagingDiffusion.Main.GUID'].values) & set(['TBIZK127XMX', 'TBIJP385UKW', 'TBITC277FAU', 'TBIRH053MLX', 'TBIJY283VKB', 'TBICC177VED', 'TBIHK689VAG'])"
   ]
  },
  {
   "cell_type": "code",
   "execution_count": null,
   "metadata": {},
   "outputs": [],
   "source": [
    "'TBITC277FAU'"
   ]
  },
  {
   "cell_type": "code",
   "execution_count": 41,
   "metadata": {},
   "outputs": [
    {
     "data": {
      "text/html": [
       "<div>\n",
       "<style scoped>\n",
       "    .dataframe tbody tr th:only-of-type {\n",
       "        vertical-align: middle;\n",
       "    }\n",
       "\n",
       "    .dataframe tbody tr th {\n",
       "        vertical-align: top;\n",
       "    }\n",
       "\n",
       "    .dataframe thead th {\n",
       "        text-align: right;\n",
       "    }\n",
       "</style>\n",
       "<table border=\"1\" class=\"dataframe\">\n",
       "  <thead>\n",
       "    <tr style=\"text-align: right;\">\n",
       "      <th></th>\n",
       "      <th>ImagingDiffusion.Main.GUID</th>\n",
       "      <th>ImagingDiffusion.Main.SubjectIDNum</th>\n",
       "      <th>ImagingDiffusion.Main.GeneralNotesTxt</th>\n",
       "      <th>ImagingDiffusion.Main.CaseContrlInd</th>\n",
       "      <th>cohort</th>\n",
       "    </tr>\n",
       "  </thead>\n",
       "  <tbody>\n",
       "    <tr>\n",
       "      <th>50</th>\n",
       "      <td>TBITC277FAU</td>\n",
       "      <td>2481.0</td>\n",
       "      <td>24-48 hours</td>\n",
       "      <td>Case</td>\n",
       "      <td>0</td>\n",
       "    </tr>\n",
       "    <tr>\n",
       "      <th>88</th>\n",
       "      <td>TBITC277FAU</td>\n",
       "      <td>2106.0</td>\n",
       "      <td>7 days Post-Unrestricted Return to Play</td>\n",
       "      <td>Control</td>\n",
       "      <td>1</td>\n",
       "    </tr>\n",
       "    <tr>\n",
       "      <th>184</th>\n",
       "      <td>TBITC277FAU</td>\n",
       "      <td>2841.0</td>\n",
       "      <td>Asymptomatic</td>\n",
       "      <td>Case</td>\n",
       "      <td>0</td>\n",
       "    </tr>\n",
       "    <tr>\n",
       "      <th>238</th>\n",
       "      <td>TBITC277FAU</td>\n",
       "      <td>2481.0</td>\n",
       "      <td>7 days Post-Unrestricted Return to Play</td>\n",
       "      <td>Case</td>\n",
       "      <td>0</td>\n",
       "    </tr>\n",
       "    <tr>\n",
       "      <th>309</th>\n",
       "      <td>TBITC277FAU</td>\n",
       "      <td>2841.0</td>\n",
       "      <td>24-48 hours</td>\n",
       "      <td>Case</td>\n",
       "      <td>0</td>\n",
       "    </tr>\n",
       "    <tr>\n",
       "      <th>363</th>\n",
       "      <td>TBITC277FAU</td>\n",
       "      <td>2481.0</td>\n",
       "      <td>Asymptomatic</td>\n",
       "      <td>Case</td>\n",
       "      <td>0</td>\n",
       "    </tr>\n",
       "    <tr>\n",
       "      <th>426</th>\n",
       "      <td>TBITC277FAU</td>\n",
       "      <td>2106.0</td>\n",
       "      <td>24-48 hours</td>\n",
       "      <td>Control</td>\n",
       "      <td>1</td>\n",
       "    </tr>\n",
       "    <tr>\n",
       "      <th>496</th>\n",
       "      <td>TBITC277FAU</td>\n",
       "      <td>2106.0</td>\n",
       "      <td>Asymptomatic</td>\n",
       "      <td>Control</td>\n",
       "      <td>1</td>\n",
       "    </tr>\n",
       "  </tbody>\n",
       "</table>\n",
       "</div>"
      ],
      "text/plain": [
       "    ImagingDiffusion.Main.GUID  ImagingDiffusion.Main.SubjectIDNum  \\\n",
       "50                 TBITC277FAU                              2481.0   \n",
       "88                 TBITC277FAU                              2106.0   \n",
       "184                TBITC277FAU                              2841.0   \n",
       "238                TBITC277FAU                              2481.0   \n",
       "309                TBITC277FAU                              2841.0   \n",
       "363                TBITC277FAU                              2481.0   \n",
       "426                TBITC277FAU                              2106.0   \n",
       "496                TBITC277FAU                              2106.0   \n",
       "\n",
       "       ImagingDiffusion.Main.GeneralNotesTxt  \\\n",
       "50                               24-48 hours   \n",
       "88   7 days Post-Unrestricted Return to Play   \n",
       "184                             Asymptomatic   \n",
       "238  7 days Post-Unrestricted Return to Play   \n",
       "309                              24-48 hours   \n",
       "363                             Asymptomatic   \n",
       "426                              24-48 hours   \n",
       "496                             Asymptomatic   \n",
       "\n",
       "    ImagingDiffusion.Main.CaseContrlInd  cohort  \n",
       "50                                 Case       0  \n",
       "88                              Control       1  \n",
       "184                                Case       0  \n",
       "238                                Case       0  \n",
       "309                                Case       0  \n",
       "363                                Case       0  \n",
       "426                             Control       1  \n",
       "496                             Control       1  "
      ]
     },
     "execution_count": 41,
     "metadata": {},
     "output_type": "execute_result"
    }
   ],
   "source": [
    "avail_dti_info[avail_dti_info['ImagingDiffusion.Main.GUID']=='TBITC277FAU'][['ImagingDiffusion.Main.GUID','ImagingDiffusion.Main.SubjectIDNum','ImagingDiffusion.Main.GeneralNotesTxt','ImagingDiffusion.Main.CaseContrlInd','cohort']]"
   ]
  },
  {
   "cell_type": "code",
   "execution_count": 43,
   "metadata": {},
   "outputs": [
    {
     "data": {
      "text/plain": [
       "array(['/gpfs/data/luilab/FITBIR_META_DATA/updated_data/DTI_Final_1of4_082819_310/TBITC277FAU_ImagingDiffusion_1566919223568_jTc7tFlkGjkGiRzIpTJfBKQ39_11.zip',\n",
       "       '/gpfs/data/luilab/FITBIR_META_DATA/updated_data/DTI_Final_1of4_082819_310/TBITC277FAU_ImagingDiffusion_1566919223196_NHYgrnWwohTTwgiz79PHLe1E5_11.zip',\n",
       "       '/gpfs/data/luilab/FITBIR_META_DATA/updated_data/DTI_Final_1of4_082819_310/TBITC277FAU_ImagingDiffusion_1566919225448_raVRpLzdOQzKpFOPiGsEyldJ5_11.zip',\n",
       "       '/gpfs/data/luilab/FITBIR_META_DATA/updated_data/DTI_Final_1of4_082819_310/TBITC277FAU_ImagingDiffusion_1566919224630_BpniwCqJKI1XbyMA870sjr2Xt_11.zip',\n",
       "       '/gpfs/data/luilab/FITBIR_META_DATA/updated_data/DTI_Final_1of4_082819_310/TBITC277FAU_ImagingDiffusion_1566919224814_sfEOn3LwyatY7VBKEoD3xPkHi_11.zip',\n",
       "       '/gpfs/data/luilab/FITBIR_META_DATA/updated_data/DTI_Final_1of4_082819_310/TBITC277FAU_ImagingDiffusion_1566919224189_PP2bptNl09Jv0JharoJH6kbC1_11.zip',\n",
       "       '/gpfs/data/luilab/FITBIR_META_DATA/updated_data/DTI_Final_1of4_082819_310/TBITC277FAU_ImagingDiffusion_1566919221810_GuMPIOAmeJIUuURLkzM9i2Hfe_11.zip',\n",
       "       '/gpfs/data/luilab/FITBIR_META_DATA/updated_data/DTI_Final_1of4_082819_310/TBITC277FAU_ImagingDiffusion_1566919222593_9qydCcSkMTUxOHE0c1XAziE9s_11.zip'],\n",
       "      dtype=object)"
      ]
     },
     "execution_count": 43,
     "metadata": {},
     "output_type": "execute_result"
    }
   ],
   "source": [
    "avail_dti_info[avail_dti_info['ImagingDiffusion.Main.GUID']=='TBITC277FAU']['save_dir'].values"
   ]
  },
  {
   "cell_type": "code",
   "execution_count": null,
   "metadata": {},
   "outputs": [],
   "source": []
  }
 ],
 "metadata": {
  "kernelspec": {
   "display_name": "Python 3",
   "language": "python",
   "name": "python3"
  },
  "language_info": {
   "codemirror_mode": {
    "name": "ipython",
    "version": 3
   },
   "file_extension": ".py",
   "mimetype": "text/x-python",
   "name": "python",
   "nbconvert_exporter": "python",
   "pygments_lexer": "ipython3",
   "version": "3.8.5"
  }
 },
 "nbformat": 4,
 "nbformat_minor": 4
}
