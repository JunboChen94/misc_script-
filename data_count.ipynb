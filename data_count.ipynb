{
 "cells": [
  {
   "cell_type": "code",
   "execution_count": 1,
   "metadata": {},
   "outputs": [],
   "source": [
    "import os \n",
    "from util import find_nth"
   ]
  },
  {
   "cell_type": "markdown",
   "metadata": {},
   "source": [
    "Check the PhaseEncoding Direction"
   ]
  },
  {
   "cell_type": "code",
   "execution_count": 2,
   "metadata": {},
   "outputs": [],
   "source": [
    "PATH = \"../nifti/\""
   ]
  },
  {
   "cell_type": "code",
   "execution_count": 3,
   "metadata": {},
   "outputs": [
    {
     "name": "stdout",
     "output_type": "stream",
     "text": [
      "['../nifti/DTI_Final_3cof4', '../nifti/DTI_Final_1of4', '../nifti/DTI_Final_3aof4', '../nifti/DTI_Final_4bof4', '../nifti/DTI_Final_3bof4']\n"
     ]
    }
   ],
   "source": [
    "BatchFolders = [os.path.join(PATH, x) for x in os.listdir(PATH) if os.path.isdir(os.path.join(PATH, x))]\n",
    "print(BatchFolders)"
   ]
  },
  {
   "cell_type": "code",
   "execution_count": 33,
   "metadata": {},
   "outputs": [],
   "source": [
    "def find_PE(path):\n",
    "    found = False\n",
    "    for i, level in enumerate(os.walk(path)):\n",
    "        if \"scans\" not in level[0]:\n",
    "            continue\n",
    "        if len(level[1]) > 1:\n",
    "            print(\"more than one dir\")\n",
    "        PE_coding = level[1][0]\n",
    "        start = max(find_nth(PE_coding, 'b0', 1), \\\n",
    "                    find_nth(PE_coding, 'b1000', 1),\\\n",
    "                    find_nth(PE_coding, 'b2000', 1))\n",
    "        start = PE_coding.find(\"_\", start)\n",
    "        PE = PE_coding[start+1:start+3]\n",
    "        #PE = PE_coding[-4:-2] if \"_\" in PE_coding[-2:] else PE_coding[-2:]\n",
    "        if PE not in ['AP', 'PA']:\n",
    "            print(PE_coding)\n",
    "        return PE\n",
    "    print(path)\n",
    "    return \"N/A\"\n",
    "\n",
    "def if_contains_nii(path):\n",
    "    for i, level in enumerate(os.walk(path)):\n",
    "        if any('.nii' in x for x in level[2]):\n",
    "            return 1\n",
    "    return 0"
   ]
  },
  {
   "cell_type": "code",
   "execution_count": 42,
   "metadata": {},
   "outputs": [
    {
     "name": "stdout",
     "output_type": "stream",
     "text": [
      "11-SB_DTI_MCW\n",
      "11-SB_DTI_MCW\n",
      "12-SB_DTI_MCW\n",
      "11-SB_DTI_MCW\n",
      "11-SB_DTI_MCW\n",
      "15-SB_DTI_MCW\n",
      "12-SB_DTI_MCW\n",
      "11-SB_DTI_MCW\n",
      "11-SB_DTI_MCW\n",
      "11-SB_DTI_MCW\n",
      "11-SB_DTI_MCW\n",
      "12-SB_DTI_MCW\n",
      "11-SB_DTI_MCW\n",
      "11-SB_DTI_MCW\n",
      "11-SB_DTI_MCW\n",
      "15-SB_DTI_MCW\n",
      "11-SB_DTI_MCW\n",
      "11-SB_DTI_MCW\n",
      "11-SB_DTI_MCW\n",
      "11-SB_DTI_MCW\n",
      "11-SB_DTI_MCW\n",
      "12-SB_DTI_MCW\n",
      "11-SB_DTI_MCW\n",
      "11-SB_DTI_MCW\n",
      "12-SB_DTI_MCW\n",
      "11-SB_DTI_MCW\n",
      "11-SB_DTI_MCW\n",
      "11-SB_DTI_MCW\n",
      "11-SB_DTI_MCW\n",
      "11-SB_DTI_MCW\n",
      "11-SB_DTI_MCW\n",
      "11-SB_DTI_MCW\n",
      "11-SB_DTI_MCW\n",
      "11-SB_DTI_MCW\n",
      "11-SB_DTI_MCW\n",
      "../nifti/DTI_Final_1of4/.ipynb_checkpoints\n",
      "11-SB_DTI_MCW\n",
      "11-SB_DTI_MCW\n",
      "11-SB_DTI_MCW\n",
      "12-SB_DTI_MCW\n",
      "11-SB_DTI_MCW\n",
      "12-SB_DTI_MCW\n",
      "11-SB_DTI_MCW\n",
      "11-SB_DTI_MCW\n",
      "12-SB_DTI_MCW\n",
      "11-SB_DTI_MCW\n",
      "11-SB_DTI_MCW\n",
      "11-SB_DTI_MCW\n",
      "11-SB_DTI_MCW\n",
      "11-SB_DTI_MCW\n",
      "11-SB_DTI_MCW\n",
      "11-SB_DTI_MCW\n",
      "11-SB_DTI_MCW\n",
      "11-SB_DTI_MCW\n",
      "11-SB_DTI_MCW\n",
      "11-SB_DTI_MCW\n",
      "11-SB_DTI_MCW\n",
      "11-SB_DTI_MCW\n",
      "11-SB_DTI_MCW\n",
      "12-SB_DTI_MCW\n",
      "11-SB_DTI_MCW\n",
      "11-SB_DTI_MCW\n",
      "11-SB_DTI_MCW\n",
      "11-SB_DTI_MCW\n",
      "11-SB_DTI_MCW\n",
      "11-SB_DTI_MCW\n",
      "11-SB_DTI_MCW\n",
      "11-SB_DTI_MCW\n",
      "12-SB_DTI_MCW\n",
      "11-SB_DTI_MCW\n",
      "11-SB_DTI_MCW\n",
      "11-SB_DTI_MCW\n",
      "11-SB_DTI_MCW\n",
      "11-SB_DTI_MCW\n",
      "11-SB_DTI_MCW\n",
      "11-SB_DTI_MCW\n",
      "11-SB_DTI_MCW\n",
      "13-SB_DTI_MCW\n",
      "11-SB_DTI_MCW\n",
      "11-SB_DTI_MCW\n",
      "11-SB_DTI_MCW\n",
      "11-SB_DTI_MCW\n",
      "12-SB_DTI_MCW\n",
      "11-SB_DTI_MCW\n",
      "11-SB_DTI_MCW\n",
      "11-SB_DTI_MCW\n",
      "11-SB_DTI_MCW\n",
      "11-SB_DTI_MCW\n",
      "11-SB_DTI_MCW\n",
      "11-SB_DTI_MCW\n",
      "11-SB_DTI_MCW\n",
      "11-SB_DTI_MCW\n",
      "11-SB_DTI_MCW\n",
      "11-SB_DTI_MCW\n",
      "11-SB_DTI_MCW\n",
      "11-SB_DTI_MCW\n",
      "11-SB_DTI_MCW\n",
      "11-SB_DTI_MCW\n",
      "11-SB_DTI_MCW\n",
      "11-SB_DTI_MCW\n",
      "11-SB_DTI_MCW\n",
      "11-SB_DTI_MCW\n",
      "11-SB_DTI_MCW\n",
      "12-SB_DTI_MCW\n",
      "11-SB_DTI_MCW\n",
      "11-SB_DTI_MCW\n",
      "11-SB_DTI_MCW\n",
      "11-SB_DTI_MCW\n",
      "11-SB_DTI_MCW\n",
      "12-SB_DTI_MCW\n",
      "11-SB_DTI_MCW\n",
      "11-SB_DTI_MCW\n",
      "11-SB_DTI_MCW\n",
      "11-SB_DTI_MCW\n",
      "11-SB_DTI_MCW\n",
      "11-SB_DTI_MCW\n",
      "11-SB_DTI_MCW\n",
      "11-SB_DTI_MCW\n",
      "11-SB_DTI_MCW\n",
      "11-SB_DTI_MCW\n"
     ]
    }
   ],
   "source": [
    "PE_total = []\n",
    "zip_PE_pairs_total = []\n",
    "zip_nii_total = []\n",
    "for batchfolder in BatchFolders:\n",
    "    zipfolders = [os.path.join(batchfolder, x) for x in os.listdir(batchfolder)]\n",
    "    zipfolders = [x for x in zipfolders if os.path.isdir(x)]\n",
    "    PEs = list(map(find_PE, zipfolders))\n",
    "    PE_total.append(PEs)\n",
    "    zip_PE_pairs_total.append(list(zip(zipfolders, PEs)))\n",
    "    contains_niis = list(map(if_contains_nii, zipfolders))\n",
    "    zip_nii_total.append(list(zip(zipfolders, contains_niis)))\n",
    "    "
   ]
  },
  {
   "cell_type": "code",
   "execution_count": 43,
   "metadata": {},
   "outputs": [],
   "source": [
    "import numpy as np"
   ]
  },
  {
   "cell_type": "code",
   "execution_count": 44,
   "metadata": {},
   "outputs": [
    {
     "name": "stdout",
     "output_type": "stream",
     "text": [
      "(array(['11', '12', '13', '15', 'AP', 'N/A', 'PA'], dtype='<U3'), array([103,  13,   1,   2, 589,   1, 348]))\n",
      "119\n"
     ]
    }
   ],
   "source": [
    "PE_count = np.unique(np.concatenate(PE_total), return_counts=True)\n",
    "print(PE_count)\n",
    "print(np.sum(PE_count[1][:4]))\n",
    "zip_PE_pair = np.concatenate(zip_PE_pairs_total)"
   ]
  },
  {
   "cell_type": "code",
   "execution_count": 53,
   "metadata": {},
   "outputs": [],
   "source": [
    "zip_nii_pair = np.concatenate(zip_nii_total)"
   ]
  },
  {
   "cell_type": "code",
   "execution_count": 60,
   "metadata": {},
   "outputs": [],
   "source": [
    "zip_nii_pair = zip_nii_pair.astype('str')"
   ]
  },
  {
   "cell_type": "code",
   "execution_count": 72,
   "metadata": {},
   "outputs": [],
   "source": [
    "zip_PE_nii_pairs = np.hstack([zip_PE_pair, zip_nii_pair[:,1:2]])"
   ]
  },
  {
   "cell_type": "code",
   "execution_count": 79,
   "metadata": {},
   "outputs": [],
   "source": [
    "key, count = np.unique(zip_PE_nii_pairs[np.where(zip_PE_nii_pairs[:,2] == '1')][:,1], return_counts=True)"
   ]
  },
  {
   "cell_type": "code",
   "execution_count": 80,
   "metadata": {},
   "outputs": [
    {
     "data": {
      "text/plain": [
       "array([103,  13,   1,   2, 229, 345])"
      ]
     },
     "execution_count": 80,
     "metadata": {},
     "output_type": "execute_result"
    }
   ],
   "source": [
    "count"
   ]
  },
  {
   "cell_type": "code",
   "execution_count": 81,
   "metadata": {},
   "outputs": [
    {
     "data": {
      "text/plain": [
       "array(['11', '12', '13', '15', 'AP', 'PA'], dtype='<U67')"
      ]
     },
     "execution_count": 81,
     "metadata": {},
     "output_type": "execute_result"
    }
   ],
   "source": [
    "key"
   ]
  },
  {
   "cell_type": "code",
   "execution_count": 83,
   "metadata": {},
   "outputs": [
    {
     "data": {
      "text/plain": [
       "119"
      ]
     },
     "execution_count": 83,
     "metadata": {},
     "output_type": "execute_result"
    }
   ],
   "source": [
    "np.sum(count[:4])"
   ]
  },
  {
   "cell_type": "code",
   "execution_count": 84,
   "metadata": {},
   "outputs": [
    {
     "data": {
      "text/plain": [
       "693"
      ]
     },
     "execution_count": 84,
     "metadata": {},
     "output_type": "execute_result"
    }
   ],
   "source": [
    "119 + 229 + 345"
   ]
  },
  {
   "cell_type": "code",
   "execution_count": null,
   "metadata": {},
   "outputs": [],
   "source": []
  }
 ],
 "metadata": {
  "kernelspec": {
   "display_name": "Python 3",
   "language": "python",
   "name": "python3"
  },
  "language_info": {
   "codemirror_mode": {
    "name": "ipython",
    "version": 3
   },
   "file_extension": ".py",
   "mimetype": "text/x-python",
   "name": "python",
   "nbconvert_exporter": "python",
   "pygments_lexer": "ipython3",
   "version": "3.8.5"
  }
 },
 "nbformat": 4,
 "nbformat_minor": 2
}
